{
 "cells": [
  {
   "cell_type": "markdown",
   "id": "873904b3-2926-410a-8fc3-2ad8596568ec",
   "metadata": {},
   "source": [
    "## Run Functional Files"
   ]
  },
  {
   "cell_type": "code",
   "execution_count": 1,
   "id": "0d7a06d9-6c15-4779-98e6-08566f07cf80",
   "metadata": {
    "tags": []
   },
   "outputs": [],
   "source": [
    "%run 1_Function_Master.ipynb \n",
    "%run 2_Parameterization.ipynb"
   ]
  },
  {
   "cell_type": "markdown",
   "id": "454e2995-e7da-4633-9b84-a04c08359686",
   "metadata": {
    "tags": []
   },
   "source": [
    "## Printing Parameterization"
   ]
  },
  {
   "cell_type": "code",
   "execution_count": 2,
   "id": "eae95728-237d-4589-884b-d0093b22739c",
   "metadata": {},
   "outputs": [
    {
     "name": "stdout",
     "output_type": "stream",
     "text": [
      "╒════════════════════════════════════════╤═══════════════╤═════════════════╤═══════════════╤══════════════════════╕\n",
      "│ V_max = 1.4                            │ λ_P = 0.05    │ μ_V = 0.5       │ μ_P = 0.4     │ K_I = 1.0            │\n",
      "├────────────────────────────────────────┼───────────────┼─────────────────┼───────────────┼──────────────────────┤\n",
      "│ γ_Z = 0.4                              │ λ_Z = 0.05    │ μ_V_prime = 1.0 │ μ_delta = 0.4 │ K_h = 1.0            │\n",
      "├────────────────────────────────────────┼───────────────┼─────────────────┼───────────────┼──────────────────────┤\n",
      "│ φ = 110236.2205                        │ λ_Z_hat = 0.1 │ μ_u = 0.0       │ μ_g = 0.4     │ K_P = 2.8            │\n",
      "├────────────────────────────────────────┼───────────────┼─────────────────┼───────────────┼──────────────────────┤\n",
      "│ g = 1.4                                │ λ_E = 0.5     │ μ_r = 0.5       │ μ_Z = 0.4     │ I_0 = e - 1 = 1.7183 │\n",
      "├────────────────────────────────────────┼───────────────┼─────────────────┼───────────────┼──────────────────────┤\n",
      "│ ν_x = V_ind / (V_ind + S_ind) = 0.0028 │ δ = 0.45      │ μ_s = 1.0       │ K_N = 0.1     │ ω = 0.0              │\n",
      "╘════════════════════════════════════════╧═══════════════╧═════════════════╧═══════════════╧══════════════════════╛\n"
     ]
    }
   ],
   "source": [
    "print_parameterization(param)"
   ]
  },
  {
   "cell_type": "markdown",
   "id": "ec4758ff-9ba8-4176-8c58-1c5757ba7a99",
   "metadata": {
    "tags": []
   },
   "source": [
    "## Running Simulations"
   ]
  },
  {
   "cell_type": "markdown",
   "id": "320d7b02-a753-4156-b8cd-533834270df8",
   "metadata": {},
   "source": [
    "### Defining Criteria for the Numerical Integrartion Scheme"
   ]
  },
  {
   "cell_type": "code",
   "execution_count": 3,
   "id": "9f2100b6-88a2-4ea9-b9a3-40c380f7820c",
   "metadata": {},
   "outputs": [],
   "source": [
    "# Defining length of time span\n",
    "t_span = 500 # days\n",
    "\n",
    "# How many simulations desired \n",
    "points = 200 # i.e. 200 different total N levels\n",
    "\n",
    "# In what range of total N\n",
    "N_t = np.logspace(-4, 1, points) * 2 # 2e-4 - 20\n",
    "\n",
    "# Numerical integration specifics\n",
    "max_step   = .1\n",
    "method     = 'LSODA'\n",
    "tolerances = [1e-8, 1e-8, 1e-12, 1e-8, 1e-8, 1e-10, 1e-10]"
   ]
  },
  {
   "cell_type": "markdown",
   "id": "91799adb-7582-44d9-a20e-469dbbedf818",
   "metadata": {},
   "source": [
    "### Running Simulations - Loop Over Total N Values"
   ]
  },
  {
   "cell_type": "code",
   "execution_count": 4,
   "id": "31a784fb-1fd6-4516-b985-da681e4603e6",
   "metadata": {
    "tags": []
   },
   "outputs": [
    {
     "name": "stdout",
     "output_type": "stream",
     "text": [
      "CPU times: user 6.88 s, sys: 147 ms, total: 7.03 s\n",
      "Wall time: 7.07 s\n"
     ]
    },
    {
     "data": {
      "text/plain": [
       "200"
      ]
     },
     "execution_count": 4,
     "metadata": {},
     "output_type": "execute_result"
    }
   ],
   "source": [
    "%%time\n",
    "# ^ 200 solutions should take about 7 seconds to generate\n",
    "\n",
    "# Initializing an empty list that holds the generated solutions\n",
    "sols = []\n",
    "\n",
    "# Initial conditions of state variables that don't change\n",
    "Nn_0 = 0.\n",
    "Pi_0 = 0.\n",
    "Vi_0 = 0.\n",
    "\n",
    "# Running loop over desired total N values\n",
    "for Nt_0 in N_t:\n",
    "    \n",
    "    # Define initial phytoplankton and zoolplankton \n",
    "    # concentrations as percentages of given total N\n",
    "    Pu_0 = .1 * Nt_0  \n",
    "    Z_0  = .2 * Nt_0\n",
    "\n",
    "    # Initialize free viral abundance based off\n",
    "    # initial phytoplankton concentration\n",
    "    r = 1/10 # ratio of hosts:free-virus \n",
    "    Ve_0 = est_viral_abund(r, Pu_0, alpha, beta, S_ind, V_ind)\n",
    "\n",
    "    # Define nutrient pool as remaining concentration\n",
    "    Nr_0 = Nt_0 - (Pu_0 + Z_0 + Ve_0)\n",
    "\n",
    "    # Define initial condition array to pass to numerical integrator\n",
    "    z0 = [Nn_0, Nr_0, Pu_0, Pi_0, Z_0, Vi_0, Ve_0]\n",
    "\n",
    "    # Run numerical integration scheme\n",
    "    solution = solve_ivp(model, [0, t_span], z0, args=param,\n",
    "                         max_step=max_step, method=method, atol=tolerances)     \n",
    "    \n",
    "    # Returns list of initial conditions + solution object\n",
    "    sols.append((z0, solution))\n",
    "\n",
    "len(sols)"
   ]
  },
  {
   "cell_type": "code",
   "execution_count": 5,
   "id": "a492ad37-3d66-4d3a-8e83-156b167309d6",
   "metadata": {},
   "outputs": [
    {
     "name": "stdout",
     "output_type": "stream",
     "text": [
      "Stored 'sols' (list)\n"
     ]
    }
   ],
   "source": [
    "''' Store solutions just incase notebook crashes or to use in other files. '''\n",
    "\n",
    "%store sols "
   ]
  },
  {
   "cell_type": "markdown",
   "id": "6e98187e-e44c-4ee3-87b7-e846a27dcd98",
   "metadata": {
    "tags": []
   },
   "source": [
    "## Visualization of Results"
   ]
  },
  {
   "cell_type": "code",
   "execution_count": 6,
   "id": "e36b9d7f-4100-48da-880b-03181d342b69",
   "metadata": {},
   "outputs": [],
   "source": [
    "''' Read solutions into notebook if kernel restarts. '''\n",
    "\n",
    "%store -r sols"
   ]
  },
  {
   "cell_type": "markdown",
   "id": "3af0d2bc-d0ae-4c12-a53f-fc08a9cc7fb0",
   "metadata": {},
   "source": [
    "### Simplistic Animation of Solutions"
   ]
  },
  {
   "cell_type": "code",
   "execution_count": 7,
   "id": "afbcc8eb-fa41-456a-803c-04fcec382cb4",
   "metadata": {
    "tags": []
   },
   "outputs": [],
   "source": [
    "%matplotlib tk\n",
    "# ^ Runs code in pop-up window, as sometimes anaimations don't work in jupyter lab setting.\n",
    "\n",
    "# Defining solution array (List of Lists) for time and each state variable.\n",
    "# Like a loop of plots, you loop through the list of solutions for each total N level.\n",
    "time = [(z0, solution.t) for z0, solution in sols]\n",
    "\n",
    "Nn = [solution.y[0] for z0, solution in sols]\n",
    "Nr = [solution.y[1] for z0, solution in sols]\n",
    "PU = [solution.y[2] for z0, solution in sols]\n",
    "PI = [solution.y[3] for z0, solution in sols]\n",
    "Z  = [solution.y[4] for z0, solution in sols]        \n",
    "VI = [solution.y[5] for z0, solution in sols]\n",
    "VE = [solution.y[6] for z0, solution in sols]\n",
    "\n",
    "# Initializing figure and subplots\n",
    "fig = plt.figure(1, figsize=(12, 7))\n",
    "ax = fig.add_subplot(211)\n",
    "ax2 = fig.add_subplot(212)\n",
    "\n",
    "# Defining animation function to specifications of matplotlib.animation\n",
    "def animate(i):\n",
    "    ax.clear()\n",
    "    ax2.clear()\n",
    "    \n",
    "    for a in [ax, ax2]:\n",
    "        a.plot(time[i][1], Nn[i], color=\"darkviolet\", label = \"N_n\")\n",
    "        a.plot(time[i][1], Nr[i], color=\"blue\"      , label = \"N_r\")\n",
    "        a.plot(time[i][1], PU[i], color=\"aquamarine\", label = \"P_U\")\n",
    "        a.plot(time[i][1], PI[i], color=\"limegreen\" , label = \"P_I\")\n",
    "        a.plot(time[i][1], Z[i] , color=\"darkgreen\" , label = \"Z \")\n",
    "        a.plot(time[i][1], VI[i], color=\"red\"       , label = \"V_I\")\n",
    "        a.plot(time[i][1], VE[i], color=\"darkred\"   , label = \"V_E\")\n",
    "    \n",
    "        a.set(xlabel = 'Time (Days)', ylabel = r'Nutrients ($mmol/m^3$)')\n",
    "        a.grid(which='both', alpha=.3)\n",
    "        a.minorticks_on()\n",
    "        a.legend(loc=(.98, 0.05), framealpha=1)\n",
    "    \n",
    "    # Linear Plot Settings\n",
    "    title = (f'Total N: {sum(time[i][0]):.4}, '\n",
    "             f'for Nn_0 = {time[i][0][0]:.4}, '\n",
    "             f'Nr_0 = {time[i][0][1]:.4}, '\n",
    "             f'Pu_0 = {time[i][0][2]:.4}, '\n",
    "             f'Pi_0 = {time[i][0][3]:.4}, '\n",
    "             f'Z_0 = {time[i][0][4]:.4}, '\n",
    "             f'Vi_0 = {time[i][0][5]:.4}, '\n",
    "             f'Ve_0 = {time[i][0][6]:.4}\\n\\n'\n",
    "             'System Dynamics - Linear Scale')\n",
    "\n",
    "    ax.set_title(title, pad=10)\n",
    "\n",
    "    # Log Plot Settings\n",
    "    ax2.set_title('System Dynamics - Log Scale')\n",
    "    ax2.set_yscale('log')\n",
    "    ax2.set_ylim(1e-12, 30)\n",
    "\n",
    "fig.tight_layout(pad=6)\n",
    "ani = matplotlib.animation.FuncAnimation(fig, animate, frames=len(sols))\n",
    "plt.show()"
   ]
  },
  {
   "cell_type": "markdown",
   "id": "237bb9f8-b570-4dd6-8dd6-a215d4c68c15",
   "metadata": {
    "tags": []
   },
   "source": [
    "### Complex Animaton of Solutions"
   ]
  },
  {
   "cell_type": "markdown",
   "id": "7473c8e1-2973-4c31-926b-4380739ae1cf",
   "metadata": {},
   "source": [
    "The code block below can be used instead of the one above to generate animations plots with key metrics printed beneath the figures. Metrics might include: varible parameterization, final state values at end time, key integration scheme settings, etc. "
   ]
  },
  {
   "cell_type": "code",
   "execution_count": 8,
   "id": "9f88981c-96a2-4dda-8043-fd274710963e",
   "metadata": {
    "tags": []
   },
   "outputs": [],
   "source": [
    "# ''' This code block holds useful parameters for printing on plots. '''\n",
    "\n",
    "# param_labels_fp = ['V_max', 'γ_Z', 'φ', 'g', 'ν_x', \n",
    "#                'λ_P', 'λ_Z', 'λ_Z_hat', 'λ_E', 'δ', 'μ_V', 'μ_V_prime', 'μ_u', 'μ_r', 'μ_s', \n",
    "#                'μ_P', 'μ_delta', 'μ_g', 'μ_Z', 'K_N', 'K_I', 'K_h', 'K_P', 'I_0 = e - 1', 'ω']\n",
    "\n",
    "# param_fp = [f'{param_labels_fp[i]} = {param[i]:.4}' for i in range(len(param))]\n",
    "# param_fp = np.reshape(param_fp, (5,5)).transpose()"
   ]
  },
  {
   "cell_type": "code",
   "execution_count": 9,
   "id": "4fb1e074-5941-4b09-bd76-31e5359364b2",
   "metadata": {
    "tags": []
   },
   "outputs": [],
   "source": [
    "# %matplotlib tk\n",
    "\n",
    "# '''\n",
    "# Text spacing can be finicky on first run of annimation; if text is not properly aligned,\n",
    "# close the annimation window and run again. Double check spacing before writing mp4 animation file.\n",
    "# '''\n",
    "# time = [(z0, solution.t) for z0, solution in sols]\n",
    "\n",
    "# Nn = [solution.y[0] for z0, solution in sols]\n",
    "# Nr = [solution.y[1] for z0, solution in sols]\n",
    "# PU = [solution.y[2] for z0, solution in sols]\n",
    "# PI = [solution.y[3] for z0, solution in sols]\n",
    "# Z  = [solution.y[4] for z0, solution in sols]        \n",
    "# VI = [solution.y[5] for z0, solution in sols]\n",
    "# VE = [solution.y[6] for z0, solution in sols]\n",
    "\n",
    "# # Initializing figure and subplots\n",
    "# fig = plt.figure(1, figsize=(12, 15))\n",
    "# ax = fig.add_subplot(311)\n",
    "# ax2 = fig.add_subplot(312)\n",
    "# ax3 = fig.add_subplot(313)\n",
    "\n",
    "# # Defining animation function to specifications of matplotlib.animation\n",
    "# def animate(i):\n",
    "#     ax.clear()\n",
    "#     ax2.clear()\n",
    "#     ax3.clear()\n",
    "    \n",
    "#     for a in [ax, ax2]:\n",
    "#         a.plot(time[i][1], Nn[i], color=\"darkviolet\", label = \"N_n\")\n",
    "#         a.plot(time[i][1], Nr[i], color=\"blue\"      , label = \"N_r\")\n",
    "#         a.plot(time[i][1], PU[i], color=\"aquamarine\", label = \"P_U\")\n",
    "#         a.plot(time[i][1], PI[i], color=\"limegreen\" , label = \"P_I\")\n",
    "#         a.plot(time[i][1], Z[i] , color=\"darkgreen\" , label = \"Z \")\n",
    "#         a.plot(time[i][1], VI[i], color=\"red\"       , label = \"V_I\")\n",
    "#         a.plot(time[i][1], VE[i], color=\"darkred\"   , label = \"V_E\")\n",
    "    \n",
    "#         a.set(ylabel = r'Nutrients ($mmol/m^3$)')\n",
    "#         a.grid(which='both', alpha=.3)\n",
    "#         a.minorticks_on()\n",
    "#         a.legend(loc=(.98, 0.05), framealpha=1)\n",
    "    \n",
    "#     # Linear Plot Settings\n",
    "#     title = (f'Total N: {sum(time[i][0]):.4}, '\n",
    "#              f'for Nn_0 = {time[i][0][0]:.4}, '\n",
    "#              f'Nr_0 = {time[i][0][1]:.4}, '\n",
    "#              f'Pu_0 = {time[i][0][2]:.4}, '\n",
    "#              f'Pi_0 = {time[i][0][3]:.4}, '\n",
    "#              f'Z_0 = {time[i][0][4]:.4}, '\n",
    "#              f'Vi_0 = {time[i][0][5]:.4}, '\n",
    "#              f'Ve_0 = {time[i][0][6]:.4}\\n\\n'\n",
    "#              'System Dynamics - Linear Scale')\n",
    "\n",
    "#     ax.set_title(title, pad=10)\n",
    "\n",
    "#     # Log Plot Settings\n",
    "#     ax2.set_title('System Dynamics - Log Scale')\n",
    "#     ax2.set_xlabel('Time (Days)')\n",
    "#     ax2.set_yscale('log')\n",
    "#     ax2.set_ylim(1e-12, 30)\n",
    "    \n",
    "#     # Text Settings\n",
    "#     ax3.text(0, -1.7, f\"Number of simulations: {len(sols)}\", weight='bold', transform=ax.transAxes)\n",
    "    \n",
    "#     ax3.text(0,-1.8, 'Functional Calls:', weight='bold', transform=ax.transAxes)   \n",
    "#     ax3.text(0,-1.9, f\"Integration Method: {method},\", transform=ax.transAxes)\n",
    "#     ax3.text(.22, -1.9, f\"Max time step: {max_step},\", transform=ax.transAxes)\n",
    "#     ax3.text(.38, -1.9, f\"Absolute state tolerances: {tolerances}\", transform=ax.transAxes)\n",
    "\n",
    "#     ax3.text(0, -2, f\"Final state values:\", weight='bold', transform=ax.transAxes)\n",
    "    \n",
    "#     ax3.text(0, -2.1,   f\"N_n:  {Nn[i][-1]},\",  transform=ax.transAxes)\n",
    "#     ax3.text(.25, -2.1, f\"N_r:   {Nr[i][-1]},\", transform=ax.transAxes)\n",
    "#     ax3.text(0, -2.2,    f\"P_U:  {PU[i][-1]},\",  transform=ax.transAxes)\n",
    "#     ax3.text(.25, -2.2,  f\"P_I:   {PI[i][-1]},\", transform=ax.transAxes)\n",
    "#     ax3.text(0, -2.3,   f\"Z:     {Z[i][-1]},\",  transform=ax.transAxes)\n",
    "#     ax3.text(0, -2.4,   f\"V_I:   {VI[i][-1]},\", transform=ax.transAxes)\n",
    "#     ax3.text(.25, -2.4, f\"V_E:  {VE[i][-1]}\",   transform=ax.transAxes)\n",
    "    \n",
    "#     ax3.text(0, -2.5, \"Parameterization: \", weight='bold', transform=ax.transAxes)\n",
    "\n",
    "#     table = ax3.table(cellText=param_fp, bbox=[0, -.2, 1, .5], cellLoc='left')\n",
    "#     table.auto_set_font_size(False)\n",
    "#     table.set_fontsize(9)\n",
    "#     table.scale(.7, 2)\n",
    "    \n",
    "#     # Generate room for text without outlines\n",
    "#     ax3.get_xaxis().set_visible(False)\n",
    "#     ax3.get_yaxis().set_visible(False)\n",
    "#     ax3.spines['top'].set_visible(False)\n",
    "#     ax3.spines['right'].set_visible(False)\n",
    "#     ax3.spines['bottom'].set_visible(False)\n",
    "#     ax3.spines['left'].set_visible(False)\n",
    "\n",
    "# fig.tight_layout(pad=8)\n",
    "# ani = matplotlib.animation.FuncAnimation(fig, animate, frames=len(sols))\n",
    "# plt.show()"
   ]
  },
  {
   "cell_type": "markdown",
   "id": "ae3a61d5-700b-4b39-abdb-780c361e0a7b",
   "metadata": {
    "tags": []
   },
   "source": [
    "## File storage"
   ]
  },
  {
   "cell_type": "code",
   "execution_count": 13,
   "id": "de9b184a-f9f7-4070-acd4-dff2183ccdf0",
   "metadata": {
    "tags": []
   },
   "outputs": [
    {
     "name": "stdout",
     "output_type": "stream",
     "text": [
      "CPU times: user 22 s, sys: 409 ms, total: 22.4 s\n",
      "Wall time: 23.4 s\n"
     ]
    }
   ],
   "source": [
    "%%time\n",
    "\n",
    "\"\"\" \n",
    "Store mp4 file of annimations directly to specified directory; \n",
    "Can take a while for large simulation set (takes longer to run simulations\n",
    "themselves than to save as mp4, 22 seconds for 200 simulations). \n",
    "\n",
    "The mp4 format is much more versitile when viewing annimations later on. \n",
    "You can easily pause and investigate each solution, unlike with the matplotlib.animation tool.\n",
    "\"\"\"\n",
    "\n",
    "### SET FILE NAME BEFORE RUNNING \n",
    "\n",
    "# Define directory and file name\n",
    "directory = '/Users/jholmes/Desktop/NCAR/Simulation Annimations/Fixed Initial Condition Ratio/'\n",
    "file_name = 'Simulations.mp4'\n",
    "\n",
    "# Save as mp4 to given location\n",
    "writermp4 = matplotlib.animation.FFMpegWriter(fps=60)\n",
    "# ani.save(directory + file_name, writer=writermp4) # <- uncomment when ready"
   ]
  },
  {
   "cell_type": "code",
   "execution_count": null,
   "id": "c79d9614-5121-4917-a334-2b7b49a5dc46",
   "metadata": {},
   "outputs": [],
   "source": []
  }
 ],
 "metadata": {
  "kernelspec": {
   "display_name": "Python 3 (ipykernel)",
   "language": "python",
   "name": "python3"
  },
  "language_info": {
   "codemirror_mode": {
    "name": "ipython",
    "version": 3
   },
   "file_extension": ".py",
   "mimetype": "text/x-python",
   "name": "python",
   "nbconvert_exporter": "python",
   "pygments_lexer": "ipython3",
   "version": "3.10.10"
  },
  "toc-autonumbering": false,
  "toc-showcode": false,
  "toc-showmarkdowntxt": false,
  "toc-showtags": false
 },
 "nbformat": 4,
 "nbformat_minor": 5
}
