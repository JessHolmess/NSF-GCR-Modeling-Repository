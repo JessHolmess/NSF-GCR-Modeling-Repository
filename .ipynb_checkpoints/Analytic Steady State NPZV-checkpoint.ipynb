{
 "cells": [
  {
   "cell_type": "code",
   "execution_count": 1,
   "id": "986d0112",
   "metadata": {},
   "outputs": [],
   "source": [
    "import numpy as np; import matplotlib.pyplot as plt\n",
    "from matplotlib import colors\n",
    "import random\n",
    "import scipy\n",
    "from scipy.integrate import solve_ivp\n",
    "\n",
    "import sympy as sym\n",
    "sym.init_printing()"
   ]
  },
  {
   "cell_type": "code",
   "execution_count": 2,
   "id": "5602cb2c",
   "metadata": {
    "code_folding": [
     0
    ]
   },
   "outputs": [],
   "source": [
    "#Symbol definitions\n",
    "N = sym.symbols(\"N\") \n",
    "P = sym.symbols(\"P\") \n",
    "V = sym.symbols(\"V\") \n",
    "\n",
    "N_n = sym.symbols(\"N_n\") \n",
    "N_r = sym.symbols(\"N_r\") \n",
    "P_s = sym.symbols(\"P_s\") \n",
    "P_i = sym.symbols(\"P_i\") \n",
    "Z  = sym.symbols(\"Z\") \n",
    "V_i = sym.symbols(\"V_i\") \n",
    "V_e = sym.symbols(\"V_e\") \n",
    "\n",
    "V_max     = sym.symbols(\"V_max\") # Maximum phytoplankton growth rate,\n",
    "γ_Z       = sym.symbols(\"γ_Z\")  # Growth rate / Assimilation frequency \n",
    "φ         = sym.symbols(\"φ\")    # Viral adsorption rate, ml / (NT * day), Table S1\n",
    "g         = sym.symbols(\"g\")    # Maximum specific grazing rate\n",
    "\n",
    "ν_x       = sym.symbols(\"ν_x\")  # Proportion of nutrients originating \n",
    "                                # from virus in host-virus pair\n",
    "ν_i       = sym.symbols(\"ν_i\")  # lysis rate tune\n",
    "\n",
    "λ_P       = sym.symbols(\"λ_P\")  # Mortality & Respiration rate\n",
    "λ_Z       = sym.symbols(\"λ_Z\")  # Linear mortality & respiration & egestion\n",
    "λ_Z_hat   = sym.symbols(\"\\hat{λ}_Z\") # Quadratic mortality & respiration & egestion\n",
    "λ_E       = sym.symbols(\"λ_E\")  # Mortality \n",
    "δ         = sym.symbols(\"δ \")   # Host lysis rate\n",
    "\n",
    "μ_P       = sym.symbols(\"μ_P\")  # Remineralization fraction due to mortality\n",
    "μ_V       = sym.symbols(\"μ_V\")  # Max host NT recycling rate \n",
    "μ_V_prime = sym.symbols(\"μ'_V\") # Max de novo NT synthesis rate\n",
    "μ_delta   = sym.symbols(\"μ_delta\") # Remineralization fraction due to lysis\n",
    "μ_g       = sym.symbols(\"μ_g\")  # Remineralization fraction due to sloppy-eating\n",
    "μ_Z       = sym.symbols(\"μ_Z\")  # Remineralization fraction due to mortality\n",
    "μ_m       = sym.symbols(\"μ_m\")  # Fraction of V_i which rejoins the V_e pop after host mortality\n",
    "\n",
    "K_N       = sym.symbols(\"K_N\")  # Half-saturation constant for nutrient limitation\n",
    "K_I       = sym.symbols(\"K_I\")  # Half-saturation for light limitation\n",
    "K_Z       = sym.symbols(\"K_Z\")  # Half-saturation for ... ?\n",
    "K_P       = sym.symbols(\"K_P\")  # Half-saturation constant for grazing of P\n",
    "I_0       = sym.symbols(\"I_0\")  # Compensation irradiance\n",
    "\n",
    "ω         = sym.symbols(\"ω\") "
   ]
  },
  {
   "cell_type": "code",
   "execution_count": 4,
   "id": "d1a6c62b",
   "metadata": {
    "code_folding": [
     0
    ]
   },
   "outputs": [],
   "source": [
    "#Defining equations of coupled model\n",
    "P = P_s + P_i\n",
    "\n",
    "N = N_n + N_r\n",
    "\n",
    "V = V_i + V_e\n",
    "\n",
    "nutr_lim = N / (K_N + N)\n",
    "\n",
    "light_lim = 1 #light limitation term\n",
    "\n",
    "adsorption = φ * P_s * V_e \n",
    "P_growth   = V_max * nutr_lim * light_lim\n",
    "grazing    = g * Z / K_P\n",
    "P_mort     = λ_P\n",
    "lysis_rate = δ * ν_i\n",
    "\n",
    "nt_recycling = ν_i * μ_V\n",
    "\n",
    "#Phytoplankton suseptible\n",
    "P_s_dt = P_s * (P_growth - grazing - P_mort - ω) - ((1 - ν_x) * adsorption)\n",
    "\n",
    "#Phytoplankton infected\n",
    "nt_recycling = ν_i * μ_V\n",
    "\n",
    "P_i_dt = P_i * (P_growth - grazing - P_mort - nt_recycling - lysis_rate - ω) \\\n",
    "         + (1 - ν_x) * adsorption\n",
    "\n",
    "#Zooplankton\n",
    "assimilation = γ_Z * g * (P + V_i) / K_P\n",
    "Z_mort = λ_Z + λ_Z_hat * Z\n",
    "\n",
    "Z_dt = Z * (assimilation - Z_mort - ω)\n",
    "\n",
    "\n",
    "#Intracellular viruses\n",
    "V_i_growth  = ν_i * (μ_V + μ_V_prime) * P_i\n",
    "\n",
    "V_i_dt = V_i_growth + ν_x * adsorption - V_i * (lysis_rate + grazing + P_mort + ω)\n",
    "\n",
    "#Extracellular\n",
    "V_e_mort = λ_E\n",
    "\n",
    "V_e_dt = - ν_x * adsorption + V_i * (lysis_rate + μ_m * P_mort) - V_e * (V_e_mort + ω) \n",
    "\n",
    "#Nitrate\n",
    "denovo_synthesis = ν_i * μ_V_prime * P_i\n",
    "\n",
    "N_n_dt = - N_n / N * (P * P_growth + denovo_synthesis) - N_n * ω\n",
    "\n",
    "#Recycled nutrients\n",
    "sloppy_eating = (1 - γ_Z) * (P + V_i) * grazing\n",
    "mortality = P_mort * (P + (1 - μ_m) * V_i) \n",
    "\n",
    "remin  = - N_r / N * (P * P_growth + denovo_synthesis) + μ_P * mortality + V_e_mort * V_e + \\\n",
    "         μ_delta * (P_i * lysis_rate) + μ_g * sloppy_eating + μ_Z * (Z * Z_mort) - (N_r * ω)\n",
    "\n",
    "export = (1 - μ_P) * mortality + (1 - μ_delta) * (P_i * lysis_rate) + \\\n",
    "         (1 - μ_g) * sloppy_eating + (1 - μ_Z) * (Z * Z_mort)\n",
    "\n",
    "N_r_dt = remin + export"
   ]
  },
  {
   "cell_type": "code",
   "execution_count": null,
   "id": "6741068f",
   "metadata": {
    "code_folding": [
     0
    ]
   },
   "outputs": [],
   "source": [
    "#Steady-State solution?\n",
    "#Putting the equations into matrix form\n",
    "var = [P_s, P_i, Z, V_i, V_e, N_n, N_r]\n",
    "\n",
    "#Susceptiple pop eq\n",
    "li_P_s = sym.Matrix([- λ_P - ω, 0, -g * P_s / K_P, 0, - (1 - ν_x) * φ * P_s,\n",
    "          (P_s * V_max) / (K_N + N), (P_s * V_max) / (K_N + N)])\n",
    "\n",
    "#eq_P_s = sum(li_P_s[i] * var[i] for i in range(len(var))) \n",
    "#display(sym.simplify(eq_P_s - P_s_dt) == 0)\n",
    "\n",
    "#Infected pop eq\n",
    "li_P_i = sym.Matrix([(1 - ν_x) * φ * V_e, - λ_P -  ν_i * μ_V - ν_i * δ - ω, \n",
    "          -g * P_i / K_P, 0, 0, P_i * V_max / (K_N + N), P_i * V_max / (K_N + N)])\n",
    "\n",
    "#eq_P_i = sum(li_P_i[i] * var[i] for i in range(len(var))) \n",
    "#display(sym.simplify(eq_P_i - P_i_dt) == 0)\n",
    "\n",
    "#Zooplankton\n",
    "li_Z = sym.Matrix([Z * γ_Z * g/K_P, Z * γ_Z * g/K_P, - (λ_Z + λ_Z_hat * Z) - ω, Z * γ_Z * g/K_P, 0, 0, 0])\n",
    "\n",
    "#eq_Z = sum(li_Z[i] * var[i] for i in range(len(var))) \n",
    "#display(sym.simplify(eq_Z - Z_dt) == 0)\n",
    "\n",
    "#Intracellular Virus\n",
    "li_V_i = sym.Matrix([ν_x * φ * V_e, ν_i * (μ_V + μ_V_prime), - V_i * g / K_P, - ν_i * δ - λ_P - ω, 0, 0, 0])\n",
    "\n",
    "#eq_V_i = sum(li_V_i[i] * var[i] for i in range(len(var))) \n",
    "#display(sym.simplify(eq_V_i - V_i_dt) == 0)\n",
    "\n",
    "#Extracellular virus\n",
    "li_V_e = sym.Matrix([- ν_x * φ * V_e, 0, 0, ν_i * δ + μ_m * λ_P, - λ_E - ω, 0, 0])\n",
    "\n",
    "#eq_V_e = sum(li_V_e[i] * var[i] for i in range(len(var))) \n",
    "#display(sym.simplify(eq_V_e - V_e_dt) == 0)\n",
    "\n",
    "#Nooch \n",
    "li_N_n = sym.Matrix([0, - (N_n /N) * ν_i * μ_V_prime, 0, 0, 0, - (P / N) * (V_max * N / (K_N + N)) - ω, 0])\n",
    "\n",
    "#eq_N_n = sum(li_N_n[i] * var[i] for i in range(len(var))) \n",
    "#display(sym.simplify(eq_N_n - N_n_dt) == 0)\n",
    "\n",
    "#lumped remin and export together for initial simplicity\n",
    "li_N_r = sym.Matrix([λ_P, - (N_r / N) * ν_i * μ_V_prime + λ_P + ν_i * δ, \n",
    "          (1 - γ_Z) * g * (P + V_i) / K_P + (λ_Z + λ_Z_hat * Z), \n",
    "          λ_P * (1 - μ_m), λ_E, 0, - (P / N) * (V_max * N / (K_N + N)) - ω])\n",
    "\n",
    "#eq_N_r = sum(li_N_r[i] * var[i] for i in range(len(var))) \n",
    "#display(sym.simplify(eq_N_r - N_r_dt) == 0)\n",
    "\n",
    "system = sym.Matrix([[li_P_s, li_P_i, li_Z, li_V_i, li_V_e, li_N_n, li_N_r]])\n",
    "#display(system)\n",
    "\n",
    "equations = [P_s_dt, P_i_dt, Z_dt, V_i_dt, V_e_dt, N_n_dt, N_r_dt]\n",
    "sym.nonlinsolve(equations, var)"
   ]
  },
  {
   "cell_type": "code",
   "execution_count": 49,
   "id": "7ca57b6e",
   "metadata": {},
   "outputs": [
    {
     "data": {
      "image/png": "[encoded data removed]",
      "text/latex": [
       "$\\displaystyle \\left\\{ 0 : 6, \\  - \\frac{2 P_{s} V_{max}}{\\left(K_{N} + N_{n} + N_{r}\\right)^{2}} : 1\\right\\}$"
      ],
      "text/plain": [
       "⎧        -2⋅Pₛ⋅Vₘₐₓ       ⎫\n",
       "⎪0: 6, ────────────────: 1⎪\n",
       "⎨                     2   ⎬\n",
       "⎪      (K_N + Nₙ + Nᵣ)    ⎪\n",
       "⎩                         ⎭"
      ]
     },
     "execution_count": 49,
     "metadata": {},
     "output_type": "execute_result"
    }
   ],
   "source": [
    "J_P_s = li_P_s.jacobian(var)\n",
    "E_P_s = J_P_s.eigenvals()\n",
    "E_P_s"
   ]
  },
  {
   "cell_type": "code",
   "execution_count": 50,
   "id": "28325fbb",
   "metadata": {},
   "outputs": [
    {
     "data": {
      "image/png": "[encoded data removed]",
      "text/latex": [
       "$\\displaystyle \\left\\{ 0 : 6, \\  - \\frac{2 P_{i} V_{max}}{\\left(K_{N} + N_{n} + N_{r}\\right)^{2}} : 1\\right\\}$"
      ],
      "text/plain": [
       "⎧        -2⋅Pᵢ⋅Vₘₐₓ       ⎫\n",
       "⎪0: 6, ────────────────: 1⎪\n",
       "⎨                     2   ⎬\n",
       "⎪      (K_N + Nₙ + Nᵣ)    ⎪\n",
       "⎩                         ⎭"
      ]
     },
     "execution_count": 50,
     "metadata": {},
     "output_type": "execute_result"
    }
   ],
   "source": [
    "J_P_i = li_P_i.jacobian(var)\n",
    "E_P_i = J_P_i.eigenvals()\n",
    "E_P_i"
   ]
  },
  {
   "cell_type": "code",
   "execution_count": 51,
   "id": "f9634e24",
   "metadata": {},
   "outputs": [
    {
     "data": {
      "image/png": "[encoded data removed]",
      "text/latex": [
       "$\\displaystyle \\left\\{ 0 : 6, \\  - \\hat{λ}_Z : 1\\right\\}$"
      ],
      "text/plain": [
       "{0: 6, -\\hat{λ}_Z: 1}"
      ]
     },
     "execution_count": 51,
     "metadata": {},
     "output_type": "execute_result"
    }
   ],
   "source": [
    "J_Z = li_Z.jacobian(var)\n",
    "E_Z = J_Z.eigenvals()\n",
    "E_Z"
   ]
  },
  {
   "cell_type": "code",
   "execution_count": 52,
   "id": "6d5087ae",
   "metadata": {},
   "outputs": [
    {
     "data": {
      "image/png": "[encoded data removed]",
      "text/latex": [
       "$\\displaystyle \\left\\{ 0 : 7\\right\\}$"
      ],
      "text/plain": [
       "{0: 7}"
      ]
     },
     "execution_count": 52,
     "metadata": {},
     "output_type": "execute_result"
    }
   ],
   "source": [
    "J_V_i = li_V_i.jacobian(var)\n",
    "E_V_i = J_V_i.eigenvals()\n",
    "E_V_i"
   ]
  },
  {
   "cell_type": "code",
   "execution_count": 53,
   "id": "85726b05",
   "metadata": {},
   "outputs": [
    {
     "data": {
      "image/png": "[encoded data removed]",
      "text/latex": [
       "$\\displaystyle \\left\\{ 0 : 7\\right\\}$"
      ],
      "text/plain": [
       "{0: 7}"
      ]
     },
     "execution_count": 53,
     "metadata": {},
     "output_type": "execute_result"
    }
   ],
   "source": [
    "J_V_e = li_V_e.jacobian(var)\n",
    "E_V_e = J_V_e.eigenvals()\n",
    "E_V_e"
   ]
  },
  {
   "cell_type": "code",
   "execution_count": 54,
   "id": "e89f714c",
   "metadata": {},
   "outputs": [
    {
     "data": {
      "image/png": "[encoded data removed]",
      "text/latex": [
       "$\\displaystyle \\left\\{ 0 : 5, \\  \\frac{V_{max} \\left(P_{i} + P_{s}\\right)}{2 \\left(K_{N} + N_{n} + N_{r}\\right)^{2}} - \\frac{\\sqrt{V_{max} \\left(4 K_{N}^{3} N_{r} μ'_{V} ν_{i} + 12 K_{N}^{2} N_{n} N_{r} μ'_{V} ν_{i} + 12 K_{N}^{2} N_{r}^{2} μ'_{V} ν_{i} + 12 K_{N} N_{n}^{2} N_{r} μ'_{V} ν_{i} + 24 K_{N} N_{n} N_{r}^{2} μ'_{V} ν_{i} + 12 K_{N} N_{r}^{3} μ'_{V} ν_{i} + 4 N_{n}^{3} N_{r} μ'_{V} ν_{i} + 12 N_{n}^{2} N_{r}^{2} μ'_{V} ν_{i} + N_{n}^{2} P_{i}^{2} V_{max} + 2 N_{n}^{2} P_{i} P_{s} V_{max} + N_{n}^{2} P_{s}^{2} V_{max} + 12 N_{n} N_{r}^{3} μ'_{V} ν_{i} + 2 N_{n} N_{r} P_{i}^{2} V_{max} + 4 N_{n} N_{r} P_{i} P_{s} V_{max} + 2 N_{n} N_{r} P_{s}^{2} V_{max} + 4 N_{r}^{4} μ'_{V} ν_{i} + N_{r}^{2} P_{i}^{2} V_{max} + 2 N_{r}^{2} P_{i} P_{s} V_{max} + N_{r}^{2} P_{s}^{2} V_{max}\\right)} \\left(N_{n} + N_{r}\\right)}{2 \\left(K_{N}^{2} N_{n}^{2} + 2 K_{N}^{2} N_{n} N_{r} + K_{N}^{2} N_{r}^{2} + 2 K_{N} N_{n}^{3} + 6 K_{N} N_{n}^{2} N_{r} + 6 K_{N} N_{n} N_{r}^{2} + 2 K_{N} N_{r}^{3} + N_{n}^{4} + 4 N_{n}^{3} N_{r} + 6 N_{n}^{2} N_{r}^{2} + 4 N_{n} N_{r}^{3} + N_{r}^{4}\\right)} : 1, \\  \\frac{V_{max} \\left(P_{i} + P_{s}\\right)}{2 \\left(K_{N} + N_{n} + N_{r}\\right)^{2}} + \\frac{\\sqrt{V_{max} \\left(4 K_{N}^{3} N_{r} μ'_{V} ν_{i} + 12 K_{N}^{2} N_{n} N_{r} μ'_{V} ν_{i} + 12 K_{N}^{2} N_{r}^{2} μ'_{V} ν_{i} + 12 K_{N} N_{n}^{2} N_{r} μ'_{V} ν_{i} + 24 K_{N} N_{n} N_{r}^{2} μ'_{V} ν_{i} + 12 K_{N} N_{r}^{3} μ'_{V} ν_{i} + 4 N_{n}^{3} N_{r} μ'_{V} ν_{i} + 12 N_{n}^{2} N_{r}^{2} μ'_{V} ν_{i} + N_{n}^{2} P_{i}^{2} V_{max} + 2 N_{n}^{2} P_{i} P_{s} V_{max} + N_{n}^{2} P_{s}^{2} V_{max} + 12 N_{n} N_{r}^{3} μ'_{V} ν_{i} + 2 N_{n} N_{r} P_{i}^{2} V_{max} + 4 N_{n} N_{r} P_{i} P_{s} V_{max} + 2 N_{n} N_{r} P_{s}^{2} V_{max} + 4 N_{r}^{4} μ'_{V} ν_{i} + N_{r}^{2} P_{i}^{2} V_{max} + 2 N_{r}^{2} P_{i} P_{s} V_{max} + N_{r}^{2} P_{s}^{2} V_{max}\\right)} \\left(N_{n} + N_{r}\\right)}{2 \\left(K_{N}^{2} N_{n}^{2} + 2 K_{N}^{2} N_{n} N_{r} + K_{N}^{2} N_{r}^{2} + 2 K_{N} N_{n}^{3} + 6 K_{N} N_{n}^{2} N_{r} + 6 K_{N} N_{n} N_{r}^{2} + 2 K_{N} N_{r}^{3} + N_{n}^{4} + 4 N_{n}^{3} N_{r} + 6 N_{n}^{2} N_{r}^{2} + 4 N_{n} N_{r}^{3} + N_{r}^{4}\\right)} : 1\\right\\}$"
      ],
      "text/plain": [
       "⎧                              _______________________________________________\n",
       "⎪                             ╱      ⎛     3                    2             \n",
       "⎪        Vₘₐₓ⋅(Pᵢ + Pₛ)     ╲╱  Vₘₐₓ⋅⎝4⋅K_N ⋅Nᵣ⋅μ'_V⋅νᵢ + 12⋅K_N ⋅Nₙ⋅Nᵣ⋅μ'_V⋅ν\n",
       "⎨0: 5, ────────────────── - ──────────────────────────────────────────────────\n",
       "⎪                       2                                                     \n",
       "⎪      2⋅(K_N + Nₙ + Nᵣ)                                                      \n",
       "⎩                                                                             \n",
       "\n",
       "______________________________________________________________________________\n",
       "          2   2                    2                          2               \n",
       "ᵢ + 12⋅K_N ⋅Nᵣ ⋅μ'_V⋅νᵢ + 12⋅K_N⋅Nₙ ⋅Nᵣ⋅μ'_V⋅νᵢ + 24⋅K_N⋅Nₙ⋅Nᵣ ⋅μ'_V⋅νᵢ + 12⋅K\n",
       "──────────────────────────────────────────────────────────────────────────────\n",
       "                                                                             ⎛\n",
       "                                                                           2⋅⎝\n",
       "                                                                              \n",
       "\n",
       "______________________________________________________________________________\n",
       "     3               3                   2   2             2   2            2 \n",
       "_N⋅Nᵣ ⋅μ'_V⋅νᵢ + 4⋅Nₙ ⋅Nᵣ⋅μ'_V⋅νᵢ + 12⋅Nₙ ⋅Nᵣ ⋅μ'_V⋅νᵢ + Nₙ ⋅Pᵢ ⋅Vₘₐₓ + 2⋅Nₙ ⋅\n",
       "──────────────────────────────────────────────────────────────────────────────\n",
       "   2   2        2            2   2           3           2                 2  \n",
       "K_N ⋅Nₙ  + 2⋅K_N ⋅Nₙ⋅Nᵣ + K_N ⋅Nᵣ  + 2⋅K_N⋅Nₙ  + 6⋅K_N⋅Nₙ ⋅Nᵣ + 6⋅K_N⋅Nₙ⋅Nᵣ  +\n",
       "                                                                              \n",
       "\n",
       "______________________________________________________________________________\n",
       "               2   2                3                     2                   \n",
       "Pᵢ⋅Pₛ⋅Vₘₐₓ + Nₙ ⋅Pₛ ⋅Vₘₐₓ + 12⋅Nₙ⋅Nᵣ ⋅μ'_V⋅νᵢ + 2⋅Nₙ⋅Nᵣ⋅Pᵢ ⋅Vₘₐₓ + 4⋅Nₙ⋅Nᵣ⋅Pᵢ⋅\n",
       "──────────────────────────────────────────────────────────────────────────────\n",
       "         3     4       3          2   2          3     4⎞                     \n",
       " 2⋅K_N⋅Nᵣ  + Nₙ  + 4⋅Nₙ ⋅Nᵣ + 6⋅Nₙ ⋅Nᵣ  + 4⋅Nₙ⋅Nᵣ  + Nᵣ ⎠                     \n",
       "                                                                              \n",
       "\n",
       "______________________________________________________________________________\n",
       "                    2            4             2   2            2             \n",
       "Pₛ⋅Vₘₐₓ + 2⋅Nₙ⋅Nᵣ⋅Pₛ ⋅Vₘₐₓ + 4⋅Nᵣ ⋅μ'_V⋅νᵢ + Nᵣ ⋅Pᵢ ⋅Vₘₐₓ + 2⋅Nᵣ ⋅Pᵢ⋅Pₛ⋅Vₘₐₓ +\n",
       "──────────────────────────────────────────────────────────────────────────────\n",
       "                                                                              \n",
       "                                                                              \n",
       "                                                                              \n",
       "\n",
       "_______________                                       ________________________\n",
       "   2   2     ⎞                                       ╱      ⎛     3           \n",
       " Nᵣ ⋅Pₛ ⋅Vₘₐₓ⎠ ⋅(Nₙ + Nᵣ)       Vₘₐₓ⋅(Pᵢ + Pₛ)     ╲╱  Vₘₐₓ⋅⎝4⋅K_N ⋅Nᵣ⋅μ'_V⋅νᵢ\n",
       "─────────────────────────: 1, ────────────────── + ───────────────────────────\n",
       "                                               2                              \n",
       "                              2⋅(K_N + Nₙ + Nᵣ)                               \n",
       "                                                                              \n",
       "\n",
       "______________________________________________________________________________\n",
       "         2                       2   2                    2                   \n",
       " + 12⋅K_N ⋅Nₙ⋅Nᵣ⋅μ'_V⋅νᵢ + 12⋅K_N ⋅Nᵣ ⋅μ'_V⋅νᵢ + 12⋅K_N⋅Nₙ ⋅Nᵣ⋅μ'_V⋅νᵢ + 24⋅K_\n",
       "──────────────────────────────────────────────────────────────────────────────\n",
       "                                                                              \n",
       "                                                                              \n",
       "                                                                              \n",
       "\n",
       "______________________________________________________________________________\n",
       "       2                    3               3                   2   2         \n",
       "N⋅Nₙ⋅Nᵣ ⋅μ'_V⋅νᵢ + 12⋅K_N⋅Nᵣ ⋅μ'_V⋅νᵢ + 4⋅Nₙ ⋅Nᵣ⋅μ'_V⋅νᵢ + 12⋅Nₙ ⋅Nᵣ ⋅μ'_V⋅νᵢ \n",
       "──────────────────────────────────────────────────────────────────────────────\n",
       "                      ⎛   2   2        2            2   2           3         \n",
       "                    2⋅⎝K_N ⋅Nₙ  + 2⋅K_N ⋅Nₙ⋅Nᵣ + K_N ⋅Nᵣ  + 2⋅K_N⋅Nₙ  + 6⋅K_N⋅\n",
       "                                                                              \n",
       "\n",
       "______________________________________________________________________________\n",
       "    2   2            2                2   2                3                  \n",
       "+ Nₙ ⋅Pᵢ ⋅Vₘₐₓ + 2⋅Nₙ ⋅Pᵢ⋅Pₛ⋅Vₘₐₓ + Nₙ ⋅Pₛ ⋅Vₘₐₓ + 12⋅Nₙ⋅Nᵣ ⋅μ'_V⋅νᵢ + 2⋅Nₙ⋅Nᵣ\n",
       "──────────────────────────────────────────────────────────────────────────────\n",
       "  2                 2           3     4       3          2   2          3     \n",
       "Nₙ ⋅Nᵣ + 6⋅K_N⋅Nₙ⋅Nᵣ  + 2⋅K_N⋅Nᵣ  + Nₙ  + 4⋅Nₙ ⋅Nᵣ + 6⋅Nₙ ⋅Nᵣ  + 4⋅Nₙ⋅Nᵣ  + Nᵣ\n",
       "                                                                              \n",
       "\n",
       "______________________________________________________________________________\n",
       "   2                                       2            4             2   2   \n",
       "⋅Pᵢ ⋅Vₘₐₓ + 4⋅Nₙ⋅Nᵣ⋅Pᵢ⋅Pₛ⋅Vₘₐₓ + 2⋅Nₙ⋅Nᵣ⋅Pₛ ⋅Vₘₐₓ + 4⋅Nᵣ ⋅μ'_V⋅νᵢ + Nᵣ ⋅Pᵢ ⋅Vₘ\n",
       "──────────────────────────────────────────────────────────────────────────────\n",
       "4⎞                                                                            \n",
       " ⎠                                                                            \n",
       "                                                                              \n",
       "\n",
       "______________________________________             ⎫\n",
       "         2                2   2     ⎞              ⎪\n",
       "ₐₓ + 2⋅Nᵣ ⋅Pᵢ⋅Pₛ⋅Vₘₐₓ + Nᵣ ⋅Pₛ ⋅Vₘₐₓ⎠ ⋅(Nₙ + Nᵣ)   ⎪\n",
       "────────────────────────────────────────────────: 1⎬\n",
       "                                                   ⎪\n",
       "                                                   ⎪\n",
       "                                                   ⎭"
      ]
     },
     "execution_count": 54,
     "metadata": {},
     "output_type": "execute_result"
    }
   ],
   "source": [
    "J_N_n = li_N_n.jacobian(var)\n",
    "E_N_n = J_N_n.eigenvals()\n",
    "E_N_n"
   ]
  },
  {
   "cell_type": "code",
   "execution_count": null,
   "id": "5a0905a2",
   "metadata": {},
   "outputs": [],
   "source": []
  },
  {
   "cell_type": "code",
   "execution_count": null,
   "id": "c3cb4ff3",
   "metadata": {},
   "outputs": [],
   "source": []
  },
  {
   "cell_type": "code",
   "execution_count": 14,
   "id": "c2b17273",
   "metadata": {},
   "outputs": [
    {
     "name": "stdout",
     "output_type": "stream",
     "text": [
      "For the N regime to apply to P_s, N must be less than:\n"
     ]
    },
    {
     "data": {
      "image/png": "[encoded data removed]",
      "text/latex": [
       "$\\displaystyle \\left\\{\\frac{K_{N} \\left(λ_{P} + ω\\right)}{V_{max} - λ_{P} - ω}\\right\\}$"
      ],
      "text/plain": [
       "⎧K_N⋅(λ_P + ω) ⎫\n",
       "⎨──────────────⎬\n",
       "⎩Vₘₐₓ - λ_P - ω⎭"
      ]
     },
     "metadata": {},
     "output_type": "display_data"
    },
    {
     "name": "stdout",
     "output_type": "stream",
     "text": [
      "For the N regime to apply to P_i, N must be less than:\n"
     ]
    },
    {
     "data": {
      "image/png": "[encoded data removed]",
      "text/latex": [
       "$\\displaystyle \\left\\{\\frac{K_{N} \\left(λ_{P} + ω\\right)}{V_{max} - λ_{P} - ω}\\right\\}$"
      ],
      "text/plain": [
       "⎧K_N⋅(λ_P + ω) ⎫\n",
       "⎨──────────────⎬\n",
       "⎩Vₘₐₓ - λ_P - ω⎭"
      ]
     },
     "metadata": {},
     "output_type": "display_data"
    }
   ],
   "source": [
    "#Solve for N Threshold\n",
    "\n",
    "#N_T = N, P = Z = V = 0\n",
    "#Substitute in appropriate values for 0 state variables\n",
    "N_P_s = P_s_dt.subs([(Z, 0), (V_i, 0), (V_e, 0)])            \n",
    "N_P_i = P_i_dt.subs([(Z, 0), (V_i, 0), (V_e, 0)])\n",
    "\n",
    "#Chekcing susceptible pop\n",
    "print(\"For the N regime to apply to P_s, N must be less than:\")\n",
    "display(sym.solveset(N_P_s, N).args[0])\n",
    "\n",
    "#Checking infected pop\n",
    "print(\"For the N regime to apply to P_i, N must be less than:\")\n",
    "display(sym.solveset(N_P_i, N).args[0])\n",
    "\n",
    "#looks familiar..."
   ]
  },
  {
   "cell_type": "code",
   "execution_count": 55,
   "id": "a0cd7623",
   "metadata": {},
   "outputs": [
    {
     "name": "stdout",
     "output_type": "stream",
     "text": [
      "To sustain the V_i population, P_i must be at least:\n"
     ]
    },
    {
     "data": {
      "image/png": "[encoded data removed]",
      "text/latex": [
       "$\\displaystyle - \\frac{P_{s} V_{e} ν_{x} φ - V_{i} \\left(δ ν_{i} + λ_{P} + ω\\right)}{ν_{i} \\left(μ_{V} + μ_{V'}\\right)}$"
      ],
      "text/plain": [
       "-(Pₛ⋅Vₑ⋅νₓ⋅φ - Vᵢ⋅(δ⋅νᵢ + λ_P + ω)) \n",
       "────────────────────────────────────\n",
       "          νᵢ⋅(μ_V + μ_V')           "
      ]
     },
     "metadata": {},
     "output_type": "display_data"
    },
    {
     "name": "stdout",
     "output_type": "stream",
     "text": [
      "\n",
      "To sustain the V_i population, P_s must be at least:\n"
     ]
    },
    {
     "data": {
      "image/png": "[encoded data removed]",
      "text/latex": [
       "$\\displaystyle - \\frac{P_{i} ν_{i} \\left(μ_{V} + μ_{V'}\\right) - V_{i} \\left(δ ν_{i} + λ_{P} + ω\\right)}{V_{e} ν_{x} φ}$"
      ],
      "text/plain": [
       "-(Pᵢ⋅νᵢ⋅(μ_V + μ_V') - Vᵢ⋅(δ⋅νᵢ + λ_P + ω)) \n",
       "────────────────────────────────────────────\n",
       "                  Vₑ⋅νₓ⋅φ                   "
      ]
     },
     "metadata": {},
     "output_type": "display_data"
    },
    {
     "name": "stdout",
     "output_type": "stream",
     "text": [
      "\n",
      "To sustain the V_e population, P_s must be at least:\n"
     ]
    },
    {
     "data": {
      "image/png": "[encoded data removed]",
      "text/latex": [
       "$\\displaystyle - \\frac{V_{e} \\left(λ_{E} + ω\\right) - V_{i} \\left(δ ν_{i} + λ_{P} μ_{m}\\right)}{V_{e} ν_{x} φ}$"
      ],
      "text/plain": [
       "-(Vₑ⋅(λ_E + ω) - Vᵢ⋅(δ⋅νᵢ + λ_P⋅μₘ)) \n",
       "─────────────────────────────────────\n",
       "               Vₑ⋅νₓ⋅φ               "
      ]
     },
     "metadata": {},
     "output_type": "display_data"
    },
    {
     "name": "stdout",
     "output_type": "stream",
     "text": [
      "\n",
      "To sustain the Z population, (P_s + P_i + V_i) must be at least:\n"
     ]
    },
    {
     "data": {
      "image/png": "[encoded data removed]",
      "text/latex": [
       "$\\displaystyle \\frac{K_{P} \\left(Z \\hat{λ}_Z + λ_{Z} + ω\\right)}{g γ_{Z}}$"
      ],
      "text/plain": [
       "K_P⋅(Z⋅\\hat{λ}_Z + λ_Z + ω)\n",
       "───────────────────────────\n",
       "           g⋅γ_Z           "
      ]
     },
     "metadata": {},
     "output_type": "display_data"
    }
   ],
   "source": [
    "#We need population thresholds to sustain V and Z\n",
    "#Solve of P threshold for both assuming the other doesn't exist yet...?\n",
    "\n",
    "NP_V_i = V_i_dt.subs([(Z, 0)]) \n",
    "print(\"To sustain the V_i population, P_i must be at least:\")\n",
    "display(sym.solveset(NP_V_i, P_i).args[0])\n",
    "print()\n",
    "\n",
    "print(\"To sustain the V_i population, P_s must be at least:\")\n",
    "display(sym.solveset(NP_V_i, P_i).args[0])\n",
    "print()\n",
    "\n",
    "NP_V_e = V_e_dt.subs([(Z, 0)])\n",
    "print(\"To sustain the V_e population, P_s must be at least:\")\n",
    "display(sym.solveset(NP_V_e, P_s).args[0])\n",
    "print()\n",
    "\n",
    "print(\"To sustain the Z population, (P_s + P_i + V_i) must be at least:\")\n",
    "display(sym.solveset(Z_dt, P_s + P_i + V_i).args[0])\n"
   ]
  },
  {
   "cell_type": "code",
   "execution_count": null,
   "id": "c26ee47c",
   "metadata": {},
   "outputs": [],
   "source": []
  }
 ],
 "metadata": {
  "kernelspec": {
   "display_name": "Python 3 (ipykernel)",
   "language": "python",
   "name": "python3"
  },
  "language_info": {
   "codemirror_mode": {
    "name": "ipython",
    "version": 3
   },
   "file_extension": ".py",
   "mimetype": "text/x-python",
   "name": "python",
   "nbconvert_exporter": "python",
   "pygments_lexer": "ipython3",
   "version": "3.10.10"
  }
 },
 "nbformat": 4,
 "nbformat_minor": 5
}
