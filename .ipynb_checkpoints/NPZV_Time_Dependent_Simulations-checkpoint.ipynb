{
 "cells": [
  {
   "cell_type": "code",
   "execution_count": 1,
   "id": "171d70a7",
   "metadata": {},
   "outputs": [
    {
     "data": {
      "text/html": [
       "<style>.container { width:100% !important; }</style>"
      ],
      "text/plain": [
       "<IPython.core.display.HTML object>"
      ]
     },
     "metadata": {},
     "output_type": "display_data"
    }
   ],
   "source": [
    "%run Function_Master.ipynb\n",
    "\n",
    "from IPython.display import display, HTML\n",
    "display(HTML(\"<style>.container { width:100% !important; }</style>\"))"
   ]
  },
  {
   "cell_type": "markdown",
   "id": "056aeee7",
   "metadata": {},
   "source": [
    "## Coupled model parameterized to recreate Thamatrakoln results"
   ]
  },
  {
   "cell_type": "code",
   "execution_count": 16,
   "id": "bdb80940",
   "metadata": {
    "code_folding": [
     0
    ],
    "jupyter": {
     "source_hidden": true
    },
    "tags": []
   },
   "outputs": [],
   "source": [
    "#Parameterization\n",
    "alpha = (1 / 1.42e8) * 2.1e-10 * 1e6 # host conversion, mmol ml / NT m^3\n",
    "beta  = (1 / 4e5) * 1.27e-15 * 1e6   # viral conversion, mmol ml / NT m^3\n",
    "\n",
    "Nn_0 = 1e20\n",
    "Nr_0 = 1e20\n",
    "Pu_0 = 1.5e14 * alpha \n",
    "Pi_0 = 1e5    * alpha \n",
    "Z_0  = 0.\n",
    "Vi_0 = 1e8    * beta \n",
    "Ve_0 = 2.7e12 * beta\n",
    "\n",
    "z0 = [Nn_0, Nr_0, Pu_0, Pi_0, Z_0, Vi_0, Ve_0]\n",
    "\n",
    "V_max     = .85             # Maximum phytoplankton growth rate, Fig. 3 (a), irradience 300\n",
    "γ_Z       = 0               # Growth rate / Assimilation frequency \n",
    "φ         = 3.5e-10 / beta  # Converted viral adsorption rate\n",
    "g         = 0               # Maximum specific grazing rate\n",
    "\n",
    "V_ind     = 4e5      #NT per individual virus, Table S1\n",
    "S_ind     = 1.42e8   #NT per individual host, Table S1\n",
    "ν_x       = V_ind / (V_ind + S_ind) # Proportion of nutrients originating \n",
    "                                    # from virus in host-virus pair\n",
    "\n",
    "λ_P       = 0   # Mortality & Respiration rate\n",
    "λ_Z       = 0   # Linear mortality & respiration & egestion\n",
    "λ_Z_hat   = 0   # Quadratic mortality & respiration & egestion\n",
    "λ_E       = 0   # Mortality \n",
    "δ         = .45 # Host lysis rate\n",
    "\n",
    "\n",
    "μ_V       = 3   # Max host NT recycling rate \n",
    "μ_V_prime = 1.6 # Max de novo NT synthesis rate\n",
    "μ_u       = 0\n",
    "μ_r       = 0\n",
    "μ_s       = 1\n",
    "μ_P       = 0   # Remineralization fraction due to mortality\n",
    "μ_delta   = 0   # Remineralization fraction due to lysis\n",
    "μ_g       = 0   # Remineralization fraction due to sloppy-eating\n",
    "μ_Z       = 0   # Remineralization fraction due to mortality\n",
    "\n",
    "K_N       = 1          # Half-saturation constant for nutrient limitation\n",
    "K_I       = 1          # Half-saturation for light limitation\n",
    "K_h       = 1          # Half-saturation for ... ?\n",
    "K_P       = 1          # Half-saturation constant for grazing of P\n",
    "I_0       = (np.e - 1) # Compensation irradiance\n",
    "\n",
    "ω         = 0 # Entraintment term\n",
    "\n",
    "param = (V_max, γ_Z, φ, g, ν_x, λ_P, λ_Z, λ_Z_hat, λ_E, δ, μ_V, μ_V_prime, \n",
    "          μ_u, μ_r, μ_s, μ_P, μ_delta, μ_g, μ_Z, K_N, K_I, K_h, K_P, I_0, ω)"
   ]
  },
  {
   "cell_type": "code",
   "execution_count": 17,
   "id": "3eb4dbc4",
   "metadata": {
    "code_folding": [
     0
    ],
    "collapsed": true,
    "jupyter": {
     "outputs_hidden": true,
     "source_hidden": true
    },
    "scrolled": true,
    "tags": []
   },
   "outputs": [
    {
     "name": "stdout",
     "output_type": "stream",
     "text": [
      "Nn_0 = 1e+20,  Nr_0 = 1e+20,  Pu_0 = 221.83098591549293,  Pi_0 = 1.4788732394366198e-07,  Z_0 = 0.0,  Vi_0 = 3.1750000000000003e-07,  Ve_0 = 0.0085725,  \n",
      " \n",
      "╒════════════════════════════════════════╤═════════════╤═════════════════╤═════════════╤══════════════════════╕\n",
      "│ V_max = 0.85                           │ λ_P = 0     │ μ_V = 3         │ μ_P = 0     │ K_I = 1              │\n",
      "├────────────────────────────────────────┼─────────────┼─────────────────┼─────────────┼──────────────────────┤\n",
      "│ γ_Z = 0                                │ λ_Z = 0     │ μ_V_prime = 1.6 │ μ_delta = 0 │ K_h = 1              │\n",
      "├────────────────────────────────────────┼─────────────┼─────────────────┼─────────────┼──────────────────────┤\n",
      "│ φ = 3.5e-10 / beta = 110236.2205       │ λ_Z_hat = 0 │ μ_u = 0         │ μ_g = 0     │ K_P = 1              │\n",
      "├────────────────────────────────────────┼─────────────┼─────────────────┼─────────────┼──────────────────────┤\n",
      "│ g = 0                                  │ λ_E = 0     │ μ_r = 0         │ μ_Z = 0     │ I_0 = e - 1 = 1.7183 │\n",
      "├────────────────────────────────────────┼─────────────┼─────────────────┼─────────────┼──────────────────────┤\n",
      "│ ν_x = V_ind / (V_ind + S_ind) = 0.0028 │ δ = 0.45    │ μ_s = 1         │ K_N = 1     │ ω = 0                │\n",
      "╘════════════════════════════════════════╧═════════════╧═════════════════╧═════════════╧══════════════════════╛\n"
     ]
    }
   ],
   "source": [
    "#Printing initial conditions\n",
    "names = ['Nn_0', 'Nr_0', 'Pu_0', 'Pi_0', 'Z_0', 'Vi_0', 'Ve_0']\n",
    "for i, state in enumerate(names):\n",
    "    print(f'{state} = {z0[i]},', end='  ')\n",
    "print(end='\\n \\n')\n",
    "\n",
    "#Print parameterization\n",
    "param_labels_fp = ['V_max', 'γ_Z', 'φ = 3.5e-10 / beta', 'g', 'ν_x = V_ind / (V_ind + S_ind)', \n",
    "                   'λ_P', 'λ_Z', 'λ_Z_hat', 'λ_E', 'δ', 'μ_V', 'μ_V_prime', 'μ_u', 'μ_r', 'μ_s', \n",
    "                   'μ_P', 'μ_delta', 'μ_g', 'μ_Z', 'K_N', 'K_I', 'K_h', 'K_P', 'I_0 = e - 1', 'ω']\n",
    "\n",
    "print_paramterization(param, param_labels_fp)"
   ]
  },
  {
   "cell_type": "code",
   "execution_count": 18,
   "id": "4a7b7008",
   "metadata": {
    "code_folding": [
     0
    ],
    "jupyter": {
     "source_hidden": true
    },
    "tags": []
   },
   "outputs": [],
   "source": [
    "#Define time span, solve for solution\n",
    "\n",
    "t = 7\n",
    "sol = solve_ivp(model, [0, t], z0, args=param, max_step=.01, method=\"Radau\")"
   ]
  },
  {
   "cell_type": "code",
   "execution_count": null,
   "id": "00610628",
   "metadata": {
    "code_folding": [
     0
    ],
    "jupyter": {
     "source_hidden": true
    },
    "tags": []
   },
   "outputs": [],
   "source": [
    "#Plot results\n",
    "N_n = sol.y[0]\n",
    "N_r = sol.y[1] \n",
    "P_U = sol.y[2] #Susceptible Hosts\n",
    "P_I = sol.y[3] #Infected Hosts\n",
    "Z   = sol.y[4] #Zooplankton\n",
    "V_I = sol.y[5] #Internal viruses from host nucleotide recycling \n",
    "               #and de novo nucleotide synthesis\n",
    "V_E = sol.y[6] #Free (extracellular) viruses \n",
    "    \n",
    "    \n",
    "fig = plt.figure(figsize=(11, 5))\n",
    "ax = fig.add_subplot(211)\n",
    "\n",
    "ax.plot(sol.t, N_n, label='N_n')\n",
    "ax.plot(sol.t, N_r, label='N_r')\n",
    "ax.plot(sol.t, P_U / alpha, 'g', label='Susceptible')\n",
    "ax.plot(sol.t, P_I / alpha, 'b', label='Infected')\n",
    "ax.plot(sol.t, Z, label='Z')\n",
    "ax.plot(sol.t, V_I / beta, '-', label='Total Intracellular V')\n",
    "ax.plot(sol.t, V_E / beta, ':', label='Extracellular V')\n",
    "\n",
    "ax.set_xlabel('Time (Days)', fontsize = 12)\n",
    "ax.set_ylabel(r'Nucleotides $ml^{-1}$', fontsize = 12)\n",
    "ax.set_title('Species dynamics over 2 weeks', fontsize = 12)\n",
    "\n",
    "ax.set_ylim(-.01, 1e15)\n",
    "ax.legend(loc=(1.025, .25))\n",
    "ax.grid()\n",
    "\n",
    "fig.tight_layout()\n",
    "plt.show()"
   ]
  },
  {
   "cell_type": "markdown",
   "id": "aba995a1",
   "metadata": {},
   "source": [
    "## Coupled model parameterized to recreate Sarmiento and Gruber N-P-Z"
   ]
  },
  {
   "cell_type": "code",
   "execution_count": null,
   "id": "818f0a3f",
   "metadata": {
    "code_folding": [
     0
    ],
    "jupyter": {
     "source_hidden": true
    },
    "tags": []
   },
   "outputs": [],
   "source": [
    "#Parameterization\n",
    "Nn_0 = 0.0  #mmol m^-3\n",
    "Nr_0 = 5.0  #mmol m^-3\n",
    "Pu_0 = 0.6 #mmol m^-3 \n",
    "Pi_0 = 0.0\n",
    "Z_0  = 0.6 #mmol m^-3\n",
    "Vi_0 = 0.0\n",
    "Ve_0 = 0.0\n",
    "\n",
    "z0 = [Nn_0, Nr_0, Pu_0, Pi_0, Z_0, Vi_0, Ve_0]\n",
    "\n",
    "V_max     = 1.4 # Maximum phytoplankton growth rate, Fig. 3 (a), irradience 300\n",
    "γ_Z       = .4  # Growth rate / Assimilation frequency \n",
    "φ         = 0   # Viral adsorption rate, ml / (NT * day), Table S1\n",
    "g         = 1.4 # d^-1 Maximum specific grazing rate\n",
    "\n",
    "#Irrelevant but included for consistancy\n",
    "V_ind     = 4e5      # NT per individual virus, Table S1\n",
    "S_ind     = 1.42e8   # NT per individual host, Table S1\n",
    "\n",
    "ν_x       = V_ind / (V_ind + S_ind) # Proportion of nutrients originating \n",
    "                                    # from virus in host-virus pair\n",
    "\n",
    "λ_P       = .05 # Mortality & Respiration rate\n",
    "λ_Z       = .05 # d^-1, Linear mortality & respiration & egestion\n",
    "λ_Z_hat   = 0   # Quadratic mortality & respiration & egestion\n",
    "λ_E       = 0   # Extracellular virus mortality \n",
    "δ         = 0   # Host lysis rate\n",
    "\n",
    "μ_V       = 0   # Max host NT recycling rate \n",
    "μ_V_prime = 0   # Max de novo NT synthesis rate\n",
    "μ_u       = 0\n",
    "μ_r       = 0\n",
    "μ_s       = 1\n",
    "μ_P       = .4   # Remineralization fraction due to mortality\n",
    "μ_delta   = 0   # Remineralization fraction due to lysis\n",
    "μ_g       = .4   # Remineralization fraction due to sloppy-eating\n",
    "μ_Z       = .4   # Remineralization fraction due to mortality\n",
    "\n",
    "K_N       = .1  # mmol m^-3 # Half-saturation constant for nutrient limitation\n",
    "K_I       = 1   # Half-saturation for light limitation\n",
    "K_h       = 1   # Half-saturation for ... ?\n",
    "K_P       = 2.8 # mmol m^-3, Half-saturation constant for grazing of P\n",
    "I_0       = (np.e - 1) # Compensation irradiance\n",
    "\n",
    "ω         = 0 # Entraintment term\n",
    "\n",
    "param = (V_max, γ_Z, φ, g, ν_x, λ_P, λ_Z, λ_Z_hat, λ_E, δ, μ_V, μ_V_prime, \n",
    "          μ_u, μ_r, μ_s, μ_P, μ_delta, μ_g, μ_Z, K_N, K_I, K_h, K_P, I_0, ω)"
   ]
  },
  {
   "cell_type": "code",
   "execution_count": null,
   "id": "e844ba33",
   "metadata": {
    "code_folding": [
     0
    ],
    "jupyter": {
     "source_hidden": true
    },
    "tags": []
   },
   "outputs": [],
   "source": [
    "#Printing initial conditions\n",
    "names = ['Nn_0', 'Nr_0', 'Pu_0', 'Pi_0', 'Z_0', 'Vi_0', 'Ve_0']\n",
    "for i, state in enumerate(names):\n",
    "    print(f'{state} = {z0[i]},', end='  ')\n",
    "print(end='\\n \\n')\n",
    "\n",
    "#Print parameterization\n",
    "param_labels_fp = ['V_max', 'γ_Z', 'φ = 3.5e-10 / beta', 'g', 'ν_x = V_ind / (V_ind + S_ind)', \n",
    "                   'λ_P', 'λ_Z', 'λ_Z_hat', 'λ_E', 'δ', 'μ_V', 'μ_V_prime', 'μ_u', 'μ_r', 'μ_s', \n",
    "                   'μ_P', 'μ_delta', 'μ_g', 'μ_Z', 'K_N', 'K_I', 'K_h', 'K_P', 'I_0 = e - 1', 'ω']\n",
    "\n",
    "print_paramterization(param, param_labels_fp)"
   ]
  },
  {
   "cell_type": "code",
   "execution_count": null,
   "id": "ca074342",
   "metadata": {
    "jupyter": {
     "source_hidden": true
    },
    "tags": []
   },
   "outputs": [],
   "source": [
    "sol = solve_ivp(model, [0, 30], z0, args=param, max_step=.1, method=\"LSODA\")"
   ]
  },
  {
   "cell_type": "code",
   "execution_count": null,
   "id": "43c5c27c",
   "metadata": {
    "code_folding": [
     0
    ],
    "jupyter": {
     "source_hidden": true
    },
    "tags": []
   },
   "outputs": [],
   "source": [
    "#Plot results\n",
    "N_n = sol.y[0]\n",
    "N_r = sol.y[1] \n",
    "P_U = sol.y[2] \n",
    "P_I = sol.y[3] \n",
    "Z   = sol.y[4]\n",
    "V_I = sol.y[5]        \n",
    "V_E = sol.y[6] \n",
    "\n",
    "fig, (ax, ax2) = plt.subplots(2, 1, height_ratios=[2, 1], figsize=(14, 5))\n",
    "\n",
    "#One cycle\n",
    "ax.plot(sol.t, P_U, color=\"mediumaquamarine\", label='Susceptible Phytoplankton')\n",
    "ax.plot(sol.t, P_I, color=\"yellowgreen\"     , label='Infected Phytoplankton')\n",
    "ax.plot(sol.t, Z,   color=\"darkgreen\"       , label='Zooplanton')\n",
    "ax.plot(sol.t, V_I, color=\"red\"             , label='Intracellular Virus')\n",
    "ax.plot(sol.t, V_E, color=\"darkred\"         , label='Extracellular Virus')\n",
    "ax.plot(sol.t, N_n, color=\"darkviolet\"      , label='Nitrate')\n",
    "ax.plot(sol.t, N_r, color=\"blue\"            , label='Recycled Nutrients')\n",
    "\n",
    "ax.set_xlabel('Time (Day)', fontsize = 12)\n",
    "ax.set_ylabel('Nutrients (mmol m^-3)')\n",
    "ax.set_title('Nutrients per population - one period (approx 25 days)',fontsize = 12)\n",
    "ax.legend(loc=(1.025, .25))\n",
    "ax.grid()\n",
    "\n",
    "total_N =  N_n + N_r + P_U + P_I + Z + V_I + V_E\n",
    "ax2.plot(sol.t, total_N, color='black', label='Total sum')\n",
    "ax2.set_xlabel('Time (Day)', fontsize = 12)\n",
    "ax2.set_ylabel('Total N (mmol m^-3)')\n",
    "ax2.legend(loc=(1.025, .25))\n",
    "ax2.grid()\n",
    "\n",
    "fig.tight_layout()\n",
    "plt.show()"
   ]
  },
  {
   "cell_type": "markdown",
   "id": "dd6d1730",
   "metadata": {},
   "source": [
    "The total nutrient level of the system is fluctuating on the order of 1e-11, which is seemingly due to numerical error as the equations are formulated to be closed. "
   ]
  },
  {
   "cell_type": "markdown",
   "id": "957c4902",
   "metadata": {},
   "source": [
    "## Full Model Run, with coupled parameter inputs"
   ]
  },
  {
   "cell_type": "code",
   "execution_count": 2,
   "id": "7229da64",
   "metadata": {
    "code_folding": [
     0
    ]
   },
   "outputs": [],
   "source": [
    "#Inital Conditions and parameterization\n",
    "alpha = (1 / 1.42e8) * 2.1e-10 * 1e6 # host conversion, mmol ml / NT m^3\n",
    "beta  = (1 / 4e5) * 1.27e-15 * 1e6   # viral conversion, mmol ml / NT m^3\n",
    "\n",
    "V_ind     = 4e5        # NT per individual virus, Table S1\n",
    "S_ind     = 1.42e8     # NT per individual host, Table S1\n",
    "\n",
    "Nn_0 = 0.     #mmol m^-3\n",
    "Nr_0 = 11.    #mmol m^-3  #should keep Nr_0 above 1, for perturbation tests\n",
    "Pu_0 = 1e-5   #mmol m^-3 \n",
    "Pi_0 = 1e-5   #mmol m^-3\n",
    "Z_0  = 1e-5   #mmol m^-3\n",
    "Vi_0 = 1e-5   #mmol m^-3\n",
    "\n",
    "r = 10.\n",
    "Ve_0 = est_viral_abund(r, Pu_0, alpha, beta, S_ind, V_ind)\n",
    "\n",
    "z0 = [Nn_0, Nr_0, Pu_0, Pi_0, Z_0, Vi_0, Ve_0]\n",
    "\n",
    "V_max     = 1.4              # Host growth rate\n",
    "γ_Z       = .4               # Growth rate / Assimilation frequency \n",
    "φ         = 3.5e-10 / beta   # Viral adsorption rate, m^3 / (mmol * day)\n",
    "g         = 1.4              # d^-1 Maximum specific grazing rate\n",
    "\n",
    "ν_x       = V_ind / (V_ind + S_ind) \n",
    "                       # Proportion of nutrients originating \n",
    "                       # from virus in host-virus pair\n",
    "\n",
    "λ_P       = .05        # Mortality & Respiration rate\n",
    "λ_Z       = .05        # d^-1, Linear mortality & respiration & egestion\n",
    "λ_Z_hat   = .1          # Quadratic mortality & respiration & egestion\n",
    "λ_E       = .05        # ARBITRARY VALUE: Extracellular virus mortality \n",
    "δ         = .45        # Host lysis rate\n",
    "\n",
    "μ_V       = .5         # Max host NT recycling rate \n",
    "μ_V_prime = 1.6        # Max de novo NT synthesis rate\n",
    "μ_u       = 0\n",
    "μ_r       = 0          # Viral assimilation fraction related to host mortality\n",
    "μ_s       = 1\n",
    "μ_P       = .4         # Remineralization fraction due to mortality\n",
    "μ_delta   = .4         # ARBITRARY VALUE: Remineralization fraction due to lysis\n",
    "μ_g       = .4         # Remineralization fraction due to sloppy-eating\n",
    "μ_Z       = .4         # Remineralization fraction due to grazer mortality\n",
    "\n",
    "K_N       = .1         # mmol m^-3 # Half-saturation constant for nutrient limitation\n",
    "K_I       = 1          # Half-saturation for light limitation\n",
    "K_h       = 1          # Half-saturation for ... ?\n",
    "K_P       = 2.8        # mmol m^-3, Half-saturation constant for grazing of P\n",
    "I_0       = (np.e - 1) # Compensation irradiance\n",
    "\n",
    "ω         = 0 # Entraintment term\n",
    "\n",
    "param_labels = ['V_max', 'γ_Z', 'φ', 'g', 'ν_x', 'λ_P', 'λ_Z', 'λ_Z_hat', 'λ_E', \n",
    "                'δ', 'μ_V', 'μ_V_prime', 'μ_u', 'μ_r', 'μ_s', 'μ_P', 'μ_delta', \n",
    "                'μ_g', 'μ_Z', 'K_N', 'K_I', 'K_h', 'K_P', 'I_0', 'ω']\n",
    "\n",
    "param = [V_max, γ_Z, φ, g, ν_x, λ_P, λ_Z, λ_Z_hat, λ_E, δ, μ_V, μ_V_prime, \n",
    "          μ_u, μ_r, μ_s, μ_P, μ_delta, μ_g, μ_Z, K_N, K_I, K_h, K_P, I_0, ω]"
   ]
  },
  {
   "cell_type": "code",
   "execution_count": 3,
   "id": "c4d9413a",
   "metadata": {
    "code_folding": [
     0
    ],
    "scrolled": true,
    "tags": []
   },
   "outputs": [
    {
     "name": "stdout",
     "output_type": "stream",
     "text": [
      "Nn_0 = 0.0  Nr_0 = 11.0  Pu_0 = 1e-05  Pi_0 = 1e-05  Z_0 = 1e-05  Vi_0 = 1e-05  Ve_0 = 6.0476e-10  \n",
      " \n",
      "╒════════════════════════════════════════╤═══════════════╤═════════════════╤═══════════════╤══════════════════════╕\n",
      "│ V_max = 1.4                            │ λ_P = 0.05    │ μ_V = 0.5       │ μ_P = 0.4     │ K_I = 1              │\n",
      "├────────────────────────────────────────┼───────────────┼─────────────────┼───────────────┼──────────────────────┤\n",
      "│ γ_Z = 0.4                              │ λ_Z = 0.05    │ μ_V_prime = 1.6 │ μ_delta = 0.4 │ K_h = 1              │\n",
      "├────────────────────────────────────────┼───────────────┼─────────────────┼───────────────┼──────────────────────┤\n",
      "│ φ = 3.5e-10 / beta = 110236.2205       │ λ_Z_hat = 0.1 │ μ_u = 0         │ μ_g = 0.4     │ K_P = 2.8            │\n",
      "├────────────────────────────────────────┼───────────────┼─────────────────┼───────────────┼──────────────────────┤\n",
      "│ g = 1.4                                │ λ_E = 0.05    │ μ_r = 0         │ μ_Z = 0.4     │ I_0 = e - 1 = 1.7183 │\n",
      "├────────────────────────────────────────┼───────────────┼─────────────────┼───────────────┼──────────────────────┤\n",
      "│ ν_x = V_ind / (V_ind + S_ind) = 0.0028 │ δ = 0.45      │ μ_s = 1         │ K_N = 0.1     │ ω = 0                │\n",
      "╘════════════════════════════════════════╧═══════════════╧═════════════════╧═══════════════╧══════════════════════╛\n"
     ]
    }
   ],
   "source": [
    "#Printing initial conditions\n",
    "names = ['Nn_0', 'Nr_0', 'Pu_0', 'Pi_0', 'Z_0', 'Vi_0', 'Ve_0']\n",
    "for i, state in enumerate(names):\n",
    "    print(f'{state} = {z0[i]:.5}', end='  ')\n",
    "print(end='\\n \\n')\n",
    "\n",
    "#Print parameterization\n",
    "param_labels_fp = ['V_max', 'γ_Z', 'φ = 3.5e-10 / beta', 'g', 'ν_x = V_ind / (V_ind + S_ind)', \n",
    "                   'λ_P', 'λ_Z', 'λ_Z_hat', 'λ_E', 'δ', 'μ_V', 'μ_V_prime', 'μ_u', 'μ_r', 'μ_s', \n",
    "                   'μ_P', 'μ_delta', 'μ_g', 'μ_Z', 'K_N', 'K_I', 'K_h', 'K_P', 'I_0 = e - 1', 'ω']\n",
    "\n",
    "print_paramterization(param, param_labels_fp)"
   ]
  },
  {
   "cell_type": "code",
   "execution_count": 4,
   "id": "ca9249c7",
   "metadata": {
    "tags": []
   },
   "outputs": [
    {
     "name": "stdout",
     "output_type": "stream",
     "text": [
      "CPU times: user 3 µs, sys: 2 µs, total: 5 µs\n",
      "Wall time: 9.06 µs\n"
     ]
    }
   ],
   "source": [
    "%time\n",
    "\n",
    "#Running simulation\n",
    "t = 60\n",
    "sol = solve_ivp(model, [0, t], z0, args=param, max_step=.001, method = 'LSODA')"
   ]
  },
  {
   "cell_type": "code",
   "execution_count": 5,
   "id": "bbf9dd26",
   "metadata": {
    "code_folding": [
     0
    ],
    "jupyter": {
     "source_hidden": true
    },
    "tags": []
   },
   "outputs": [],
   "source": [
    "#Plot results\n",
    "# %matplotlib inline\n",
    "\n",
    "# N_n = sol.y[0]\n",
    "# N_r = sol.y[1] \n",
    "# P_U = sol.y[2] #Susceptible Hosts\n",
    "# P_I = sol.y[3] #Infected Hosts\n",
    "# Z   = sol.y[4] #Zooplankton\n",
    "# V_I = sol.y[5] #Internal viruses from host nucleotide recycling \n",
    "#                 #and de novo nucleotide synthesis\n",
    "# V_E = sol.y[6] #Free (extracellular) viruses \n",
    "\n",
    "# short_scale_cutoff = 100\n",
    "\n",
    "# fig = plt.figure(figsize = (13, 11))\n",
    "# ax = fig.subplot_mosaic(\"\"\"ABB;CDD;EFG;HHH\"\"\")\n",
    "\n",
    "# ###\n",
    "# ax[\"A\"].plot(sol.t, N_n, color=\"darkviolet\"      , label='Nitrate')\n",
    "# ax[\"A\"].plot(sol.t, N_r, color=\"blue\"            , label='Recycled Nutrients')\n",
    "# ax[\"A\"].plot(sol.t, P_U, color=\"mediumaquamarine\", label='Susceptible Phytoplankton')\n",
    "# ax[\"A\"].plot(sol.t, P_I, color=\"yellowgreen\"     , label='Infected Phytoplankton')\n",
    "# ax[\"A\"].plot(sol.t, Z,   color=\"darkgreen\"       , label='Zooplanton')\n",
    "# ax[\"A\"].plot(sol.t, V_I, color=\"red\"             , label='Intracellular Virus')\n",
    "# ax[\"A\"].plot(sol.t, V_E, color=\"darkred\"         , label='Extracellular Virus')\n",
    "\n",
    "\n",
    "# ax[\"A\"].set_xlabel('Time (Day)')\n",
    "# ax[\"A\"].set_ylabel('Total Nutrients (mmol m^-3)')\n",
    "# ax[\"A\"].set_title('Dynamics - Short Time')\n",
    "\n",
    "# ax[\"A\"].set_xlim(0, short_scale_cutoff)\n",
    "# #ax[\"A\"].set_xlim(long_scale_cutoff, 5000)\n",
    "\n",
    "# ###\n",
    "# ax[\"B\"].plot(sol.t, P_U, color=\"mediumaquamarine\", label='Susceptible Phytoplankton')\n",
    "# ax[\"B\"].plot(sol.t, P_I, color=\"yellowgreen\"     , label='Infected Phytoplankton')\n",
    "# ax[\"B\"].plot(sol.t, Z,   color=\"darkgreen\"       , label='Zooplanton')\n",
    "# ax[\"B\"].plot(sol.t, V_I, color=\"red\"             , label='Intracellular Virus')\n",
    "# ax[\"B\"].plot(sol.t, V_E, color=\"darkred\"         , label='Extracellular Virus')\n",
    "# ax[\"B\"].plot(sol.t, N_n, color=\"darkviolet\"      , label='Nitrate')\n",
    "# ax[\"B\"].plot(sol.t, N_r, color=\"blue\"            , label='Recycled Nutrients')\n",
    "\n",
    "# ax[\"B\"].set_xlabel('Time (Day)')\n",
    "# ax[\"B\"].set_title('Dynamics - Long Time Scale')\n",
    "\n",
    "\n",
    "# ###\n",
    "# ax[\"C\"].plot(sol.t, P_U, color=\"mediumaquamarine\", label='Susceptible Phytoplankton')\n",
    "# ax[\"C\"].plot(sol.t, P_I, color=\"yellowgreen\"     , label='Infected Phytoplankton')\n",
    "# ax[\"C\"].plot(sol.t, Z,   color=\"darkgreen\"       , label='Zooplanton')\n",
    "# ax[\"C\"].plot(sol.t, V_I, color=\"red\"             , label='Intracellular Virus')\n",
    "# ax[\"C\"].plot(sol.t, V_E, color=\"darkred\"         , label='Extracellular Virus')\n",
    "# ax[\"C\"].plot(sol.t, N_n, color=\"darkviolet\"      , label='Nitrate')\n",
    "# ax[\"C\"].plot(sol.t, N_r, color=\"blue\"            , label='Recycled Nutrients')\n",
    "\n",
    "# ax[\"C\"].set_xlabel('Time (Day)')\n",
    "# ax[\"C\"].set_ylabel('Total Nutrients (mmol m^-3)')\n",
    "# ax[\"C\"].set_title('Dynamics - Semilog Y, Short Time')\n",
    "\n",
    "# ax[\"C\"].set_yscale('log')\n",
    "# ax[\"C\"].set_ylim(1e-12, 30)\n",
    "# ax[\"C\"].set_xlim(-5, short_scale_cutoff)\n",
    "# #ax[\"C\"].set_xlim(long_scale_cutoff, 5000)\n",
    "\n",
    "# ###\n",
    "# ax[\"D\"].plot(sol.t, P_U, color=\"mediumaquamarine\", label='Susceptible Phytoplankton')\n",
    "# ax[\"D\"].plot(sol.t, P_I, color=\"yellowgreen\"     , label='Infected Phytoplankton')\n",
    "# ax[\"D\"].plot(sol.t, Z,   color=\"darkgreen\"       , label='Zooplanton')\n",
    "# ax[\"D\"].plot(sol.t, V_I, color=\"red\"             , label='Intracellular Virus')\n",
    "# ax[\"D\"].plot(sol.t, V_E, color=\"darkred\"         , label='Extracellular Virus')\n",
    "# ax[\"D\"].plot(sol.t, N_n, color=\"darkviolet\"      , label='Nitrate')\n",
    "# ax[\"D\"].plot(sol.t, N_r, color=\"blue\"            , label='Recycled Nutrients')\n",
    "\n",
    "# ax[\"D\"].set_xlabel('Time (Day)')\n",
    "# ax[\"D\"].set_title('Dynamics - Semilog Y, Long Time Scale')\n",
    "\n",
    "# ax[\"D\"].set_yscale('log')\n",
    "# ax[\"D\"].set_ylim(1e-40, 30)\n",
    "\n",
    "# ###\n",
    "# ax[\"E\"].plot(sol.t, P_U, color=\"mediumaquamarine\", label='Susceptible Phytoplankton')\n",
    "# ax[\"E\"].plot(sol.t, P_I, color=\"yellowgreen\"     , label='Infected Phytoplankton')\n",
    "# ax[\"E\"].plot(sol.t, Z,   color=\"darkgreen\"       , label='Zooplanton')\n",
    "# ax[\"F\"].plot(sol.t, V_I, color=\"red\"             , label='Intracellular Virus')\n",
    "# ax[\"F\"].plot(sol.t, V_E, color=\"darkred\"         , label='Extracellular Virus')\n",
    "# ax[\"G\"].plot(sol.t, N_n, color=\"darkviolet\"      , label='Nitrate')\n",
    "# ax[\"G\"].plot(sol.t, N_r, color=\"blue\"            , label='Recycled Nutrients')\n",
    "\n",
    "# ax[\"F\"].set_xlabel('Time (Day)')\n",
    "# ax[\"E\"].set_ylabel('Total Nutrients (mmol m^-3)')\n",
    "# ax[\"F\"].set_title('Dynamics - Short Time Scale')\n",
    "\n",
    "# ###\n",
    "# ax[\"H\"].plot(sol.t, N_n + N_r + P_U + P_I + Z + V_I + V_E, color ='darkorange', label='Numerical Total sum')\n",
    "# ax[\"H\"].plot(sol.t, np.sol(len(sol.t), sum(z0)), '--', color = 'red', label='True Total Sum')\n",
    "\n",
    "# ax[\"H\"].set_xlabel('Time (Day)', fontsize = 12)\n",
    "# ax[\"H\"].set_ylabel('Total Nutrients (mmol m^-3)', fontsize = 12)\n",
    "# ax[\"H\"].set_title('Total Nutrients')\n",
    "\n",
    "\n",
    "# for plot in (\"E\", \"F\", \"G\"):\n",
    "#     ax[plot].legend()\n",
    "#     ax[plot].set_xlim(0, short_scale_cutoff)\n",
    "#     #ax[plot].set_xlim(long_scale_cutoff, 5000)\n",
    "\n",
    "\n",
    "# ax[\"B\"].legend(loc=(.98, .2)), ax[\"D\"].legend(loc=(.80, .1), framealpha=1)\n",
    "\n",
    "# for plot in ax:\n",
    "#     ax[plot].grid(alpha=.3)\n",
    "    \n",
    "# plt.tight_layout()\n",
    "# plt.show()"
   ]
  },
  {
   "cell_type": "code",
   "execution_count": 6,
   "id": "15240b8c-fb55-40dc-889c-96141285b11a",
   "metadata": {
    "tags": []
   },
   "outputs": [
    {
     "name": "stdout",
     "output_type": "stream",
     "text": [
      "CPU times: user 2 µs, sys: 1 µs, total: 3 µs\n",
      "Wall time: 5.96 µs\n"
     ]
    }
   ],
   "source": [
    "%time\n",
    "\n",
    "#Pulling sources and sinks\n",
    "P_I_svs = model_svs(sol, param)"
   ]
  },
  {
   "cell_type": "code",
   "execution_count": null,
   "id": "cf1c31cf-1cdb-4aea-9269-d56f76d1b573",
   "metadata": {},
   "outputs": [],
   "source": []
  },
  {
   "cell_type": "code",
   "execution_count": 7,
   "id": "7696ca5e",
   "metadata": {
    "code_folding": [
     0
    ],
    "tags": []
   },
   "outputs": [
    {
     "data": {
      "image/png": "[encoded data removed]",
      "text/plain": [
       "<Figure size 1000x800 with 3 Axes>"
      ]
     },
     "metadata": {},
     "output_type": "display_data"
    }
   ],
   "source": [
    "#Other Printing Scheme\n",
    "\n",
    "%matplotlib inline\n",
    "\n",
    "N_n = sol.y[0]\n",
    "N_r = sol.y[1] \n",
    "P_U = sol.y[2] #Susceptible Hosts\n",
    "P_I = sol.y[3] #Infected Hosts\n",
    "Z   = sol.y[4] #Zooplankton\n",
    "V_I = sol.y[5] #Internal viruses from host nucleotide recycling \n",
    "                #and de novo nucleotide synthesis\n",
    "V_E = sol.y[6] #Free (extracellular) viruses \n",
    "\n",
    "short_scale_cutoff = 100\n",
    "\n",
    "fig = plt.figure(figsize = (10, 8))\n",
    "ax = fig.subplot_mosaic(\"\"\"A;B;C\"\"\")\n",
    "\n",
    "\n",
    "###\n",
    "ax[\"A\"].plot(sol.t, P_U, color=\"mediumaquamarine\", label='Uninfected Phytoplankton')\n",
    "ax[\"A\"].plot(sol.t, P_I, color=\"yellowgreen\"     , label='Infected Phytoplankton')\n",
    "ax[\"A\"].plot(sol.t, Z,   color=\"darkgreen\"       , label='Zooplanton')\n",
    "ax[\"A\"].plot(sol.t, V_I, color=\"red\"             , label='Intracellular Virus')\n",
    "ax[\"A\"].plot(sol.t, V_E, color=\"darkred\"         , label='Extracellular Virus')\n",
    "ax[\"A\"].plot(sol.t, N_n, color=\"darkviolet\"      , label='Nitrate')\n",
    "ax[\"A\"].plot(sol.t, N_r, color=\"blue\"            , label='Recycled Nutrients')\n",
    "\n",
    "ax[\"A\"].set_title('Dynamics - Long Time Scale')\n",
    "\n",
    "###\n",
    "ax[\"B\"].plot(sol.t, P_U, color=\"mediumaquamarine\", label='Uninfected Phytoplankton')\n",
    "ax[\"B\"].plot(sol.t, P_I, color=\"yellowgreen\"     , label='Infected Phytoplankton')\n",
    "ax[\"B\"].plot(sol.t, Z,   color=\"darkgreen\"       , label='Zooplanton')\n",
    "ax[\"B\"].plot(sol.t, V_I, color=\"red\"             , label='Intracellular Virus')\n",
    "ax[\"B\"].plot(sol.t, V_E, color=\"darkred\"         , label='Extracellular Virus')\n",
    "ax[\"B\"].plot(sol.t, N_n, color=\"darkviolet\"      , label='Nitrate')\n",
    "ax[\"B\"].plot(sol.t, N_r, color=\"blue\"            , label='Recycled Nutrients')\n",
    "\n",
    "ax[\"B\"].set_title('Dynamics - Semilog Y, Long Time Scale')\n",
    "ax[\"B\"].set_yscale('log')\n",
    "ax[\"B\"].set_ylim(1e-10, 65)\n",
    "\n",
    "###\n",
    "ax[\"C\"].plot(sol.t, N_n + N_r + P_U + P_I + Z + V_I + V_E, color ='darkorange', label='Numerical Total Sum')\n",
    "ax[\"C\"].plot(sol.t, np.full(len(sol.t), sum(z0)), '--', color = 'red', label='True Total Sum')\n",
    "\n",
    "ax[\"C\"].set_title('Total Nutrients')\n",
    "\n",
    "for plot in ax:\n",
    "    ax[plot].set_xlabel('Time (Day)')\n",
    "    ax[plot].set_ylabel(r'Nutrients ($mmol/m^3$)')\n",
    "    \n",
    "    ax[plot].grid(alpha=.3)\n",
    "    ax[plot].legend(loc=(1.01, 0), framealpha=1)\n",
    "\n",
    "\n",
    "plt.tight_layout()\n",
    "plt.show()"
   ]
  },
  {
   "cell_type": "code",
   "execution_count": 8,
   "id": "4a142dbe",
   "metadata": {},
   "outputs": [
    {
     "data": {
      "image/png": "[encoded data removed]",
      "text/plain": [
       "<Figure size 640x480 with 1 Axes>"
      ]
     },
     "metadata": {},
     "output_type": "display_data"
    }
   ],
   "source": [
    "plt.plot(sol.t, P_I, label='Infected Phytoplankton')\n",
    "plt.plot(sol.t, P_I_svs['Sources'], '--', label='sources')\n",
    "plt.plot(sol.t, P_I_svs['Sinks'], '--', label='sinks')\n",
    "plt.plot(sol.t, P_I_svs['Sources'] + P_I_svs['Sinks'], label = 'sum')\n",
    "\n",
    "# plt.yscale('log')\n",
    "plt.ylim(-25, 25)\n",
    "plt.grid(alpha=.7)\n",
    "plt.legend(loc=(1.01, 0))\n",
    "plt.show()"
   ]
  },
  {
   "cell_type": "code",
   "execution_count": null,
   "id": "7d5fa4a7",
   "metadata": {},
   "outputs": [],
   "source": []
  },
  {
   "cell_type": "code",
   "execution_count": null,
   "id": "6d1a76d5",
   "metadata": {},
   "outputs": [],
   "source": []
  },
  {
   "cell_type": "code",
   "execution_count": null,
   "id": "bf3d044c",
   "metadata": {},
   "outputs": [],
   "source": []
  },
  {
   "cell_type": "code",
   "execution_count": null,
   "id": "470773be",
   "metadata": {},
   "outputs": [],
   "source": []
  },
  {
   "cell_type": "code",
   "execution_count": null,
   "id": "2966e148",
   "metadata": {},
   "outputs": [],
   "source": []
  },
  {
   "cell_type": "code",
   "execution_count": null,
   "id": "71386574",
   "metadata": {},
   "outputs": [],
   "source": []
  },
  {
   "cell_type": "code",
   "execution_count": null,
   "id": "868dc4cc",
   "metadata": {},
   "outputs": [],
   "source": []
  },
  {
   "cell_type": "code",
   "execution_count": null,
   "id": "3f09a53e",
   "metadata": {},
   "outputs": [],
   "source": []
  },
  {
   "cell_type": "code",
   "execution_count": null,
   "id": "1f4af865",
   "metadata": {},
   "outputs": [],
   "source": []
  },
  {
   "cell_type": "markdown",
   "id": "329a0346",
   "metadata": {},
   "source": [
    "**Change in model shape for different parameter and state initial values**"
   ]
  },
  {
   "cell_type": "code",
   "execution_count": null,
   "id": "95085d37",
   "metadata": {
    "code_folding": [
     0
    ]
   },
   "outputs": [],
   "source": [
    "def structure(t_max):\n",
    "    'Computes the difference (days) between each consecutive infected pyhtoplankton peak'\n",
    "    \n",
    "    l = len(t_max)\n",
    "    periods = []\n",
    "    \n",
    "    if l > 1:\n",
    "        for i in range(l - 1):\n",
    "            periods.append(t_max[i + 1] - t_max[i])\n",
    "    else:\n",
    "        periods = [\"NA\"]\n",
    "    \n",
    "    return periods"
   ]
  },
  {
   "cell_type": "code",
   "execution_count": null,
   "id": "02a6fcac",
   "metadata": {
    "code_folding": [
     0
    ],
    "jupyter": {
     "source_hidden": true
    },
    "tags": []
   },
   "outputs": [],
   "source": [
    "#Integrate for each value of specified NON-STATE variable\n",
    "varied_var = 'μ_V' \n",
    "num = 5\n",
    "t = 500\n",
    "#varied_values = np.linspace(0, 1, num)\n",
    "varied_values = [1, 1.1, 1.11, 1.15, 1.25]\n",
    "#varied_values = [1.4, 1.45, 1.47, 1.476, 1.65]\n",
    "\n",
    "\n",
    "sols = []\n",
    "\n",
    "for i, val in enumerate(varied_values):\n",
    "    ind = param_labels.index(varied_var)\n",
    "    param[ind] = val #redefines specified value in the initial conditions\n",
    "    \n",
    "    # Using brute force \n",
    "    solution = solve_ivp(model, [0, t], z0, args=param, min_step = 1e-5, max_step = .1, method = 'LSODA')   \n",
    "    \n",
    "#     if solution.status == -1:\n",
    "#         solution = solve_ivp(model, [0, t], z0, args=param, max_step = .1, method = \"DOP853\") \n",
    "        \n",
    "    sols.append(solution)"
   ]
  },
  {
   "cell_type": "code",
   "execution_count": null,
   "id": "709416be",
   "metadata": {
    "code_folding": [
     0
    ],
    "jupyter": {
     "source_hidden": true
    },
    "scrolled": true,
    "tags": []
   },
   "outputs": [],
   "source": [
    "#Integrate for each value of specified STATE variable\n",
    "\n",
    "varied_var = 'N_r' \n",
    "num = 400\n",
    "t = 200\n",
    "\n",
    "#varied_values = np.linspace(0, 2, num) #Start at > 0 if running perturbations\n",
    "varied_values = np.logspace(-2, 3, num) * 2e-3\n",
    "\n",
    "sols = []\n",
    "\n",
    "for i, val in enumerate(varied_values):\n",
    "    #Redifines initial state conditions\n",
    "    #SET STATE VAR INDEX\n",
    "    z0[1] = val\n",
    "    \n",
    "    solution = solve_ivp(model, [0, t], z0, args=param, min_step = 1e-8, max_step = .1, method = 'LSODA')       \n",
    "    sols.append(solution)"
   ]
  },
  {
   "cell_type": "code",
   "execution_count": null,
   "id": "0cb9135e",
   "metadata": {},
   "outputs": [],
   "source": []
  },
  {
   "cell_type": "code",
   "execution_count": null,
   "id": "3e11d14f",
   "metadata": {
    "code_folding": [
     0
    ]
   },
   "outputs": [],
   "source": [
    "#Dual varying \n",
    "\n",
    "# varied_var = 'μ_V' \n",
    "# num = 5\n",
    "# t = 6000\n",
    "\n",
    "# varied_values = np.linspace(1, 1.7, num)\n",
    "# varied_total_N  = np.arange(0, 20, .1)\n",
    "\n",
    "# sols = [[] for i in range(len(varied_values))]\n",
    "\n",
    "# for i, val in enumerate(varied_values):\n",
    "    \n",
    "#     for j, total in enumerate(varied_total_N):\n",
    "#         #Redifines initial state conditions\n",
    "#         #SET STATE VAR INDEX\n",
    "#         z0[1] = total\n",
    "        \n",
    "#         #redefines specified value in the initial conditions\n",
    "#         ind = param_labels.index(varied_var)\n",
    "#         param[ind] = val \n",
    "\n",
    "#         solution = solve_ivp(model, [0, t], z0, args=param, min_step = 1e-8, max_step = .1, method = 'LSODA')       \n",
    "#         sols[i].append(solution)"
   ]
  },
  {
   "cell_type": "code",
   "execution_count": null,
   "id": "115e4ba8",
   "metadata": {},
   "outputs": [],
   "source": []
  },
  {
   "cell_type": "markdown",
   "id": "3cbda7bb",
   "metadata": {},
   "source": [
    "**Testing Robusticity**"
   ]
  },
  {
   "cell_type": "code",
   "execution_count": null,
   "id": "a6510169",
   "metadata": {
    "code_folding": [
     0
    ]
   },
   "outputs": [],
   "source": [
    "#Not for large solution sets\n",
    "\n",
    "pls_print = True\n",
    "robust = {}\n",
    "perturbed_sols = [[] for k in range(len(sols))]\n",
    "\n",
    "for i, solution in enumerate(sols):\n",
    "    \n",
    "    z0[1] = varied_values[i] #making sure to vary total nooch levels\n",
    "    \n",
    "    if pls_print:\n",
    "        plt.figure(figsize = (15, 2))\n",
    "        plt.title(f'P_I solution for total N = {round(sum(z0), 5)}')\n",
    "        plt.xlabel(\"Days\")\n",
    "        plt.ylabel(\"mmol N / m^3\")\n",
    "    \n",
    "        sub = int(len(solution.t) * .95)\n",
    "        plt.plot(solution.t[sub: ], solution.y[3][sub: ], label=\"Unperturbed\")\n",
    "\n",
    "    robust[i] = [] #Keys represent particular solution\n",
    "\n",
    "    #Calculate new solution with perturbed intitial conditions\n",
    "    print(f'Comparing perturbations of soluiton {i}...')\n",
    "    \n",
    "    for j in range(2): #number of randomly perturbed runs\n",
    "        \n",
    "        #generating appropriately sized perturbations based on initial condition levels\n",
    "        perturb = np.array([0, 0, ])\n",
    "        \n",
    "        #disregarding N_n and N_r for now; use these quantities to balance mass later\n",
    "        for k, val in enumerate(z0[2: ]): \n",
    "            \n",
    "            #for some val = aeb, want 1e(b-1) <= pert <= 1eb\n",
    "            b = int(math.log10(val)) #extract order of val\n",
    "            \n",
    "            sign = 1 if random.random() < .5 else -1  #generate random sign\n",
    "            p = sign * random.uniform(10 ** (b-1), 10 ** b)  #generate random pert in desired range\n",
    "            \n",
    "            perturb = np.append(perturb, p)\n",
    "            \n",
    "        perturb[1] = -sum(perturb)  #mass balance by subtracting from N_r\n",
    "        init = np.array(z0) + perturb  #redefine initital conditions with perturbations\n",
    "        \n",
    "        #Check for negative initial values\n",
    "        if any(n < 0 for n in init): \n",
    "            print(\"Negative initial values; Beware!\") \n",
    "            print(f\"z0 = {init}\")\n",
    "            print()\n",
    "            \n",
    "#         if sum(perturb) != 0:\n",
    "#             print(\"Perturbations do not add to zero.\")\n",
    "#             print(f\"Sum of perturbations: {sum(perturb)}\")\n",
    "#             print()\n",
    "        \n",
    "        compare = solve_ivp(model, [0, t], init, args=param, min_step=1e-8, max_step = .1, method = 'LSODA')\n",
    "        perturbed_sols[i].append(compare) #saving perturbed solutions for later\n",
    "        \n",
    "        if pls_print:\n",
    "            sub = int(len(solution.t) * .95)\n",
    "            plt.plot(compare.t[sub: ], compare.y[3][sub: ], label=\"Perturbed\")\n",
    "            plt.legend(loc=(1.02, .1))\n",
    "            plt.grid(True, which=\"both\")\n",
    "\n",
    "        #Comparing distance of solutions \n",
    "        begin_ind = int(len(solution.t) * .9) #Finding index which partitions last 10% of data\n",
    "        \n",
    "        dist = []\n",
    "        for point in compare.y[3][begin_ind: ]:\n",
    "            d = abs(solution.y[3][-1] - point) #compare end of purturbed solution to initital solution\n",
    "            dist.append(d)\n",
    "        \n",
    "        if len(dist) == 0:\n",
    "            print(\"Integration Failed :(\")\n",
    "            print()\n",
    "            continue\n",
    "            \n",
    "        robust[i].append(min(dist))\n",
    "        \n",
    "    print('Done!')\n",
    "\n",
    "plt.show()"
   ]
  },
  {
   "cell_type": "code",
   "execution_count": null,
   "id": "c30376e4",
   "metadata": {},
   "outputs": [],
   "source": [
    "robust"
   ]
  },
  {
   "cell_type": "code",
   "execution_count": null,
   "id": "108e388c",
   "metadata": {},
   "outputs": [],
   "source": []
  },
  {
   "cell_type": "markdown",
   "id": "649e46f9",
   "metadata": {},
   "source": [
    "**Plotting Infected Plankton Curve**"
   ]
  },
  {
   "cell_type": "code",
   "execution_count": 13,
   "id": "f979974e",
   "metadata": {
    "code_folding": [
     3
    ]
   },
   "outputs": [],
   "source": [
    "#Pull sources and sinks of Infected Phytoplankton from solutions above\n",
    "P_I_svs = {\"Adsorp\":[], \"Growth\": [], \"Grazing\": [], \"Mortality\": [], \"NT_recy\": [], \"Lysis\": []}\n",
    "\n",
    "N_n = sol.y[0]\n",
    "N_r = sol.y[1] \n",
    "P_U = sol.y[2]\n",
    "P_I = sol.y[3]\n",
    "Z   = sol.y[4]\n",
    "V_I = sol.y[5]\n",
    "V_E = sol.y[6]\n",
    "\n",
    "N = N_n + N_r\n",
    "\n",
    "nutr_lim = N / (K_N + N)\n",
    "\n",
    "thresh = 1e-8\n",
    "l = len(sol.t)\n",
    "\n",
    "nu_i = []\n",
    "P_U_scale = [1] * l\n",
    "P_I_scale = [1] * l\n",
    "Z_scale   = [1] * l \n",
    "V_I_scale = [1] * l\n",
    "\n",
    "for j in range(l):\n",
    "\n",
    "    if P_U[j] < thresh:\n",
    "        P_U_scale[j] = P_U[j] / thresh \n",
    "\n",
    "    if P_I[j] < thresh:\n",
    "        P_I_scale[j] = P_I[j] / thresh\n",
    "\n",
    "    if Z[j] < thresh:\n",
    "        Z_scale[j] = Z[j] / thresh\n",
    "\n",
    "    if V_I[j] < thresh:\n",
    "        V_I_scale[j] = V_I[j] / thresh \n",
    "\n",
    "    if V_I[j] == 0:  nu_i.append(0)\n",
    "    else:\n",
    "        num = V_I[j] / ((beta * P_I[j] / alpha) + V_I[j])\n",
    "        nu_i.append(num)\n",
    "\n",
    "P_U_scale = np.array(P_U_scale)\n",
    "P_I_scale = np.array(P_I_scale)\n",
    "Z_scale   = np.array(Z_scale) \n",
    "V_I_scale = np.array(V_I_scale)\n",
    "nu_i = np.array(nu_i)\n",
    "\n",
    "### Sans P_I coeffs, therefore dim = 1/day\n",
    "adsorp    = P_I_scale * (1 - ν_x) * φ * μ_s * P_U * V_E / P_I\n",
    "growth    = P_I_scale * (1 - P_U_scale * μ_u) * V_max * nutr_lim\n",
    "\n",
    "grazing   = g * Z_scale * Z / K_P\n",
    "mortality = np.full(l, λ_P)\n",
    "nt_recy   = V_I_scale * nu_i * μ_V\n",
    "lysis     = nu_i * δ\n",
    "\n",
    "P_I_svs[\"Adsorp\"].append(adsorp)\n",
    "P_I_svs[\"Growth\"].append(growth)\n",
    "P_I_svs[\"Grazing\"].append(grazing)\n",
    "P_I_svs[\"Mortality\"].append(mortality)\n",
    "P_I_svs[\"NT_recy\"].append(nt_recy)\n",
    "P_I_svs[\"Lysis\"].append(lysis)"
   ]
  },
  {
   "cell_type": "code",
   "execution_count": 30,
   "id": "cd4ed487-2df3-4d69-ac80-0d2d9f98c43e",
   "metadata": {},
   "outputs": [
    {
     "data": {
      "text/plain": [
       "[<matplotlib.lines.Line2D at 0x29b543580>]"
      ]
     },
     "execution_count": 30,
     "metadata": {},
     "output_type": "execute_result"
    },
    {
     "data": {
      "image/png": "[encoded data removed]",
      "text/plain": [
       "<Figure size 640x480 with 1 Axes>"
      ]
     },
     "metadata": {},
     "output_type": "display_data"
    }
   ],
   "source": [
    "\n"
   ]
  },
  {
   "cell_type": "code",
   "execution_count": null,
   "id": "c2aee53e",
   "metadata": {
    "code_folding": [
     0
    ]
   },
   "outputs": [],
   "source": [
    "#Plotting sol system, with enphasis on infected plankton \n",
    "fig, axs = plt.subplots(num, 1, constrained_layout=True, figsize=(15, 25))\n",
    "\n",
    "for i, solution in enumerate(sols):\n",
    "    l_max = argrelmax(solution.y[3])[0]\n",
    "    t_max = [solution.t[i] for i in l_max]\n",
    "    y_max = [solution.y[3][i] for i in l_max]\n",
    "\n",
    "    per = structure(t_max)\n",
    "    axs[i].plot(solution.t, solution.y[0], color=\"darkviolet\"      , label='N_n', alpha = .3)\n",
    "    axs[i].plot(solution.t, solution.y[1], color=\"blue\"            , label='N_r', alpha = .3)\n",
    "    axs[i].plot(solution.t, solution.y[2], color=\"mediumaquamarine\", label='P_U', alpha = .3)\n",
    "    axs[i].plot(solution.t, solution.y[3], color=\"black\"           , label='P_I')\n",
    "    axs[i].plot(solution.t, solution.y[4], color=\"darkgreen\"       , label='Z', alpha = .3)\n",
    "    axs[i].plot(solution.t, solution.y[5], color=\"red\"             , label='V_I', alpha = .3)\n",
    "    axs[i].plot(solution.t, solution.y[6], color=\"darkred\"         , label='V_E', alpha = .3)\n",
    "    \n",
    "    axs[i].text(1.01, .9, varied_var + f' = {round(varied_values[i], 8)}', \n",
    "                backgroundcolor='white', transform = axs[i].transAxes, fontsize = 12)\n",
    "                \n",
    "    axs[i].scatter(t_max, y_max, color = 'red', label = \"Local Max\")\n",
    "\n",
    "    h = .75\n",
    "    for j in range(len(per)):\n",
    "\n",
    "        if j > 4: break\n",
    "\n",
    "        if per[j] != 'NA':\n",
    "            axs[i].text(1.11, h, f'P{j + 1}: {round(per[j], 3)}', \n",
    "                    backgroundcolor='white', transform = axs[i].transAxes)\n",
    "            h -= .1\n",
    "\n",
    "        else:\n",
    "            axs[i].text(1.11, h, f'P{j + 1}: NA', \n",
    "                    backgroundcolor='white', transform = axs[i].transAxes)\n",
    "            break\n",
    "    \n",
    "    #axs[i].plot(solution.t, np.sol(len(solution.t), 1e-8), '--', color='lightgray')\n",
    "    \n",
    "    axs[i].set_xlabel('Time (Day)')\n",
    "    axs[i].set_ylabel('mmol N / m^3')\n",
    "    axs[0].set_title('Dynamics - Semilog Y, Long Time Scale',fontsize = 12)\n",
    "\n",
    "    axs[i].set_yscale('log')\n",
    "    axs[i].set_ylim(1e-9, 1e2)\n",
    "    axs[i].set_xlim(- t * .01, t * 1.01)\n",
    "    axs[i].grid(alpha=.3); axs[i].legend(loc=(1.01, .1))\n",
    "\n"
   ]
  },
  {
   "cell_type": "code",
   "execution_count": null,
   "id": "578573af",
   "metadata": {
    "code_folding": [
     0
    ]
   },
   "outputs": [],
   "source": [
    "#Plotting sol system WITH small time scale\n",
    "%matplotlib inline\n",
    "\n",
    "fig, axs = plt.subplots(num, 2, figsize=(16, 30), width_ratios=[1, 2])\n",
    "\n",
    "\n",
    "for i, solution in enumerate(sols):\n",
    "    \n",
    "    short_time = 1000\n",
    "    axs[i][0].plot(solution.t[0: short_time], solution.y[0][0: short_time], color=\"darkviolet\"      , label='N_n', alpha = .3)\n",
    "    axs[i][0].plot(solution.t[0: short_time], solution.y[1][0: short_time], color=\"blue\"            , label='N_r', alpha = .3)\n",
    "    axs[i][0].plot(solution.t[0: short_time], solution.y[2][0: short_time], color=\"mediumaquamarine\", label='P_U', alpha = .3)\n",
    "    axs[i][0].plot(solution.t[0: short_time], solution.y[3][0: short_time], color=\"black\"           , label='P_I')\n",
    "    axs[i][0].plot(solution.t[0: short_time], solution.y[4][0: short_time], color=\"darkgreen\"       , label='Z', alpha = .3)\n",
    "    axs[i][0].plot(solution.t[0: short_time], solution.y[5][0: short_time], color=\"red\"             , label='V_I', alpha = .3)\n",
    "    axs[i][0].plot(solution.t[0: short_time], solution.y[6][0: short_time], color=\"darkred\"         , label='V_E', alpha = .3)\n",
    "    \n",
    "    \n",
    "    l_max = argrelmax(solution.y[3])[0]\n",
    "    t_max = [solution.t[i] for i in l_max]\n",
    "    y_max = [solution.y[3][i] for i in l_max]\n",
    "\n",
    "    per = structure(t_max)\n",
    "    axs[i][1].plot(solution.t, solution.y[0], color=\"darkviolet\"      , label='N_n', alpha = .3)\n",
    "    axs[i][1].plot(solution.t, solution.y[1], color=\"blue\"            , label='N_r', alpha = .3)\n",
    "    axs[i][1].plot(solution.t, solution.y[2], color=\"mediumaquamarine\", label='P_U', alpha = .3)\n",
    "    axs[i][1].plot(solution.t, solution.y[3], color=\"black\"           , label='P_I')\n",
    "    axs[i][1].plot(solution.t, solution.y[4], color=\"darkgreen\"       , label='Z', alpha = .3)\n",
    "    axs[i][1].plot(solution.t, solution.y[5], color=\"red\"             , label='V_I', alpha = .3)\n",
    "    axs[i][1].plot(solution.t, solution.y[6], color=\"darkred\"         , label='V_E', alpha = .3)\n",
    "    \n",
    "#     print(f'Steady state solution values for N_n(0) = {Nn_0} and N_r(0) = {varied_values[i]}')\n",
    "#     print(f\"N_n = {solution.y[0][-1]}\")\n",
    "#     print(f\"N_r = {solution.y[1][-1]}\")\n",
    "#     print(f\"P_U = {solution.y[2][-1]}\")\n",
    "#     print(f\"P_I = {solution.y[3][-1]}\")\n",
    "#     print(f\"Z   = {solution.y[4][-1]}\")\n",
    "#     print(f\"V_I = {solution.y[5][-1]}\")\n",
    "#     print(f\"V_E = {solution.y[6][-1]}\")\n",
    "#     print()\n",
    "    \n",
    "    \n",
    "    axs[i][1].text(1.01, .9, varied_var + f'(0) = {round(varied_values[i], 8)}', \n",
    "                backgroundcolor='white', transform = axs[i][1].transAxes, fontsize = 12)\n",
    "                \n",
    "    #axs[i][1].scatter(t_max, y_max, color = 'red', label = \"Local Max\")\n",
    "\n",
    "    h = .75\n",
    "    for j in range(len(per)):\n",
    "\n",
    "        if j > 7: break\n",
    "\n",
    "        if per[j] != 'NA':\n",
    "            axs[i][1].text(1.15, h, f'P{j + 1}: {round(per[j], 3)}', \n",
    "                    backgroundcolor='white', transform = axs[i][1].transAxes)\n",
    "            h -= .1\n",
    "\n",
    "        else:\n",
    "            axs[i][1].text(1.15, h, f'P{j + 1}: NA', \n",
    "                    backgroundcolor='white', transform = axs[i][1].transAxes)\n",
    "            break\n",
    "    \n",
    "    #axs[i].plot(solution.t, np.sol(len(solution.t), 1e-8), '--', color='lightgray')\n",
    "    \n",
    "    \n",
    "    axs[i][0].set_ylabel('mmol N / m^3')\n",
    "    axs[i][0].set_xlabel('Time (Day)')\n",
    "    axs[i][1].set_xlabel('Time (Day)')\n",
    "    axs[0][1].set_title(f'Dynamics for N_n(0) = {Nn_0}',fontsize = 16)\n",
    "\n",
    "    axs[i][1].set_yscale('log')\n",
    "    axs[i][1].set_ylim(1e-9, 1e2)\n",
    "    axs[i][1].set_xlim(- t * .01, t * 1.01)\n",
    "    axs[i][0].grid(alpha=.3); axs[i][1].grid(alpha=.3); \n",
    "    axs[i][1].legend(loc=(1.01, 0))\n",
    "\n",
    "    fig.tight_layout()\n"
   ]
  },
  {
   "cell_type": "code",
   "execution_count": null,
   "id": "62f0f8f6",
   "metadata": {
    "code_folding": [
     0
    ]
   },
   "outputs": [],
   "source": [
    "#Plotting sol system JUST small time scale\n",
    "%matplotlib inline\n",
    "fig, axs = plt.subplots(num, 2, figsize=(12, 20))\n",
    "\n",
    "for i, solution in enumerate(sols):\n",
    "    \n",
    "    short_time = 500\n",
    "    axs[i][0].plot(solution.t[0: short_time], solution.y[0][0: short_time], color=\"darkviolet\"      , label='N_n', alpha = .3)\n",
    "    axs[i][0].plot(solution.t[0: short_time], solution.y[1][0: short_time], color=\"blue\"            , label='N_r', alpha = .3)\n",
    "    axs[i][0].plot(solution.t[0: short_time], solution.y[2][0: short_time], color=\"mediumaquamarine\", label='P_U', alpha = .3)\n",
    "    axs[i][0].plot(solution.t[0: short_time], solution.y[3][0: short_time], color=\"black\"           , label='P_I')\n",
    "    axs[i][0].plot(solution.t[0: short_time], solution.y[4][0: short_time], color=\"darkgreen\"       , label='Z', alpha = .3)\n",
    "    axs[i][0].plot(solution.t[0: short_time], solution.y[5][0: short_time], color=\"red\"             , label='V_I', alpha = .3)\n",
    "    axs[i][0].plot(solution.t[0: short_time], solution.y[6][0: short_time], color=\"darkred\"         , label='V_E', alpha = .3)\n",
    "\n",
    "    axs[i][0].set_ylabel('mmol N / m^3')\n",
    "    axs[i][0].set_xlabel('Time (Day)')\n",
    "    axs[i][0].set_title(f'Dynamics for Ve_0 = {round(varied_values[i], 8)}',fontsize = 12)\n",
    "\n",
    "    axs[i][1].plot(solution.t[0: short_time], solution.y[0][0: short_time], color=\"darkviolet\"      , label='N_n', alpha = .3)\n",
    "    axs[i][1].plot(solution.t[0: short_time], solution.y[1][0: short_time], color=\"blue\"            , label='N_r', alpha = .3)\n",
    "    axs[i][1].plot(solution.t[0: short_time], solution.y[2][0: short_time], color=\"mediumaquamarine\", label='P_U', alpha = .3)\n",
    "    axs[i][1].plot(solution.t[0: short_time], solution.y[3][0: short_time], color=\"black\"           , label='P_I')\n",
    "    axs[i][1].plot(solution.t[0: short_time], solution.y[4][0: short_time], color=\"darkgreen\"       , label='Z', alpha = .3)\n",
    "    axs[i][1].plot(solution.t[0: short_time], solution.y[5][0: short_time], color=\"red\"             , label='V_I', alpha = .3)\n",
    "    axs[i][1].plot(solution.t[0: short_time], solution.y[6][0: short_time], color=\"darkred\"         , label='V_E', alpha = .3)\n",
    "\n",
    "    axs[i][1].set_ylabel('mmol N / m^3')\n",
    "    axs[i][1].set_xlabel('Time (Day)')\n",
    "    axs[i][1].set_title(f'Dynamics for Ve_0 = {round(varied_values[i], 8)}',fontsize = 12)\n",
    "    \n",
    "    axs[i][1].set_yscale('log')\n",
    "    axs[i][1].set_ylim(1e-9, 1e2)\n",
    "\n",
    "    axs[i][1].grid(alpha=.3); axs[i][0].grid(alpha=.3); axs[i][1].grid(alpha=.3)\n",
    "    \n",
    "axs[-1][1].legend(loc=(1.01, 0))\n",
    "fig.tight_layout()\n"
   ]
  },
  {
   "cell_type": "code",
   "execution_count": null,
   "id": "a50a6f76",
   "metadata": {
    "code_folding": [
     0
    ]
   },
   "outputs": [],
   "source": [
    "#Plotting sol system w/ SOURCES and SINKS \n",
    "for i, solution in enumerate(sols):\n",
    "    \n",
    "    fig, axs = plt.subplots(2, 1, figsize=(15, 6))\n",
    "        \n",
    "    l_max = argrelmax(solution.y[3])[0]\n",
    "    t_max = [solution.t[i] for i in l_max]\n",
    "    y_max = [solution.y[3][i] for i in l_max]\n",
    "\n",
    "    per = structure(t_max)\n",
    "    axs[0].plot(solution.t, solution.y[0], color=\"darkviolet\"      , label='N_n', alpha = .3)\n",
    "    axs[0].plot(solution.t, solution.y[1], color=\"blue\"            , label='N_r', alpha = .3)\n",
    "    axs[0].plot(solution.t, solution.y[2], color=\"mediumaquamarine\", label='P_U', alpha = .3)\n",
    "    axs[0].plot(solution.t, solution.y[3], color=\"black\"           , label='P_I')\n",
    "    axs[0].plot(solution.t, solution.y[4], color=\"darkgreen\"       , label='Z', alpha = .3)\n",
    "    axs[0].plot(solution.t, solution.y[5], color=\"red\"             , label='V_I', alpha = .3)\n",
    "    axs[0].plot(solution.t, solution.y[6], color=\"darkred\"         , label='V_E', alpha = .3)\n",
    "\n",
    "    axs[0].text(1.02, .9, varied_var + f'= {round(varied_values[i], 8)}', \n",
    "                backgroundcolor='white', transform = axs[0].transAxes, fontsize = 12)\n",
    "                \n",
    "#    axs[0].scatter(t_max, y_max, color = 'red', label = \"Local Max\")\n",
    "\n",
    "#     h = .7\n",
    "#     for j in range(len(per)):\n",
    "\n",
    "#         if j > 2: break\n",
    "\n",
    "#         if per[j] != 'NA':\n",
    "#             axs[0].text(1.25, h, f'Period {j + 1}: {round(per[j], 3)} days', \n",
    "#                     backgroundcolor='white', transform = axs[0].transAxes)\n",
    "#             h -= .1\n",
    "\n",
    "#         else:\n",
    "#             axs[0].text(1.25, h, f'Period {j + 1}: NA', \n",
    "#                     backgroundcolor='white', transform = axs[0].transAxes)\n",
    "#             break\n",
    "    \n",
    "    axs[0].plot(solution.t, np.sol(len(solution.t), 1e-8), '--', color='lightgray')\n",
    "    \n",
    "    axs[0].set_ylabel('mmol N / m^3')\n",
    "    axs[0].set_title(f'Dynamics for N_n(0) = {Nn_0}',fontsize = 16)\n",
    "\n",
    "    axs[0].set_yscale('log')\n",
    "    axs[0].set_ylim(1e-9, 1e2)\n",
    "    axs[0].set_xlim(- t * .01, t * 1.01)\n",
    "    axs[0].grid(alpha=.3); axs[0].legend(loc=(1.02, 0))\n",
    "    \n",
    "    \n",
    "    #calc and plot sources and sinks for P_I\n",
    "    sources = P_I_svs[\"Adsorp\"][i] + P_I_svs[\"Growth\"][i]\n",
    "    sinks = P_I_svs[\"Grazing\"][i] + P_I_svs[\"Mortality\"][i] \\\n",
    "            + P_I_svs[\"NT_recy\"][i] + P_I_svs[\"Lysis\"][i]\n",
    "    \n",
    "    axs[1].plot(solution.t, sources, label = 'Sources', color='black')\n",
    "    axs[1].plot(solution.t, P_I_svs[\"Adsorp\"][i], label = 'Adsorption', alpha = .5)\n",
    "    axs[1].plot(solution.t, P_I_svs[\"Growth\"][i], label='Growth', alpha = .5)\n",
    "    \n",
    "    axs[1].plot(solution.t, sinks, '--', color = 'black', label ='Sinks')\n",
    "    axs[1].plot(solution.t, P_I_svs[\"Grazing\"][i], '--', label='Grazing', alpha = .5)\n",
    "    axs[1].plot(solution.t, P_I_svs[\"Mortality\"][i], '--', label='Mortality', alpha = .5)\n",
    "    axs[1].plot(solution.t, P_I_svs[\"NT_recy\"][i], '--', label='NT Recycling', alpha = .5)\n",
    "    axs[1].plot(solution.t, P_I_svs[\"Lysis\"][i], '--', label='Lysis', alpha = .5)\n",
    "    \n",
    "    #axs[1].plot(solution.t, sources - sinks, label = 'P_I', color='red')\n",
    "    \n",
    "    #calc and plot sources and sinks for V_I\n",
    "#     sources = V_I_svs[\"Growth\"][i] + V_I_svs[\"Adsorp\"][i]\n",
    "#     sinks = V_I_svs[\"Grazing\"][i] + V_I_svs[\"Lysis\"][i] + V_I_svs[\"Host Mortality\"][i]\n",
    "    \n",
    "#     axs[1].plot(solution.t, sources, label = 'Sources', color='black')\n",
    "#     axs[1].plot(solution.t, V_I_svs[\"Adsorp\"][i], label = 'Adsorption', alpha = .3)\n",
    "#     axs[1].plot(solution.t, V_I_svs[\"Growth\"][i], label='Growth', alpha = .3)\n",
    "    \n",
    "#     axs[1].plot(solution.t, sinks, '--', color = 'black', label ='Sinks')\n",
    "#     axs[1].plot(solution.t, V_I_svs[\"Grazing\"][i], '--', label='Grazing', alpha = .3)\n",
    "#     axs[1].plot(solution.t, V_I_svs[\"Lysis\"][i], '--', label='Lysis', alpha = .3)\n",
    "#     axs[1].plot(solution.t, V_I_svs[\"Host Mortality\"][i], '--', label='Mortality', alpha = .3)\n",
    "    \n",
    "    axs[1].set_xlabel('Time (Day)')\n",
    "    axs[1].set_ylabel('per Day')\n",
    "    axs[1].set_title('Sources vs. Sinks of P_I',fontsize = 12)\n",
    "\n",
    "    axs[1].set_yscale('log')\n",
    "    axs[1].set_ylim(1e-3, 1e1)\n",
    "    axs[1].set_xlim(- t * .01, t * 1.01)\n",
    "    axs[1].grid(alpha=.3); axs[1].legend(loc=(1.01, 0))\n",
    "    \n",
    "    fig.tight_layout(pad=2)\n",
    "    "
   ]
  },
  {
   "cell_type": "code",
   "execution_count": null,
   "id": "07e210d9",
   "metadata": {
    "code_folding": [
     0
    ]
   },
   "outputs": [],
   "source": [
    "#Animation of progression of solutions\n",
    "%matplotlib tk\n",
    "\n",
    "total_N_list = np.array([sum(solution.y[:, 0]) for solution in sols], dtype=object)\n",
    "\n",
    "time = np.array([solution.t for solution in sols], dtype=object)\n",
    "\n",
    "Nn = np.array([solution.y[0] for solution in sols], dtype=object)\n",
    "Nr = np.array([solution.y[1] for solution in sols], dtype=object)\n",
    "PU = np.array([solution.y[2] for solution in sols], dtype=object)\n",
    "PI = np.array([solution.y[3] for solution in sols], dtype=object)\n",
    "Z  = np.array([solution.y[4] for solution in sols], dtype=object)\n",
    "VI = np.array([solution.y[5] for solution in sols], dtype=object)\n",
    "VE = np.array([solution.y[6] for solution in sols], dtype=object)\n",
    "\n",
    "fig, ax = plt.subplots(figsize=(15, 5))\n",
    "\n",
    "ax.set_xlim(0, t)\n",
    "ax.set_ylim(0, 10)\n",
    "\n",
    "def animate(i):\n",
    "    ax.clear()\n",
    "    \n",
    "    plt.subplots_adjust(top=.8, bottom=.15, left=.07)\n",
    "    \n",
    "    ax.text(0.09, 1.16, \n",
    "            f'Nn_0 = {z0[0]},  Nr_0 = {varied_values[i]:>6.5},  Pu_0 = {z0[2]},  Pi_0 = {z0[3]},  Z_0 = {z0[4]},  Vi_0 = {z0[5]},  Ve_0 = {z0[6]}', \n",
    "            fontsize=14, \n",
    "            transform=ax.transAxes)\n",
    "    \n",
    "    ax.plot(time[i], Nn[i], color=\"darkviolet\"      ,label = \"N_n\")\n",
    "    ax.plot(time[i], Nr[i], color=\"blue\"            ,label = \"N_r\")\n",
    "    ax.plot(time[i], PU[i], color=\"mediumaquamarine\",label = \"P_U\")\n",
    "    ax.plot(time[i], PI[i], color=\"limegreen\"       ,label = \"P_I\")\n",
    "    ax.plot(time[i], Z [i], color=\"darkgreen\"       ,label = \"Z \")\n",
    "    ax.plot(time[i], VI[i], color=\"red\"             ,label = \"V_I\")\n",
    "    ax.plot(time[i], VE[i], color=\"darkred\"         ,label = \"V_E\")\n",
    "\n",
    "    ax.legend(loc=(1.01, 0))\n",
    "    ax.set_xlabel('Time (Day)',fontsize = 12)\n",
    "    ax.set_ylabel('mmol N / m^3',fontsize = 12)\n",
    "\n",
    "    ax.set_title(f'Dynamics for N_T = {total_N_list[i]:.5}',fontsize = 14)\n",
    "    ax.set_yscale('log')\n",
    "    ax.set_xlim(-t * .01, t * 1.01)\n",
    "    ax.set_ylim(1e-9, 1e2)\n",
    "    ax.grid(alpha=.3)\n",
    "    \n",
    "ani = matplotlib.animation.FuncAnimation(fig, animate, frames=len(sols))\n",
    "\n"
   ]
  },
  {
   "cell_type": "code",
   "execution_count": null,
   "id": "4690a482",
   "metadata": {},
   "outputs": [],
   "source": []
  },
  {
   "cell_type": "markdown",
   "id": "09d526aa",
   "metadata": {},
   "source": [
    "**Plotting ν_i over time**"
   ]
  },
  {
   "cell_type": "code",
   "execution_count": null,
   "id": "cc4639e7",
   "metadata": {
    "code_folding": [
     8
    ]
   },
   "outputs": [],
   "source": [
    "fig, axs = plt.subplots(1, constrained_layout=True, figsize=(15,4))\n",
    "fig.suptitle(f\"ν_i Response to Change in {varied_var}\", fontsize=12)\n",
    "\n",
    "linestyles = [(0, (3, 1, 1, 1, 1, 1)), 'dashdot', 'dotted', 'dashed', 'solid']\n",
    "colors = ['darkslateblue', 'blue', 'mediumturquoise', 'gold', 'darkgoldenrod']\n",
    "\n",
    "nu_i = {}\n",
    "\n",
    "for i, solution in enumerate(sols):\n",
    "    \n",
    "    P_I = solution.y[3]\n",
    "    V_I = solution.y[5]\n",
    "    \n",
    "    nu_i[i] = []\n",
    "    \n",
    "    for j in range(len(solution.t)):\n",
    "        if V_I[j] == 0:  nu_i.append(0)\n",
    "        \n",
    "        else:\n",
    "            nu_i_spec = V_I[j] / ((beta * P_I[j] / alpha) + V_I[j])\n",
    "            nu_i[i].append(np.array(nu_i_spec))\n",
    "\n",
    "#     axs.plot(solution.t, nu_i[i], linestyle = linestyles[i], color = 'black',\n",
    "#              label = \"ν_i for \" + varied_var + f'= {round(varied_values[i], 3)}')\n",
    "\n",
    "    axs.plot(solution.t, nu_i[i], color = colors[i], linewidth=2,\n",
    "             label = \"ν_i for \" + varied_var + f'= {round(varied_values[i], 3)}')\n",
    "\n",
    "axs.grid(alpha=.3); axs.legend(loc='lower right')\n"
   ]
  },
  {
   "cell_type": "markdown",
   "id": "525d9693",
   "metadata": {},
   "source": [
    "**Plotting $\\frac{\\beta}{\\alpha} P_I$ vs. $V_I$**"
   ]
  },
  {
   "cell_type": "code",
   "execution_count": null,
   "id": "ee8b28e7",
   "metadata": {
    "code_folding": [
     0
    ]
   },
   "outputs": [],
   "source": [
    "# fig, axs = plt.subplots(1, num, figsize=(23, 4))\n",
    "\n",
    "# for i, solution in enumerate(sols):\n",
    "    \n",
    "#     x = beta * solution.y[3] / alpha\n",
    "#     #x = solution.y[3]\n",
    "#     y = solution.y[5]\n",
    "    \n",
    "#     points = np.array([x, y]).T.reshape(-1, 1, 2)\n",
    "#     segments = np.concatenate([points[:-1], points[1:]], axis=1)\n",
    "\n",
    "#     # Create a continuous norm to map from data points to colors\n",
    "#     norm = plt.Normalize(min(nu_i[i]), max(nu_i[i]))\n",
    "#     lc = LineCollection(segments, cmap='viridis', norm=norm)\n",
    "\n",
    "#     #Plot statement\n",
    "#     axs[i].plot(x, y)\n",
    "   \n",
    "#     # Set the values used for colormapping\n",
    "#     lc.set_array(nu_i[i])\n",
    "#     lc.set_linewidth(2)\n",
    "#     line = axs[i].add_collection(lc)\n",
    "#     fig.colorbar(line, ax=axs[i], label='ν_i')\n",
    "    \n",
    "#     axs[i].ticklabel_format(axis='both', style='sci', scilimits=(0, 0))\n",
    "#     axs[i].set_xlabel(r'$\\beta \\; P_I \\; / \\; \\alpha$ (mmol N / m^3)')\n",
    "#     axs[i].set_ylabel('$V_I$ (mmol N / m^3)')\n",
    "#     axs[i].set_title(varied_var + f' = {varied_values[i]}',fontsize = 12)\n",
    "\n",
    "#     fig.tight_layout(pad=2)\n",
    "#     axs[i].grid(alpha=.3)"
   ]
  },
  {
   "cell_type": "markdown",
   "id": "38e16a69",
   "metadata": {},
   "source": [
    "**Plotting nutrient limitation function**"
   ]
  },
  {
   "cell_type": "code",
   "execution_count": null,
   "id": "b81fdb36",
   "metadata": {
    "code_folding": [
     2
    ]
   },
   "outputs": [],
   "source": [
    "fig, axs = plt.subplots(1, constrained_layout=True, figsize=(15,4))\n",
    "\n",
    "for i, solution in enumerate(sols):\n",
    "    \n",
    "    N = solution.y[0] + solution.y[1]\n",
    "    \n",
    "    axs.plot(N / (K_N + N) , label=f\"N_r(0)={varied_values[i]}\")\n",
    "    axs.legend(); axs.grid(alpha=.3)"
   ]
  },
  {
   "cell_type": "code",
   "execution_count": null,
   "id": "7e7f9b9c",
   "metadata": {},
   "outputs": [],
   "source": []
  },
  {
   "cell_type": "code",
   "execution_count": null,
   "id": "236997b9",
   "metadata": {},
   "outputs": [],
   "source": []
  },
  {
   "cell_type": "markdown",
   "id": "34d265aa",
   "metadata": {},
   "source": [
    "# Steady State Solution Behavior"
   ]
  },
  {
   "cell_type": "code",
   "execution_count": null,
   "id": "135d24ba",
   "metadata": {},
   "outputs": [],
   "source": [
    "#Import Steady state levels\n",
    "\n",
    "%store -r ss_sols"
   ]
  },
  {
   "cell_type": "code",
   "execution_count": null,
   "id": "b5b6d704",
   "metadata": {},
   "outputs": [],
   "source": [
    "ss_sols[1] #z0, solve_ivp solution, steady state, convergence time"
   ]
  },
  {
   "cell_type": "code",
   "execution_count": null,
   "id": "15bdfe66",
   "metadata": {
    "code_folding": []
   },
   "outputs": [],
   "source": [
    "#Brute Force tech for vars - avg long t-span, over cohesive time chunk wrt P_I\n",
    "\n",
    "#Define dictionary to hold steady state values at different varied_var\n",
    "keys = \"N_n\", \"N_r\", \"P_U\", \"P_I\", \"Z\", \"V_I\", \"V_E\", \"N_T\"\n",
    "\n",
    "brute_force = {\"N_n\": np.array([]), \"N_r\": np.array([]), \n",
    "               \"P_U\": np.array([]), \"P_I\": np.array([]), \n",
    "               \"Z\": np.array([]), \"V_I\": np.array([]), \n",
    "               \"V_E\": np.array([]), \"N_T\": np.array([])}\n",
    "\n",
    "for i, solution in enumerate(sols):\n",
    "    \n",
    "    total = 0\n",
    "    index = int(len(solution.t) * .9) #Take last 10% of solution\n",
    "    \n",
    "    for k, key in enumerate(keys[:-1]):\n",
    "\n",
    "        y_end = solution.y[k][index: ] #look at tail end of specific state\n",
    "    \n",
    "        l_min = argrelmin(y_end)[0]  #Extracting local minimum and maximum\n",
    "        l_max = argrelmax(y_end)[0]\n",
    "    \n",
    "        if (len(l_min) == 0) or (len(l_max) == 0):\n",
    "            avg = solution.y[k][-1]\n",
    "        \n",
    "        else:\n",
    "            y_min = y_end[l_min]\n",
    "            y_max = y_end[l_max]\n",
    "            \n",
    "            min_n_max = np.concatenate((y_min, y_max))\n",
    "            avg = np.mean(min_n_max)\n",
    "        \n",
    "        brute_force[key] = np.append(brute_force[key], avg)\n",
    "        total += avg\n",
    "    \n",
    "    \n",
    "    brute_force[\"N_T\"] = np.append(brute_force[\"N_T\"], total)\n",
    "\n",
    "N_T = brute_force['N_T']\n",
    "N_n = brute_force['N_n']\n",
    "N_r = brute_force['N_r']\n",
    "P_U = brute_force['P_U']\n",
    "P_I = brute_force['P_I']\n",
    "Z_  = brute_force['Z']\n",
    "V_I = brute_force['V_I']\n",
    "V_E = brute_force['V_E']"
   ]
  },
  {
   "cell_type": "code",
   "execution_count": null,
   "id": "354299aa",
   "metadata": {
    "code_folding": []
   },
   "outputs": [],
   "source": [
    "#Cummulative plot\n",
    "%matplotlib inline \n",
    "fig, axs = plt.subplots(1, 2, figsize=(15, 5), width_ratios=(1, 1.5))\n",
    "\n",
    "for ax in axs:\n",
    "    ax.plot(N_T, N_T, color=\"blue\", label='Total N')\n",
    "    ax.fill_between(N_T, N_T, P_U + V_I + V_E + P_I + Z_, color='lightblue', alpha=.2)\n",
    "\n",
    "    ax.plot(N_T, P_U, color=\"lightgreen\", label='P_U')\n",
    "\n",
    "    ax.plot(N_T, P_U + V_I, color=\"red\", label='V_I')\n",
    "    ax.fill_between(N_T, P_U + V_I, 0, color='red', alpha=.2)\n",
    "\n",
    "    ax.plot(N_T, P_U + V_I + V_E, color=\"darkred\", label='V_E')\n",
    "    ax.fill_between(N_T, P_U + V_I + V_E, P_U + V_I, color='darkred', alpha=.2)\n",
    "\n",
    "    ax.plot(N_T, P_U + V_I + V_E + P_I, color=\"limegreen\", label='P_I')\n",
    "    ax.fill_between(N_T, P_U + V_I + V_E + P_I, P_U + V_I + V_E, color='yellowgreen', alpha=.2)\n",
    "\n",
    "    ax.plot(N_T, P_U + V_I + V_E + P_I + Z_, color=\"darkgreen\", label='Z_')\n",
    "    ax.fill_between(N_T, P_U + V_I + V_E + P_I + Z_, P_U + V_I + V_E + P_I,color='darkgreen', alpha=.2)\n",
    "\n",
    "    ax.set_title(\"Cummulative Steady Sate Levels for Varying Total N\")\n",
    "    ax.set_xlabel(r\"Total System N (mmol N / $m^3$)\")\n",
    "    ax.set_ylabel(r\"N_T (mmol N / $m^3$)\")\n",
    "\n",
    "\n",
    "#Small scale regimes\n",
    "axs[0].set_xlim(-.01, .2)\n",
    "axs[0].set_yscale('log')\n",
    "axs[0].set_ylim(6e-12, 5e1)\n",
    "axs[0].grid()\n",
    "\n",
    "#Larger scale regimes\n",
    "axs[1].set_yscale('log')\n",
    "axs[1].set_ylim(6e-5, 1e2)\n",
    "axs[1].grid(), axs[1].legend(loc=(1.05, 0))"
   ]
  },
  {
   "cell_type": "code",
   "execution_count": null,
   "id": "3e096c19",
   "metadata": {
    "code_folding": [
     0
    ]
   },
   "outputs": [],
   "source": [
    "#Non-cummulative plot\n",
    "fig, axs = plt.subplots(1, 2, figsize=(15, 5))\n",
    "\n",
    "for ax in axs:\n",
    "\n",
    "    ax.plot(N_T, P_U, color=\"lightgreen\", label='P_U')\n",
    "    ax.plot(N_T, P_I, color=\"limegreen\", label='P_I')\n",
    "    ax.plot(N_T, Z, color=\"darkgreen\", label='Z')\n",
    "    ax.plot(N_T, V_I, color=\"red\", label='V_I')\n",
    "    ax.plot(N_T, V_E, color=\"darkred\", label='V_E')\n",
    "    \n",
    "    ax.set_title(\"Steady Sate Levels for Varying Total N\")\n",
    "    ax.set_xlabel(r\"Total System N (mmol N / $m^3$)\")\n",
    "    ax.set_ylabel(r\"N_T (mmol N / $m^3$)\")\n",
    "\n",
    "\n",
    "#Small scale regimes\n",
    "axs[0].set_xlim(0, 1)\n",
    "axs[0].set_yscale('log')\n",
    "axs[0].set_ylim(4e-5, 2)\n",
    "axs[0].grid()\n",
    "\n",
    "#Larger scale regimes\n",
    "axs[1].set_xlim(0, 20)\n",
    "axs[1].set_yscale('log')\n",
    "axs[1].set_ylim(4e-5, 5e1)\n",
    "axs[1].grid(), axs[1].legend(loc=(1.05, 0))"
   ]
  },
  {
   "cell_type": "code",
   "execution_count": null,
   "id": "3f89eb6e",
   "metadata": {},
   "outputs": [],
   "source": []
  },
  {
   "cell_type": "code",
   "execution_count": null,
   "id": "b04aaaa3",
   "metadata": {
    "code_folding": [
     0
    ]
   },
   "outputs": [],
   "source": [
    "#Brute Force tech for duel variability - avg long t-span, over cohesive time chunk wrt P_I\n",
    "\n",
    "#Define dictionary to hold steady state values at different varied_var\n",
    "keys = \"N_n\", \"N_r\", \"P_U\", \"P_I\", \"Z\", \"V_I\", \"V_E\", \"N_T\"\n",
    "\n",
    "brute_force = {\"N_n\": [[] for listt in range(len(varied_values))], \"N_r\": [[] for listt in range(len(varied_values))], \n",
    "               \"P_U\": [[] for listt in range(len(varied_values))], \"P_I\": [[] for listt in range(len(varied_values))], \n",
    "               \"Z\":   [[] for listt in range(len(varied_values))], \"V_I\": [[] for listt in range(len(varied_values))], \n",
    "               \"V_E\": [[] for listt in range(len(varied_values))], \"N_T\": [[] for listt in range(len(varied_values))]}\n",
    "\n",
    "\n",
    "for i, row in enumerate(sols):\n",
    "    \n",
    "    for solution in row:\n",
    "        \n",
    "        total = 0\n",
    "        index = int(len(solution.t) * .9) #Take last 10% of solution\n",
    "\n",
    "        for k, key in enumerate(keys[:-1]):\n",
    "\n",
    "            y_end = solution.y[k][index: ] #look at tail end of specific state\n",
    "\n",
    "            l_min = argrelmin(y_end)[0]  #Extracting local minimum and maximum\n",
    "            l_max = argrelmax(y_end)[0]\n",
    "\n",
    "            if (len(l_min) == 0) or (len(l_max) == 0):\n",
    "                avg = solution.y[k][-1]\n",
    "\n",
    "            else:\n",
    "                y_min = y_end[l_min]\n",
    "                y_max = y_end[l_max]\n",
    "\n",
    "                min_n_max = np.concatenate((y_min, y_max))\n",
    "                avg = np.mean(min_n_max)\n",
    "\n",
    "            brute_force[key][i] = np.append(brute_force[key][i], avg)\n",
    "            total += avg\n",
    "\n",
    "        brute_force[\"N_T\"][i] = np.append(brute_force[\"N_T\"][i], total)\n",
    "\n",
    "        \n",
    "N_T = brute_force['N_T']\n",
    "N_n = brute_force['N_n']\n",
    "N_r = brute_force['N_r']\n",
    "P_U = brute_force['P_U']\n",
    "P_I = brute_force['P_I']\n",
    "Z_  = brute_force['Z']\n",
    "V_I = brute_force['V_I']\n",
    "V_E = brute_force['V_E']"
   ]
  },
  {
   "cell_type": "code",
   "execution_count": null,
   "id": "7765d31a",
   "metadata": {},
   "outputs": [],
   "source": []
  },
  {
   "cell_type": "code",
   "execution_count": null,
   "id": "91491a05",
   "metadata": {
    "code_folding": []
   },
   "outputs": [],
   "source": [
    "fig, axs = plt.subplots(2, 2, figsize=(13, 9))\n",
    "\n",
    "markers = 'o', '*', 'x', 'D', 's'\n",
    "colors = 'darkslategrey', 'teal', 'aquamarine', 'gold', 'darkgoldenrod'\n",
    "\n",
    "for i in range(len(varied_values)):\n",
    "    \n",
    "    axs[0][0].scatter(N_T[i], P_I[i], marker=markers[i], color=colors[i], label=f'{varied_var} = {varied_values[i]}', s=10)\n",
    "    \n",
    "    axs[0][1].scatter(N_T[i], Z_[i], marker=markers[i], color=colors[i], label=f'{varied_var} = {varied_values[i]}', s=10)\n",
    "    \n",
    "    axs[1][0].scatter(N_T[i], V_I[i], marker=markers[i], color=colors[i], label=f'{varied_var} = {varied_values[i]}', s=10)\n",
    "    \n",
    "    axs[1][1].scatter(N_T[i], V_E[i], marker=markers[i], color=colors[i], label=f'{varied_var} = {varied_values[i]}', s=10)\n",
    "    \n",
    "    \n",
    "axs[0][0].set_ylabel(r'P_I (mmol N / $m^3$)')    \n",
    "axs[0][1].set_ylabel(r'Z (mmol N / $m^3$)')    \n",
    "axs[1][0].set_ylabel(r'V_I (mmol N / $m^3$)')    \n",
    "axs[1][1].set_ylabel(r'V_E (mmol N / $m^3$)')    \n",
    "\n",
    "for ax in axs:\n",
    "    ax[0].set_xlabel(r'Total Nutrients (mmol N / $m^3$)')    \n",
    "    ax[0].set_xlim(0, 21)\n",
    "    ax[0].grid(alpha=.3)\n",
    "    ax[0].legend()\n",
    "\n",
    "    ax[1].set_xlabel(r'Total Nutrients (mmol N / $m^3$)')\n",
    "    ax[1].set_xlim(0, 20)\n",
    "    ax[1].grid(alpha=.3)\n",
    "    ax[1].legend()\n",
    "    \n",
    "plt.suptitle(f'Steady State Responce to Variability in Sink Parameter {varied_var}', fontsize=14)\n",
    "plt.tight_layout()"
   ]
  },
  {
   "cell_type": "code",
   "execution_count": null,
   "id": "19926e07",
   "metadata": {},
   "outputs": [],
   "source": []
  },
  {
   "cell_type": "code",
   "execution_count": null,
   "id": "87a5c29c",
   "metadata": {},
   "outputs": [],
   "source": []
  },
  {
   "cell_type": "code",
   "execution_count": null,
   "id": "c1b9f05c",
   "metadata": {},
   "outputs": [],
   "source": [
    "#Imported steady state levels from NPZ \n",
    "\n",
    "%store -r N\n",
    "%store -r P\n",
    "%store -r Z"
   ]
  },
  {
   "cell_type": "code",
   "execution_count": null,
   "id": "9302ada8",
   "metadata": {},
   "outputs": [],
   "source": [
    "fig, ax = plt.subplots(1, 3, figsize=(17, 4))\n",
    "fig.suptitle(\"Comparison of Steady State Solutions from NPZ & NPZV\")\n",
    "\n",
    "ax[0].scatter(N_T, N, s=3, color= \"darkgoldenrod\", label='N - NPZ')\n",
    "ax[0].scatter(N_T, N_r, s=3, color= \"darkslategrey\" , label='N_r - NPZV')\n",
    "\n",
    "ax[1].scatter(N_T, P, s=3, color= \"darkgoldenrod\", label='P - NPZ')\n",
    "ax[1].scatter(N_T, P_I, s=3, color= \"darkslategrey\" , label='P_I - NPZV')\n",
    "\n",
    "ax[2].scatter(N_T, Z, s=3, color= \"darkgoldenrod\" , label='Z - NPZ')\n",
    "ax[2].scatter(N_T, Z_, s=3, color= \"darkslategrey\" , label='Z - NPZV')\n",
    "\n",
    "for a in ax:\n",
    "    a.set_xlabel(r\"Total Nutrients (mmol N / $m^3$)\")\n",
    "    a.set_ylabel(r\"mmol N / $m^3$\")\n",
    "    a.legend()\n",
    "    a.grid(alpha=.3)"
   ]
  },
  {
   "cell_type": "code",
   "execution_count": null,
   "id": "a43afa97",
   "metadata": {},
   "outputs": [],
   "source": []
  },
  {
   "cell_type": "code",
   "execution_count": null,
   "id": "da6824bb",
   "metadata": {},
   "outputs": [],
   "source": []
  },
  {
   "cell_type": "code",
   "execution_count": null,
   "id": "c5d32c17",
   "metadata": {},
   "outputs": [],
   "source": []
  },
  {
   "cell_type": "code",
   "execution_count": null,
   "id": "e119f316",
   "metadata": {},
   "outputs": [],
   "source": []
  },
  {
   "cell_type": "code",
   "execution_count": null,
   "id": "610dbf4f",
   "metadata": {},
   "outputs": [],
   "source": []
  },
  {
   "cell_type": "code",
   "execution_count": null,
   "id": "2c6031f6",
   "metadata": {},
   "outputs": [],
   "source": []
  },
  {
   "cell_type": "code",
   "execution_count": null,
   "id": "66cabbe3",
   "metadata": {},
   "outputs": [],
   "source": []
  },
  {
   "cell_type": "code",
   "execution_count": null,
   "id": "1d7d3eb9",
   "metadata": {
    "code_folding": [
     0
    ]
   },
   "outputs": [],
   "source": [
    "#Steady state function for optimization technique\n",
    "def steady_state(X, V_max, γ_Z, φ, g, ν_x, λ_P, λ_Z, λ_Z_hat, λ_E, δ, μ_V, μ_V_prime, \n",
    "          μ_u, μ_r, μ_s, μ_P, μ_delta, μ_g, μ_Z, K_N, K_I, K_h, K_P, I_0, ω):\n",
    "    \n",
    "    N_n = X[0]\n",
    "    N_r = X[1]\n",
    "    P_U = X[2] #Susceptible Hosts\n",
    "    P_I = X[3] #Infected Hosts\n",
    "    Z   = X[4] #Zooplankton\n",
    "    V_I = X[5] #Internal viruses from host nucleotide recycling \n",
    "               #and de novo nucleotide synthesis\n",
    "    V_E = X[6] #Free (extracellular) viruses \n",
    "    \n",
    "    alpha = (1 / 1.42e8) * 2.1e-10 * 1e6 # host conversion, mmol ml / NT m^3\n",
    "    beta  = (1 / 4e5) * 1.27e-15 * 1e6   # viral conversion, mmol ml / NT m^3\n",
    "    \n",
    "    if P_I == 0 or V_I == 0:  ν_i = 1\n",
    "        \n",
    "    else:\n",
    "        ν_i = (V_I / beta) / ((P_I / alpha) + (V_I / beta)) \n",
    "                                     #mimics delay in internal viral production \n",
    "                                     #and host lysis, due to internal assymbly \n",
    "                                     #of viral progeny \n",
    "    P = P_U + P_I\n",
    "    \n",
    "    N = N_n + N_r\n",
    "    \n",
    "    nutr_lim = N / (K_N + N)\n",
    "\n",
    "    light_lim = np.log((K_I + I_0 / K_I)) / K_h  #light limitation term\n",
    "    \n",
    "    #Phytoplankton uninfected\n",
    "    P_U_growth    = (P_U + μ_u * P_I) * V_max * nutr_lim * light_lim\n",
    "    P_U_grazing   = P_U * g * Z / K_P\n",
    "    P_U_mortality = P_U * λ_P\n",
    "    P_U_adsorp    = P_U * (1 - ν_x) * φ * μ_s * V_E\n",
    "    P_U_entrain   = P_U * ω\n",
    "    \n",
    "    P_U_dt = P_U_growth - P_U_grazing - P_U_mortality - P_U_adsorp - P_U_entrain\n",
    "    \n",
    "    \n",
    "    #Phytoplankton infected\n",
    "    P_I_adsorp       = (1 - ν_x) * φ * μ_s * P_U * V_E\n",
    "    P_I_growth       = (1 - μ_u) * P_I * V_max * nutr_lim * light_lim\n",
    "    P_I_grazing      = P_I * g * Z / K_P\n",
    "    P_I_mortality    = P_I * λ_P\n",
    "    P_I_nt_recycling = P_I * ν_i * μ_V\n",
    "    P_I_lysis        = P_I * ν_i * δ\n",
    "    P_I_entrain      = P_I * ω\n",
    "    \n",
    "    P_I_dt = P_I_adsorp + P_I_growth - P_I_grazing - P_I_mortality \\\n",
    "             - P_I_nt_recycling - P_I_lysis - P_I_entrain\n",
    "    \n",
    "    \n",
    "    #Zooplankton\n",
    "    Z_assimilation = Z * γ_Z * g * (P + V_I) / K_P\n",
    "    Z_mortality    = Z * (λ_Z + λ_Z_hat * Z)\n",
    "    Z_entrain      = Z * ω\n",
    "    \n",
    "    Z_dt = Z_assimilation - Z_mortality - Z_entrain\n",
    "    \n",
    "    \n",
    "    #Intracellular viruses\n",
    "    V_I_growth  = ν_i * (beta / alpha) * (μ_V + (nutr_lim * μ_V_prime)) * P_I\n",
    "    V_I_adsorp  = ν_x * (beta / alpha) * φ * μ_s * P_U * V_E\n",
    "    V_I_lysis   = V_I * ν_i * δ\n",
    "    V_I_grazing = V_I * g * Z / K_P\n",
    "    V_I_h_mort  = V_I * λ_P\n",
    "    V_I_entrain = V_I * ω\n",
    "    \n",
    "    V_I_dt = V_I_growth + V_I_adsorp - V_I_lysis - V_I_grazing - V_I_h_mort - V_I_entrain\n",
    "    \n",
    "    \n",
    "    #Extracellular\n",
    "    V_E_adsorp    = ν_x * (beta / alpha) * φ * μ_s * P_U * V_E\n",
    "    V_E_h_mort    = V_I * μ_r * λ_P\n",
    "    V_E_mortality = λ_E * V_E\n",
    "    V_E_entrain   = V_E * ω\n",
    "    \n",
    "    V_E_dt = - V_E_adsorp + V_I_lysis + V_E_h_mort - V_E_mortality - V_E_entrain\n",
    "    \n",
    "    \n",
    "    #Nitrate\n",
    "    if N != 0:\n",
    "        N_n_accum = (N_n / N) * P * V_max * nutr_lim * light_lim\n",
    "    else:\n",
    "        N_n_accum = 0 \n",
    "        \n",
    "    N_n_intracell = (N_n / N) * ν_i * P_I * (beta / alpha) * (nutr_lim * μ_V_prime)\n",
    "    N_n_entrain   = ω * N_n \n",
    "    \n",
    "    N_n_dt = - N_n_accum - N_n_intracell - N_n_entrain\n",
    "            \n",
    "        \n",
    "    #Recycled nutrients\n",
    "    if N != 0:\n",
    "        N_r_accum = (N_r / N) * P * V_max * nutr_lim * light_lim\n",
    "    else:\n",
    "        N_r_accum = 0 \n",
    "    \n",
    "    nt_recycling     = ν_i * P_I * (1 - (beta / alpha)) * μ_V\n",
    "    denovo_syn       = (N_r / N) * (beta / alpha) * (nutr_lim * μ_V_prime)\n",
    "    N_r_intracell    = nt_recycling - denovo_syn\n",
    "    \n",
    "    N_r_mortality    = λ_P * (P + (1 - μ_r) * V_I)\n",
    "    N_r_Ve_mort      = λ_E * V_E\n",
    "    N_r_lysis        = ν_i * δ * P_I\n",
    "    N_r_sloppy_munch = (1 - γ_Z) * g * Z * (P + V_I) / K_P\n",
    "    N_r_entrain      = N_r * ω\n",
    "    \n",
    "    N_r_remin  = (μ_P * N_r_mortality) + N_r_Ve_mort + (μ_delta * N_r_lysis) \\\n",
    "             + (μ_g * N_r_sloppy_munch) + (μ_Z * Z_mortality) - N_r_entrain\n",
    "\n",
    "    N_r_export = (1 - μ_P) * N_r_mortality + (1 - μ_delta) * N_r_lysis \\\n",
    "             + (1 - μ_g) * N_r_sloppy_munch + (1 - μ_Z) * Z_mortality\n",
    "    \n",
    "    N_r_dt = - N_r_accum - N_r_intracell + N_r_remin + N_r_export\n",
    "\n",
    "    \n",
    "    return norm([N_n_dt, N_r_dt, P_U_dt, P_I_dt, Z_dt, V_I_dt, V_E_dt]) ** 2"
   ]
  },
  {
   "cell_type": "code",
   "execution_count": null,
   "id": "debae0e1",
   "metadata": {
    "code_folding": [
     0
    ]
   },
   "outputs": [],
   "source": [
    "#Optimization technique\n",
    "\n",
    "#pulling initial values from one long time span run\n",
    "# ind = param_labels.index(varied_var)\n",
    "# param[ind] = varied_values[0]\n",
    "# solution = solve_ivp(model, [0, 5000], z0, args=param, max_step=.1, method='LSODA')\n",
    "\n",
    "# N_n = solution.y[0]\n",
    "# N_r = solution.y[1] \n",
    "# P_U = solution.y[2] #Susceptible Hosts\n",
    "# P_I = solution.y[3] #Infected Hosts\n",
    "# Z   = solution.y[4] #Zooplankton\n",
    "# V_I = solution.y[5] #Internal viruses from host nucleotide recycling \n",
    "#                 #and de novo nucleotide synthesis\n",
    "# V_E = solution.y[6] #Free (extracellular) viruses \n",
    "\n",
    "# index = -1\n",
    "# solver = {\"N_n\": [N_n[index]], \"N_r\": [N_r[index]], \"P_U\": [(P_U[index])], \n",
    "#           \"P_I\": [P_I[index]], \"Z\": [Z[index]], \"V_I\": [V_I[index]], \n",
    "#           \"V_E\": [V_E[index]],\"N_T\": []}\n",
    "\n",
    "# for val in varied_values:\n",
    "#     ind = param_labels.index(varied_var)\n",
    "#     # this line redefines the specified value in the initial conditions\n",
    "#     param[ind] = val\n",
    "    \n",
    "#     #define initial condition parameter as previous steady-state solution\n",
    "#     i_0 = [solver[k][-1] for k in keys[:-1]] \n",
    "    \n",
    "#     #bounding state variables, such that SS solutions are always positive\n",
    "#     bnds = [(0, None) for i in range(7)]\n",
    "    \n",
    "#     #Mass balance constraint - sum of the state variables must be equal \n",
    "#     #to the sum of the original steady-state solution, for which the mass the system was defined\n",
    "#     initial_mass = sum([solver[k][0] for k in keys[:-1]])\n",
    "#     con = {'type': 'eq', 'fun': lambda X: sum([X[i] for i in range(7)]) - initial_mass}\n",
    "\n",
    "#     solution = minimize(steady_state, i_0, args=tuple(param), bounds = bnds, constraints = con, tol = 1e-10)\n",
    "    \n",
    "#     for i, k in enumerate(keys[:-1]):\n",
    "#         solver[k].append(solution.x[i])\n",
    "        \n",
    "#     solver[\"N_T\"].append(sum(i_0))"
   ]
  },
  {
   "cell_type": "code",
   "execution_count": null,
   "id": "839ba0f8",
   "metadata": {
    "code_folding": []
   },
   "outputs": [],
   "source": [
    "fig, axs = plt.subplots(8, constrained_layout=True, figsize=(12, 20))\n",
    "fig.suptitle(f\"Steady State Response to Variability in {varied_var}\")\n",
    "\n",
    "for i, k in enumerate(keys[:-1]):\n",
    "    axs[i].scatter(varied_values, brute_force[k][0], color='black')\n",
    "    axs[i].plot(varied_values, brute_force[k][0], color='black', label = \"Long Time Span\")\n",
    "    \n",
    "    for j, txt in enumerate(brute_force[k][1]):\n",
    "        axs[i].annotate(txt, (varied_values[j], brute_force[k][0][j]))\n",
    "    \n",
    "    #axs[i].scatter(varied_values, solver[k][1:], color='black')\n",
    "    #axs[i].plot(varied_values, solver[k][1:], '--', color='black', label = 'Minimizer')\n",
    "    \n",
    "    axs[i].set_ylabel(f\"{k}   (mmol/m^3)\")\n",
    "    axs[i].grid(alpha=.3)\n",
    "    axs[i].legend()\n",
    "    \n",
    "axs[7].plot(varied_values, brute_force[\"N_T\"], label = \"Long Time Span\")\n",
    "#axs[7].plot(varied_values, solver[\"N_T\"], label = 'Minimizer')\n",
    "axs[7].set_xlabel(f'Values of {varied_var}')\n",
    "axs[7].set_ylabel('Total Nutrients')\n",
    "axs[7].set_title('Sum of Steady State Solutions')\n",
    "\n",
    "axs[7].grid(alpha=.3); axs[7].legend()"
   ]
  },
  {
   "cell_type": "code",
   "execution_count": null,
   "id": "b77aa5e0",
   "metadata": {},
   "outputs": [],
   "source": []
  },
  {
   "cell_type": "code",
   "execution_count": null,
   "id": "c43572aa",
   "metadata": {},
   "outputs": [],
   "source": []
  },
  {
   "cell_type": "code",
   "execution_count": null,
   "id": "0303b766",
   "metadata": {},
   "outputs": [],
   "source": []
  },
  {
   "cell_type": "code",
   "execution_count": null,
   "id": "0eafe102",
   "metadata": {},
   "outputs": [],
   "source": []
  },
  {
   "cell_type": "markdown",
   "id": "d6d3d4b9",
   "metadata": {},
   "source": [
    "**Attempt at finding limit cycles...**"
   ]
  },
  {
   "cell_type": "code",
   "execution_count": null,
   "id": "029a854d",
   "metadata": {
    "code_folding": [
     0
    ]
   },
   "outputs": [],
   "source": [
    "# def objective_function(tX0, V_max, γ_Z, φ, g, ν_x, λ_P, λ_Z, λ_Z_hat, λ_E, δ, μ_P,\n",
    "#           μ_V, μ_V_prime, μ_delta, μ_m, μ_g, μ_Z, K_N, K_I, K_Z, K_P, I_0, ω):\n",
    "    \n",
    "#     t = tX0[0]\n",
    "#     x0 = tX0[1:]\n",
    "    \n",
    "#     param = [V_max, γ_Z, φ, g, ν_x, λ_P, λ_Z, λ_Z_hat, λ_E, δ, μ_P,\n",
    "#           μ_V, μ_V_prime, μ_delta, μ_m, μ_g, μ_Z, K_N, K_I, K_Z, K_P, I_0, ω]\n",
    "    \n",
    "#     solution = solve_ivp(model, [0, t], x0, args=param, max_step=.1, method = 'LSODA')\n",
    "#     difference = [x0[i] - solution.y[i][-1] for i in range(len(x0))]\n",
    "    \n",
    "#     return norm(difference)"
   ]
  }
 ],
 "metadata": {
  "kernelspec": {
   "display_name": "Python 3 (ipykernel)",
   "language": "python",
   "name": "python3"
  },
  "language_info": {
   "codemirror_mode": {
    "name": "ipython",
    "version": 3
   },
   "file_extension": ".py",
   "mimetype": "text/x-python",
   "name": "python",
   "nbconvert_exporter": "python",
   "pygments_lexer": "ipython3",
   "version": "3.10.10"
  }
 },
 "nbformat": 4,
 "nbformat_minor": 5
}
