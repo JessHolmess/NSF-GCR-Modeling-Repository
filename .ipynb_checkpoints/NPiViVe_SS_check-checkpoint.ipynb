{
 "cells": [
  {
   "cell_type": "code",
   "execution_count": 5,
   "id": "8bd2afd6-b35c-4cbe-a5ee-8705a0a0542a",
   "metadata": {},
   "outputs": [],
   "source": [
    "%run Function_Master.ipynb \n",
    "%run Parameterization.ipynb"
   ]
  },
  {
   "cell_type": "code",
   "execution_count": 6,
   "id": "8e6808c8-f644-4219-8f21-d8f104e67713",
   "metadata": {},
   "outputs": [
    {
     "name": "stdout",
     "output_type": "stream",
     "text": [
      "╒════════════════════════════════════════╤═══════════════╤═════════════════╤═══════════════╤══════════════════════╕\n",
      "│ V_max = 1.4                            │ λ_P = 0.05    │ μ_V = 3.0       │ μ_P = 0.4     │ K_I = 1.0            │\n",
      "├────────────────────────────────────────┼───────────────┼─────────────────┼───────────────┼──────────────────────┤\n",
      "│ γ_Z = 0.4                              │ λ_Z = 0.05    │ μ_V_prime = 1.6 │ μ_delta = 0.4 │ K_h = 1.0            │\n",
      "├────────────────────────────────────────┼───────────────┼─────────────────┼───────────────┼──────────────────────┤\n",
      "│ φ = 3.5e-10 / beta = 110236.2205       │ λ_Z_hat = 0.1 │ μ_u = 0.0       │ μ_g = 0.4     │ K_P = 2.8            │\n",
      "├────────────────────────────────────────┼───────────────┼─────────────────┼───────────────┼──────────────────────┤\n",
      "│ g = 1.4                                │ λ_E = 0.3     │ μ_r = 0.5       │ μ_Z = 0.4     │ I_0 = e - 1 = 1.7183 │\n",
      "├────────────────────────────────────────┼───────────────┼─────────────────┼───────────────┼──────────────────────┤\n",
      "│ ν_x = V_ind / (V_ind + S_ind) = 0.0028 │ δ = 0.45      │ μ_s = 1.0       │ K_N = 0.1     │ ω = 0.0              │\n",
      "╘════════════════════════════════════════╧═══════════════╧═════════════════╧═══════════════╧══════════════════════╛\n"
     ]
    }
   ],
   "source": [
    "print_paramterization(param)"
   ]
  },
  {
   "cell_type": "markdown",
   "id": "15b6eeed-eb9e-43e5-b3a1-da957eb79726",
   "metadata": {},
   "source": [
    "If we assume we are in an area of Total N space that lends to an N-Pi-Vi-Ve steady state, our equation for Vi resutls in the following definition for Vi in terms of Pi,\n",
    "\n",
    "$$V_I (P_I) = \\frac{\\beta}{\\alpha} \\frac{P_I (\\mu_V + \\mu_V' - \\lambda_P)}{\\delta + \\lambda_P}.$$\n",
    "\n",
    "Which implies, that the concentration based ratio of viruses to hosts (NOT 1/r) is controled by, \n",
    "\n",
    "$$\\frac{V_I}{P_I} = \\frac{\\beta}{\\alpha} \\frac{(\\mu_V + \\mu_V' - \\lambda_P)}{\\delta + \\lambda_P} .$$"
   ]
  },
  {
   "cell_type": "code",
   "execution_count": 7,
   "id": "b82d6dea-1773-4235-ae68-4345f5765c26",
   "metadata": {},
   "outputs": [
    {
     "data": {
      "text/plain": [
       "0.019536833333333337"
      ]
     },
     "execution_count": 7,
     "metadata": {},
     "output_type": "execute_result"
    }
   ],
   "source": [
    "concentration_VI_to_PI = (beta / alpha) * (μ_V + μ_V_prime - λ_P) / (δ + λ_P)\n",
    "concentration_VI_to_PI"
   ]
  },
  {
   "cell_type": "code",
   "execution_count": 8,
   "id": "ed2a51e3-b72c-47a0-83b1-d4998a730a32",
   "metadata": {},
   "outputs": [
    {
     "data": {
      "text/plain": [
       "0.005537010192774817"
      ]
     },
     "execution_count": 8,
     "metadata": {},
     "output_type": "execute_result"
    }
   ],
   "source": []
  },
  {
   "cell_type": "code",
   "execution_count": null,
   "id": "85876f01-ded1-4e8c-917e-ff512561056d",
   "metadata": {},
   "outputs": [],
   "source": []
  },
  {
   "cell_type": "code",
   "execution_count": 15,
   "id": "17140f22-85c9-4bad-a1e6-963c53bde5be",
   "metadata": {},
   "outputs": [],
   "source": [
    "#Defining Key Coefficients\n",
    "\n",
    "s = beta / alpha\n",
    "\n",
    "A = s * (μ_V + μ_V_prime - λ_P) / (δ + λ_P)\n",
    "\n",
    "B = (λ_P + (A / (s + A)) * (μ_V + δ)) / V_max\n",
    "\n",
    "N = B * K_N / (1 - B)\n",
    "\n",
    "C = (A / λ_E) * ((A / (s + A)) * δ + μ_r * λ_P)"
   ]
  },
  {
   "cell_type": "code",
   "execution_count": 22,
   "id": "cc401549-d234-4d06-85c4-7f094757f91d",
   "metadata": {},
   "outputs": [
    {
     "name": "stdout",
     "output_type": "stream",
     "text": [
      "For Pi = 0.0406,\n",
      "Vi = 0.00035737376666666675\n",
      "Ve = 0.00046073186584967346\n",
      "Total N: 0.18021409225459\n"
     ]
    }
   ],
   "source": [
    "def ViVe_from_Pi(Pi):\n",
    "    \n",
    "    Vi = A * Pi\n",
    "    Ve = C * Pi\n",
    "    \n",
    "    print(f\"For Pi = {Pi},\")\n",
    "    print(f\"Vi = {Vi}\")\n",
    "    print(f\"Ve = {Ve}\")\n",
    "    \n",
    "    return Vi, Ve\n",
    "\n",
    "#Pi values within this regime: .00515 - .1175 mmol m^-3\n",
    "Pi = .0406\n",
    "Vi, Ve = ViVe_from_Pi(Pi)\n",
    "\n",
    "print(f\"Total N: {N + Pi + Vi + Ve}\")"
   ]
  },
  {
   "cell_type": "code",
   "execution_count": 20,
   "id": "866b60b8-0766-4744-8718-5e7d5b926cbb",
   "metadata": {},
   "outputs": [
    {
     "data": {
      "text/plain": [
       "0.13879598662207368"
      ]
     },
     "execution_count": 20,
     "metadata": {},
     "output_type": "execute_result"
    }
   ],
   "source": [
    "M = (μ_V * (δ + μ_V) + (δ + μ_V + λ_P) * μ_V_prime) / (V_max * (δ + μ_V + μ_V_prime))\n",
    "\n",
    "M * K_N / (1 - M)"
   ]
  },
  {
   "cell_type": "code",
   "execution_count": null,
   "id": "fe6596cc-bf46-4fc3-8459-22abbd9dbdd4",
   "metadata": {},
   "outputs": [],
   "source": [
    "#something is wrong"
   ]
  }
 ],
 "metadata": {
  "kernelspec": {
   "display_name": "Python 3 (ipykernel)",
   "language": "python",
   "name": "python3"
  },
  "language_info": {
   "codemirror_mode": {
    "name": "ipython",
    "version": 3
   },
   "file_extension": ".py",
   "mimetype": "text/x-python",
   "name": "python",
   "nbconvert_exporter": "python",
   "pygments_lexer": "ipython3",
   "version": "3.10.10"
  }
 },
 "nbformat": 4,
 "nbformat_minor": 5
}
