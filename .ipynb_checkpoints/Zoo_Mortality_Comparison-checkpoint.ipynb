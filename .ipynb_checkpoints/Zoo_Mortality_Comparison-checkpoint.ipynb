{
 "cells": [
  {
   "cell_type": "code",
   "execution_count": 23,
   "id": "0352bb73",
   "metadata": {
    "code_folding": [
     0
    ]
   },
   "outputs": [
    {
     "data": {
      "text/html": [
       "<style>.container { width:100% !important; }</style>"
      ],
      "text/plain": [
       "<IPython.core.display.HTML object>"
      ]
     },
     "metadata": {},
     "output_type": "display_data"
    }
   ],
   "source": [
    "#Dependancies\n",
    "import numpy as np\n",
    "import math\n",
    "import pandas as pd\n",
    "from scipy.integrate import solve_ivp\n",
    "from scipy.interpolate import CubicSpline\n",
    "from scipy.optimize import fsolve, least_squares, minimize\n",
    "from scipy.stats import qmc \n",
    "from scipy.linalg import norm\n",
    "import random\n",
    "import matplotlib.animation\n",
    "from matplotlib.collections import LineCollection\n",
    "from matplotlib.colors import ListedColormap, BoundaryNorm\n",
    "from scipy.signal import argrelmin, argrelmax\n",
    "import matplotlib.pyplot as plt\n",
    "from numba import jit\n",
    "from tabulate import tabulate\n",
    "from itertools import product\n",
    "\n",
    "from IPython.display import display, HTML\n",
    "display(HTML(\"<style>.container { width:100% !important; }</style>\"))"
   ]
  },
  {
   "cell_type": "code",
   "execution_count": 2,
   "id": "ebfa20fc",
   "metadata": {
    "code_folding": []
   },
   "outputs": [
    {
     "data": {
      "text/html": [
       "<style>.container { width:100% !important; }</style>"
      ],
      "text/plain": [
       "<IPython.core.display.HTML object>"
      ]
     },
     "metadata": {},
     "output_type": "display_data"
    }
   ],
   "source": [
    "%run Function_Master.ipynb"
   ]
  },
  {
   "cell_type": "code",
   "execution_count": 54,
   "id": "663d2a61",
   "metadata": {
    "code_folding": []
   },
   "outputs": [],
   "source": [
    "#Base Parameterization\n",
    "\n",
    "alpha = (1 / 1.42e8) * 2.1e-10 * 1e6 # host conversion, mmol ml / NT m^3\n",
    "beta  = (1 / 4e5) * 1.27e-15 * 1e6   # viral conversion, mmol ml / NT m^3\n",
    "\n",
    "Nn_0 = 0.0\n",
    "Nr_0 = 10.0\n",
    "Pu_0 = .6   * alpha \n",
    "Pi_0 = 1e-7 * alpha \n",
    "Z_0  = 1.0\n",
    "Vi_0 = 1e-7 * beta \n",
    "\n",
    "r = 10\n",
    "Ve_0 = est_viral_abund(r, Pu_0, alpha, beta, S_ind, V_ind)\n",
    "\n",
    "z0 = [Nn_0, Nr_0, Ps_0, Pi_0, Z_0, Vi_0, Ve_0]\n",
    "\n",
    "V_ind     = 4e5        # NT per individual virus, Table S1\n",
    "S_ind     = 1.42e8     # NT per individual host, Table S1\n",
    "\n",
    "V_max     = 1.4              # Host growth rate\n",
    "γ_Z       = .4               # Growth rate / Assimilation frequency \n",
    "φ         = 3.5e-10 / beta   # Viral adsorption rate, m^3 / (mmol * day)\n",
    "g         = 1.4              # d^-1 Maximum specific grazing rate\n",
    "\n",
    "ν_x       = V_ind / (V_ind + S_ind) # Proportion of nutrients originating \n",
    "                                    # from virus in host-virus pair\n",
    "    \n",
    "λ_P       = .05        # Mortality & Respiration rate\n",
    "\n",
    "### Zooplankton mortality terms redefined later\n",
    "λ_Z       = 0\n",
    "λ_Z_hat   = 0\n",
    "\n",
    "λ_E       = .1        # ARBITRARY VALUE: Extracellular virus mortality \n",
    "δ         = .45        # Host lysis rate\n",
    "\n",
    "μ_V       = .5         # Max host NT recycling rate \n",
    "μ_V_prime = 1.6        # Max de novo NT synthesis rate\n",
    "μ_u       = 0\n",
    "μ_r       = 0          # Viral assimilation fraction related to host mortality\n",
    "μ_s       = 1\n",
    "μ_P       = .4         # Remineralization fraction due to mortality\n",
    "μ_delta   = .4         # ARBITRARY VALUE: Remineralization fraction due to lysis\n",
    "μ_g       = .4         # Remineralization fraction due to sloppy-eating\n",
    "μ_Z       = .4         # Remineralization fraction due to grazer mortality\n",
    "\n",
    "K_N       = .1         # mmol m^-3 # Half-saturation constant for nutrient limitation\n",
    "K_I       = 1          # Half-saturation for light limitation\n",
    "K_h       = 1          # Half-saturation for ... ?\n",
    "K_P       = 2.8        # mmol m^-3, Half-saturation constant for grazing of P\n",
    "I_0       = (np.e - 1) # Compensation irradiance\n",
    "\n",
    "ω         = 0 # Entraintment term\n",
    "\n",
    "param = [V_max, γ_Z, φ, g, ν_x, λ_P, λ_Z, λ_Z_hat, λ_E, δ, μ_V, μ_V_prime, \n",
    "          μ_u, μ_r, μ_s, μ_P, μ_delta, μ_g, μ_Z, K_N, K_I, K_h, K_P, I_0, ω]"
   ]
  },
  {
   "cell_type": "code",
   "execution_count": 55,
   "id": "99ea51d0",
   "metadata": {
    "code_folding": [
     0
    ]
   },
   "outputs": [
    {
     "name": "stdout",
     "output_type": "stream",
     "text": [
      "Nn_0 =  0.0,  Nr_0 =  10.0,  Pu_0 =  8.8732e-13,  Pi_0 =  1.4789e-19,  Z_0 =  1.0,  Vi_0 =  3.175e-22,  Ve_0 =  5.3662e-17,  \n",
      " \n",
      "╒════════════════════════════════════════╤═════════════╤═════════════════╤═══════════════╤══════════════════════╕\n",
      "│ V_max = 1.4                            │ λ_P = 0.05  │ μ_V = 0.5       │ μ_P = 0.4     │ K_I = 1              │\n",
      "├────────────────────────────────────────┼─────────────┼─────────────────┼───────────────┼──────────────────────┤\n",
      "│ γ_Z = 0.4                              │ λ_Z = 0     │ μ_V_prime = 1.6 │ μ_delta = 0.4 │ K_h = 1              │\n",
      "├────────────────────────────────────────┼─────────────┼─────────────────┼───────────────┼──────────────────────┤\n",
      "│ φ = 3.5e-10 / beta = 110236.2205       │ λ_Z_hat = 0 │ μ_u = 0         │ μ_g = 0.4     │ K_P = 2.8            │\n",
      "├────────────────────────────────────────┼─────────────┼─────────────────┼───────────────┼──────────────────────┤\n",
      "│ g = 1.4                                │ λ_E = 0.1   │ μ_r = 0         │ μ_Z = 0.4     │ I_0 = e - 1 = 1.7183 │\n",
      "├────────────────────────────────────────┼─────────────┼─────────────────┼───────────────┼──────────────────────┤\n",
      "│ ν_x = V_ind / (V_ind + S_ind) = 0.0028 │ δ = 0.45    │ μ_s = 1         │ K_N = 0.1     │ ω = 0                │\n",
      "╘════════════════════════════════════════╧═════════════╧═════════════════╧═══════════════╧══════════════════════╛\n"
     ]
    }
   ],
   "source": [
    "#Print Parameterization\n",
    "names = ['Nn_0', 'Nr_0', 'Pu_0', 'Pi_0', 'Z_0', 'Vi_0', 'Ve_0']\n",
    "for i, state in enumerate(names):\n",
    "    print(f'{state} = {z0[i]: .5},', end='  ')\n",
    "print(end='\\n \\n')\n",
    "\n",
    "param_labels_fp = ['V_max', 'γ_Z', 'φ = 3.5e-10 / beta', 'g', 'ν_x = V_ind / (V_ind + S_ind)', \n",
    "                   'λ_P', 'λ_Z', 'λ_Z_hat', 'λ_E', 'δ', 'μ_V', 'μ_V_prime', 'μ_u', 'μ_r', 'μ_s', \n",
    "                   'μ_P', 'μ_delta', 'μ_g', 'μ_Z', 'K_N', 'K_I', 'K_h', 'K_P', 'I_0 = e - 1', 'ω']\n",
    "\n",
    "print_paramterization(param, param_labels_fp)"
   ]
  },
  {
   "cell_type": "code",
   "execution_count": 56,
   "id": "c5f74048",
   "metadata": {},
   "outputs": [],
   "source": [
    "steps = 9\n",
    "comparison_range = np.linspace(0, .2, steps)\n",
    "combos = list(product(comparison_range, repeat=2))\n",
    "\n",
    "sols = []\n",
    "t_span = 10\n",
    "\n",
    "for i, j in combos:\n",
    "    \n",
    "    param[6], param[7] = i, j\n",
    "    \n",
    "    solution = solve_ivp(model, [0, t_span], z0, args=param, \n",
    "                         min_step = 1e-8, max_step = .1, method = 'LSODA')     \n",
    "\n",
    "    sols.append((z0, solution))"
   ]
  },
  {
   "cell_type": "code",
   "execution_count": 36,
   "id": "83186510",
   "metadata": {},
   "outputs": [],
   "source": []
  },
  {
   "cell_type": "code",
   "execution_count": null,
   "id": "dc069e6a",
   "metadata": {},
   "outputs": [],
   "source": []
  }
 ],
 "metadata": {
  "kernelspec": {
   "display_name": "Python 3 (ipykernel)",
   "language": "python",
   "name": "python3"
  },
  "language_info": {
   "codemirror_mode": {
    "name": "ipython",
    "version": 3
   },
   "file_extension": ".py",
   "mimetype": "text/x-python",
   "name": "python",
   "nbconvert_exporter": "python",
   "pygments_lexer": "ipython3",
   "version": "3.10.10"
  }
 },
 "nbformat": 4,
 "nbformat_minor": 5
}
