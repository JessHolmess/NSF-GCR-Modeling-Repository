{
 "cells": [
  {
   "cell_type": "code",
   "execution_count": 1,
   "id": "0d7a06d9-6c15-4779-98e6-08566f07cf80",
   "metadata": {},
   "outputs": [],
   "source": [
    "%run Function_Master.ipynb"
   ]
  },
  {
   "cell_type": "markdown",
   "id": "454e2995-e7da-4633-9b84-a04c08359686",
   "metadata": {
    "tags": []
   },
   "source": [
    "## Generating Initial Conditions and Parameterization"
   ]
  },
  {
   "cell_type": "code",
   "execution_count": 17,
   "id": "7ea296ab-7624-4ee7-9fee-13e7d3c8a38f",
   "metadata": {},
   "outputs": [],
   "source": [
    "\"\"\"\n",
    "This cell is responsible for generating a list of appropriate initial values\n",
    "for each state variable. \n",
    "\n",
    "The number of values wanted from each defined range is given by the parameter\n",
    "\"points\". The values are logarithmically spaced between the ranges to give a\n",
    "denser representation to smaller values of total nutrients.\n",
    "\n",
    "Although there is the capability of slightly perturbing each initial value \n",
    "for a given state (which would yeild a broader range of total nutrients when\n",
    "combining the states), that utility is neglected here to ensure we can directly\n",
    "compare each combination of initial states with the same total nutrient level.\n",
    "\"\"\"\n",
    "points = 10\n",
    "\n",
    "N_r_range = np.logspace(-3, 1, points)\n",
    "P_U_range = np.logspace(-3, 1, points)\n",
    "Z_range   = np.logspace(-3, 1, points)\n",
    "\n",
    "#V_E_ratio = np.geomspace(1, 500, points)\n",
    "V_E_ratio = np.array([1., 5., 10., 50., 100., 500.]) \n",
    "\n",
    "ranges = [N_r_range, P_U_range, Z_range, V_E_ratio]\n",
    "range_names = [\"Nr_0\", \"Pu_0\", \"Z_0\", \"Ve_0 Ratio\"]\n",
    "\n",
    "perturbed_ranges = perturb_range(ranges, range_names, pprint=True, perturb=False)"
   ]
  },
  {
   "cell_type": "code",
   "execution_count": 3,
   "id": "887e4af9-e28e-490a-b978-8bed90150f9b",
   "metadata": {
    "tags": []
   },
   "outputs": [],
   "source": [
    "#Parameterization\n",
    "\n",
    "alpha = (1 / 1.42e8) * 2.1e-10 * 1e6 # host conversion, mmol ml / NT m^3\n",
    "beta  = (1 / 4e5) * 1.27e-15 * 1e6   # viral conversion, mmol ml / NT m^3\n",
    "\n",
    "V_ind     = 4e5        # NT per individual virus, Table S1\n",
    "S_ind     = 1.42e8     # NT per individual host, Table S1\n",
    "\n",
    "V_max     = 1.4              # Host growth rate\n",
    "γ_Z       = .4               # Growth rate / Assimilation frequency \n",
    "φ         = 3.5e-10 / beta   # Viral adsorption rate, m^3 / (mmol * day)\n",
    "g         = 1.4              # d^-1 Maximum specific grazing rate\n",
    "\n",
    "ν_x       = V_ind / (V_ind + S_ind) # Proportion of nutrients originating \n",
    "                                    # from virus in host-virus pair\n",
    "    \n",
    "λ_P       = .05        # Mortality & Respiration rate\n",
    "λ_Z       = .05        # d^-1, Linear mortality & respiration & egestion\n",
    "λ_Z_hat   = 0.1         # Quadratic mortality & respiration & egestion\n",
    "λ_E       = .3         # Extracellular virus mortality \n",
    "δ         = .45        # Host lysis rate\n",
    "\n",
    "μ_V       = .5         # Max host NT recycling rate \n",
    "μ_V_prime = 1.6        # Max de novo NT synthesis rate\n",
    "μ_u       = 0.\n",
    "μ_r       = 0.          # Viral assimilation fraction related to host mortality\n",
    "μ_s       = 1.\n",
    "μ_P       = .4         # Remineralization fraction due to mortality\n",
    "μ_delta   = .4         # ARBITRARY VALUE: Remineralization fraction due to lysis\n",
    "μ_g       = .4         # Remineralization fraction due to sloppy-eating\n",
    "μ_Z       = .4         # Remineralization fraction due to grazer mortality\n",
    "\n",
    "K_N       = .1         # mmol m^-3 # Half-saturation constant for nutrient limitation\n",
    "K_I       = 1.          # Half-saturation for light limitation\n",
    "K_h       = 1.          # Half-saturation for ... ?\n",
    "K_P       = 2.8        # mmol m^-3, Half-saturation constant for grazing of P\n",
    "I_0       = (np.e - 1) # Compensation irradiance\n",
    "\n",
    "ω         = 0. # Entraintment term\n",
    "\n",
    "param_labels = ['V_max', 'γ_Z', 'φ', 'g', 'ν_x', 'λ_P', 'λ_Z', 'λ_Z_hat', 'λ_E', \n",
    "                'δ', 'μ_V', 'μ_V_prime', 'μ_u', 'μ_r', 'μ_s', 'μ_P', 'μ_delta', \n",
    "                'μ_g', 'μ_Z', 'K_N', 'K_I', 'K_h', 'K_P', 'I_0', 'ω']\n",
    "\n",
    "param = [V_max, γ_Z, φ, g, ν_x, λ_P, λ_Z, λ_Z_hat, λ_E, δ, μ_V, μ_V_prime, \n",
    "          μ_u, μ_r, μ_s, μ_P, μ_delta, μ_g, μ_Z, K_N, K_I, K_h, K_P, I_0, ω]"
   ]
  },
  {
   "cell_type": "code",
   "execution_count": 4,
   "id": "eae95728-237d-4589-884b-d0093b22739c",
   "metadata": {},
   "outputs": [
    {
     "name": "stdout",
     "output_type": "stream",
     "text": [
      "╒════════════════════════════════════════╤═══════════════╤═════════════════╤═══════════════╤══════════════════════╕\n",
      "│ V_max = 1.4                            │ λ_P = 0.05    │ μ_V = 0.5       │ μ_P = 0.4     │ K_I = 1.0            │\n",
      "├────────────────────────────────────────┼───────────────┼─────────────────┼───────────────┼──────────────────────┤\n",
      "│ γ_Z = 0.4                              │ λ_Z = 0.05    │ μ_V_prime = 1.6 │ μ_delta = 0.4 │ K_h = 1.0            │\n",
      "├────────────────────────────────────────┼───────────────┼─────────────────┼───────────────┼──────────────────────┤\n",
      "│ φ = 3.5e-10 / beta = 110236.2205       │ λ_Z_hat = 0.1 │ μ_u = 0.0       │ μ_g = 0.4     │ K_P = 2.8            │\n",
      "├────────────────────────────────────────┼───────────────┼─────────────────┼───────────────┼──────────────────────┤\n",
      "│ g = 1.4                                │ λ_E = 0.3     │ μ_r = 0.0       │ μ_Z = 0.4     │ I_0 = e - 1 = 1.7183 │\n",
      "├────────────────────────────────────────┼───────────────┼─────────────────┼───────────────┼──────────────────────┤\n",
      "│ ν_x = V_ind / (V_ind + S_ind) = 0.0028 │ δ = 0.45      │ μ_s = 1.0       │ K_N = 0.1     │ ω = 0.0              │\n",
      "╘════════════════════════════════════════╧═══════════════╧═════════════════╧═══════════════╧══════════════════════╛\n"
     ]
    }
   ],
   "source": [
    "print_paramterization(param)"
   ]
  },
  {
   "cell_type": "markdown",
   "id": "ec4758ff-9ba8-4176-8c58-1c5757ba7a99",
   "metadata": {
    "tags": []
   },
   "source": [
    "## Running and Sorting Simulations"
   ]
  },
  {
   "cell_type": "code",
   "execution_count": 10,
   "id": "9f2100b6-88a2-4ea9-b9a3-40c380f7820c",
   "metadata": {},
   "outputs": [],
   "source": [
    "\"\"\"\n",
    "This cell generates the list of possible initial condition configurations\n",
    "based on the possible initial ranges generated above. \n",
    "\n",
    "The code also defines certain criteria for the numerical integration scheme.\n",
    "\n",
    "Individual tolerances are perscribed to each state based on knowledge of\n",
    "their probable values.\n",
    "\"\"\"\n",
    "t_span = 365\n",
    "\n",
    "# Remaining state variables usually initiated at the same level (non-random)\n",
    "Nn_0 = 0.\n",
    "Pi_0 = 1e-7\n",
    "Vi_0 = 1e-7\n",
    "\n",
    "count = 0 # count how many solutions meet qualifications\n",
    "\n",
    "NT_cap = 10 # the maximum total nutrients allowed within the system, \n",
    "            # defined by the sum of the initial values of all state variables \n",
    "\n",
    "max_step   = .1\n",
    "method     = 'LSODA'\n",
    "tolerances = [1e-8, 1e-8, 1e-12, 1e-8, 1e-8, 1e-10, 1e-10]\n",
    "    \n",
    "#Same order of combinations in a nested for loop\n",
    "combos = list(product(N_r_range, P_U_range, Z_range, V_E_ratio))"
   ]
  },
  {
   "cell_type": "code",
   "execution_count": 11,
   "id": "31a784fb-1fd6-4516-b985-da681e4603e6",
   "metadata": {},
   "outputs": [
    {
     "name": "stderr",
     "output_type": "stream",
     "text": [
      "/Users/jholmes/anaconda3/lib/python3.10/site-packages/scipy/integrate/_ode.py:1348: UserWarning: lsoda: Repeated error test failures (internal error).\n",
      "  warnings.warn('{:s}: {:s}'.format(self.__class__.__name__,\n"
     ]
    },
    {
     "name": "stdout",
     "output_type": "stream",
     "text": [
      " lsoda--  at t(=r1) and step size h(=r2), the error\u0000\u0000\n",
      "       test failed repeatedly or with abs(h) = hmin\u0000\u0000\n",
      "      in above,  r1 =  0.1975104096154D+03   r2 =  0.1000000000000D-09\n",
      "CPU times: user 1min 50s, sys: 2.28 s, total: 1min 52s\n",
      "Wall time: 1min 52s\n"
     ]
    }
   ],
   "source": [
    "%%time\n",
    "\n",
    "\"\"\"\n",
    "Numerically integrating equations for each initial condition configuration. \n",
    "\"\"\"\n",
    "sols = []\n",
    "\n",
    "for Nr_0, Pu_0, Z_0, r in combos:\n",
    "                \n",
    "    #Initial level of Ve is computed based on the ratio of hosts to viruses\n",
    "    Ve_0 = est_viral_abund(r, Pu_0, alpha, beta, S_ind, V_ind)\n",
    "    \n",
    "    z0 = [Nn_0, Nr_0, Pu_0, Pi_0, Z_0, Vi_0, Ve_0]\n",
    "    \n",
    "    if sum(z0) > NT_cap: #if the sum of the initial conditions are\n",
    "        continue         #greater than the maximum allowable totalN,\n",
    "                         #then move to next combination\n",
    "            \n",
    "    solution = solve_ivp(model, [0, t_span], z0, args=param, \n",
    "                         max_step=max_step, method=method, atol=tolerances)     \n",
    "    \n",
    "    #returns list of initial conditions + solution object\n",
    "    sols.append((z0, solution))"
   ]
  },
  {
   "cell_type": "code",
   "execution_count": 13,
   "id": "9aa0a4a4-67b5-4523-aa11-4571508056f3",
   "metadata": {},
   "outputs": [
    {
     "data": {
      "text/plain": [
       "4368"
      ]
     },
     "execution_count": 13,
     "metadata": {},
     "output_type": "execute_result"
    }
   ],
   "source": [
    "def sort_sols_by_NT(sols):\n",
    "    \"\"\"\n",
    "    Function which sorts solutions based on their level of total N.\n",
    "    \"\"\"\n",
    "    # create a new list of tuples where the first element is the sum \n",
    "    #of each tuple and the second element is the original tuple\n",
    "    sum_tuples = [(sum(z0), z0, sol) for z0, sol in sols]\n",
    "    \n",
    "    # sort the new list based on the first element (the sum)\n",
    "    sorted_sum_tuples = sorted(sum_tuples, key=itemgetter(0))\n",
    "    \n",
    "    # extract and return only the original tuples from the sorted list\n",
    "    return [(z0, sol) for Tn, z0, sol in sorted_sum_tuples]\n",
    "\n",
    "sols = sort_sols_by_NT(sols)\n",
    "len(sols)"
   ]
  },
  {
   "cell_type": "code",
   "execution_count": 9,
   "id": "a492ad37-3d66-4d3a-8e83-156b167309d6",
   "metadata": {},
   "outputs": [
    {
     "name": "stdout",
     "output_type": "stream",
     "text": [
      "Stored 'sols' (list)\n"
     ]
    }
   ],
   "source": [
    "%store sols "
   ]
  },
  {
   "cell_type": "markdown",
   "id": "6e98187e-e44c-4ee3-87b7-e846a27dcd98",
   "metadata": {
    "tags": []
   },
   "source": [
    "## Visualization of Results"
   ]
  },
  {
   "cell_type": "code",
   "execution_count": 9,
   "id": "e36b9d7f-4100-48da-880b-03181d342b69",
   "metadata": {},
   "outputs": [],
   "source": [
    "%store -r sols"
   ]
  },
  {
   "cell_type": "code",
   "execution_count": 14,
   "id": "9f88981c-96a2-4dda-8043-fd274710963e",
   "metadata": {},
   "outputs": [],
   "source": [
    "#Parameters for printing in plot\n",
    "\n",
    "param_labels_fp = ['V_max', 'γ_Z', 'φ', 'g', 'ν_x', \n",
    "               'λ_P', 'λ_Z', 'λ_Z_hat', 'λ_E', 'δ', 'μ_V', 'μ_V_prime', 'μ_u', 'μ_r', 'μ_s', \n",
    "               'μ_P', 'μ_delta', 'μ_g', 'μ_Z', 'K_N', 'K_I', 'K_h', 'K_P', 'I_0 = e - 1', 'ω']\n",
    "\n",
    "param_fp = [f'{param_labels_fp[i]} = {param[i]:.4}' for i in range(len(param))]\n",
    "param_fp = np.reshape(param_fp, (5,5)).transpose()"
   ]
  },
  {
   "cell_type": "code",
   "execution_count": 15,
   "id": "4fb1e074-5941-4b09-bd76-31e5359364b2",
   "metadata": {
    "tags": []
   },
   "outputs": [],
   "source": [
    "%matplotlib tk\n",
    "\n",
    "\"\"\"\n",
    "Animation of sorted solutions.\n",
    "\"\"\"\n",
    "\n",
    "time = [(z0, solution.t) for z0, solution in sols]\n",
    "\n",
    "Nn = [solution.y[0] for z0, solution in sols]\n",
    "Nr = [solution.y[1] for z0, solution in sols]\n",
    "PU = [solution.y[2] for z0, solution in sols]\n",
    "PI = [solution.y[3] for z0, solution in sols]\n",
    "Z  = [solution.y[4] for z0, solution in sols]        \n",
    "VI = [solution.y[5] for z0, solution in sols]\n",
    "VE = [solution.y[6] for z0, solution in sols]\n",
    "\n",
    "states = [Nn, Nr, PU, PI, Z, VI, VE]\n",
    "\n",
    "fig = plt.figure(1, figsize=(12, 10))\n",
    "ax = fig.add_subplot(211)\n",
    "ax2 = fig.add_subplot(212)\n",
    "\n",
    "ax.set_xlim(0, t_span)\n",
    "ax.set_ylim(0, 10)\n",
    "    \n",
    "def animate(i):\n",
    "    ax.clear()\n",
    "    ax2.clear()\n",
    "    \n",
    "    ax.plot(time[i][1], Nn[i], color=\"darkviolet\", label = \"N_n\")\n",
    "    ax.plot(time[i][1], Nr[i], color=\"blue\"      , label = \"N_r\")\n",
    "    ax.plot(time[i][1], PU[i], color=\"aquamarine\", label = \"P_U\")\n",
    "    ax.plot(time[i][1], PI[i], color=\"limegreen\" , label = \"P_I\")\n",
    "    ax.plot(time[i][1], Z [i], color=\"darkgreen\" , label = \"Z \")\n",
    "    ax.plot(time[i][1], VI[i], color=\"red\"       , label = \"V_I\")\n",
    "    ax.plot(time[i][1], VE[i], color=\"darkred\"   , label = \"V_E\")\n",
    "    \n",
    "    title = (f'Total N: {sum(time[i][0]):.8}, '\n",
    "             f'for Nr_0 = {time[i][0][1]:.4}, '\n",
    "             f'Pu_0 = {time[i][0][2]:.4}, '\n",
    "             f'Pi_0 = {time[i][0][3]:.4}, '\n",
    "             f'Z_0 = {time[i][0][4]:.4}, '\n",
    "             f'Vi_0 = {time[i][0][5]:.4}, '\n",
    "             f'Ve_0 = {time[i][0][6]:.4}')\n",
    "\n",
    "    ax.set_title(title, pad=15)\n",
    "    ax.set(xlabel = 'Time (Day)',\n",
    "           ylabel = r'Nutrients ($mmol/m^3$)',\n",
    "           yscale = 'log',\n",
    "           ylim = (1e-12, 1e2),)\n",
    "    \n",
    "    ax.grid(alpha=.3)\n",
    "    ax.legend(loc=(1.01, 0), framealpha=1)\n",
    "    \n",
    "    ax2.text(0, -.2, f\"Number of simulations: {len(sols)}\", weight='bold', transform=ax.transAxes)\n",
    "    \n",
    "    ax2.text(0,-0.29, 'Functional Calls:', weight='bold', transform=ax.transAxes)   \n",
    "    ax2.text(0,-0.35, f\"Integration Method: {method},\", transform=ax.transAxes)\n",
    "    ax2.text(.2, -0.35, f\"Max time step: {max_step},\", transform=ax.transAxes)\n",
    "    ax2.text(.35, -0.35, f\"Absolute state tolerances: {tolerances}\", transform=ax.transAxes)\n",
    "        \n",
    "    ax2.text(0, -0.44, f\"Number of IC per state: {points}\", weight='bold', transform=ax.transAxes)\n",
    "\n",
    "    level = -.58\n",
    "    for r, state_range in enumerate(perturbed_ranges):\n",
    "        range_for_print = np.array2string(state_range, separator=', ')\n",
    "        ax2.text(0, level, f'{range_names[r]} Values: {range_for_print}', transform=ax.transAxes)\n",
    "        if r < 2:\n",
    "            level -= .12\n",
    "        else: level -= .07\n",
    "    \n",
    "    ax2.text(0, -0.99, \"Parameterization: \", weight='bold', transform=ax.transAxes)\n",
    "\n",
    "    table = ax2.table(cellText=param_fp, bbox=[0, -.2, 1, .5], cellLoc='left')\n",
    "    table.auto_set_font_size(False)\n",
    "    table.set_fontsize(9)\n",
    "    table.scale(.7, 2)\n",
    "    \n",
    "    ax2.get_xaxis().set_visible(False)\n",
    "    ax2.get_yaxis().set_visible(False)\n",
    "    ax2.spines['top'].set_visible(False)\n",
    "    ax2.spines['right'].set_visible(False)\n",
    "    ax2.spines['bottom'].set_visible(False)\n",
    "    ax2.spines['left'].set_visible(False)\n",
    "\n",
    "fig.tight_layout(pad=6)\n",
    "ani = matplotlib.animation.FuncAnimation(fig, animate, frames=len(sols))\n",
    "plt.show()"
   ]
  },
  {
   "cell_type": "markdown",
   "id": "ae3a61d5-700b-4b39-abdb-780c361e0a7b",
   "metadata": {
    "tags": []
   },
   "source": [
    "#### File storage"
   ]
  },
  {
   "cell_type": "code",
   "execution_count": 16,
   "id": "de9b184a-f9f7-4070-acd4-dff2183ccdf0",
   "metadata": {
    "tags": []
   },
   "outputs": [
    {
     "name": "stdout",
     "output_type": "stream",
     "text": [
      "CPU times: user 4min 44s, sys: 14.7 s, total: 4min 59s\n",
      "Wall time: 5min 3s\n"
     ]
    }
   ],
   "source": [
    "%%time\n",
    "\n",
    "\"\"\"\n",
    "File storage directly to specified directory; exporting as mp4.\n",
    "\"\"\"\n",
    "# SET FILE NAME\n",
    "#f = \"/Users/jholmes/Desktop/NCAR/Simulation Annimations for Word Docs/Dynamic Initial Configuration/P_V_correction.mp4\"\n",
    "writermp4 = matplotlib.animation.FFMpegWriter(fps=60)\n",
    "ani.save(f, writer=writermp4)"
   ]
  },
  {
   "cell_type": "code",
   "execution_count": null,
   "id": "90afffdc-73a0-4549-b286-cf33ebde130c",
   "metadata": {},
   "outputs": [],
   "source": []
  }
 ],
 "metadata": {
  "kernelspec": {
   "display_name": "Python 3 (ipykernel)",
   "language": "python",
   "name": "python3"
  },
  "language_info": {
   "codemirror_mode": {
    "name": "ipython",
    "version": 3
   },
   "file_extension": ".py",
   "mimetype": "text/x-python",
   "name": "python",
   "nbconvert_exporter": "python",
   "pygments_lexer": "ipython3",
   "version": "3.10.10"
  },
  "toc-autonumbering": false,
  "toc-showcode": false,
  "toc-showmarkdowntxt": false,
  "toc-showtags": false
 },
 "nbformat": 4,
 "nbformat_minor": 5
}
