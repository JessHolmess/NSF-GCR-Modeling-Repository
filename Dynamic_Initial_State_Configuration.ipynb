{
 "cells": [
  {
   "cell_type": "code",
   "execution_count": null,
   "id": "0d7a06d9-6c15-4779-98e6-08566f07cf80",
   "metadata": {},
   "outputs": [],
   "source": [
    "%run Function_Master.ipynb"
   ]
  },
  {
   "cell_type": "markdown",
   "id": "454e2995-e7da-4633-9b84-a04c08359686",
   "metadata": {
    "jp-MarkdownHeadingCollapsed": true,
    "tags": []
   },
   "source": [
    "## Generating Initial Conditions and Parameterization"
   ]
  },
  {
   "cell_type": "code",
   "execution_count": null,
   "id": "7ea296ab-7624-4ee7-9fee-13e7d3c8a38f",
   "metadata": {},
   "outputs": [],
   "source": [
    "\"\"\"\n",
    "This cell is responsible for generating a list of appropriate initial values\n",
    "for each state variable. \n",
    "\n",
    "The number of values wanted from each defined range is given by the parameter\n",
    "\"points\". The values are logarithmically spaced between the ranges to give a\n",
    "denser representation to smaller values of total nutrients.\n",
    "\n",
    "Although there is the capability of slightly perturbing each initial value \n",
    "for a given state (which would yeild a broader range of total nutrients when\n",
    "combining the states), that utility is neglected here to ensure we can directly\n",
    "compare each combination of initial states with the same total nutrient level.\n",
    "\"\"\"\n",
    "points = 10\n",
    "\n",
    "N_r_range = np.logspace(-3, 1, points) * 2\n",
    "P_U_range = np.logspace(-3, 1, points) * 2\n",
    "Z_range   = np.logspace(-3, 1, points) * 2\n",
    "V_E_ratio = np.geomspace(1, 500, points)\n",
    "\n",
    "ranges = [N_r_range, P_U_range, Z_range, V_E_ratio]\n",
    "range_names = [\"Nr_0\", \"Pu_0\", \"Z_0\", \"Ve_0 Ratio\"]\n",
    "\n",
    "perturbed_ranges = perturb_range(ranges, range_names, pprint=True, perturb=False)"
   ]
  },
  {
   "cell_type": "code",
   "execution_count": null,
   "id": "887e4af9-e28e-490a-b978-8bed90150f9b",
   "metadata": {
    "jupyter": {
     "source_hidden": true
    },
    "tags": []
   },
   "outputs": [],
   "source": [
    "#Parameterization\n",
    "\n",
    "alpha = (1 / 1.42e8) * 2.1e-10 * 1e6 # host conversion, mmol ml / NT m^3\n",
    "beta  = (1 / 4e5) * 1.27e-15 * 1e6   # viral conversion, mmol ml / NT m^3\n",
    "\n",
    "V_ind     = 4e5        # NT per individual virus, Table S1\n",
    "S_ind     = 1.42e8     # NT per individual host, Table S1\n",
    "\n",
    "V_max     = 1.4              # Host growth rate\n",
    "γ_Z       = .4               # Growth rate / Assimilation frequency \n",
    "φ         = 3.5e-10 / beta   # Viral adsorption rate, m^3 / (mmol * day)\n",
    "g         = 1.4              # d^-1 Maximum specific grazing rate\n",
    "\n",
    "ν_x       = V_ind / (V_ind + S_ind) # Proportion of nutrients originating \n",
    "                                    # from virus in host-virus pair\n",
    "    \n",
    "λ_P       = .05        # Mortality & Respiration rate\n",
    "λ_Z       = .05        # d^-1, Linear mortality & respiration & egestion\n",
    "λ_Z_hat   = 0.1         # Quadratic mortality & respiration & egestion\n",
    "λ_E       = .3         # Extracellular virus mortality \n",
    "δ         = .45        # Host lysis rate\n",
    "\n",
    "μ_V       = .5         # Max host NT recycling rate \n",
    "μ_V_prime = 1.6        # Max de novo NT synthesis rate\n",
    "μ_u       = 0\n",
    "μ_r       = 0          # Viral assimilation fraction related to host mortality\n",
    "μ_s       = 1\n",
    "μ_P       = .4         # Remineralization fraction due to mortality\n",
    "μ_delta   = .4         # ARBITRARY VALUE: Remineralization fraction due to lysis\n",
    "μ_g       = .4         # Remineralization fraction due to sloppy-eating\n",
    "μ_Z       = .4         # Remineralization fraction due to grazer mortality\n",
    "\n",
    "K_N       = .1         # mmol m^-3 # Half-saturation constant for nutrient limitation\n",
    "K_I       = 1          # Half-saturation for light limitation\n",
    "K_h       = 1          # Half-saturation for ... ?\n",
    "K_P       = 2.8        # mmol m^-3, Half-saturation constant for grazing of P\n",
    "I_0       = (np.e - 1) # Compensation irradiance\n",
    "\n",
    "ω         = 0 # Entraintment term\n",
    "\n",
    "param_labels = ['V_max', 'γ_Z', 'φ', 'g', 'ν_x', 'λ_P', 'λ_Z', 'λ_Z_hat', 'λ_E', \n",
    "                'δ', 'μ_V', 'μ_V_prime', 'μ_u', 'μ_r', 'μ_s', 'μ_P', 'μ_delta', \n",
    "                'μ_g', 'μ_Z', 'K_N', 'K_I', 'K_h', 'K_P', 'I_0', 'ω']\n",
    "\n",
    "param = [V_max, γ_Z, φ, g, ν_x, λ_P, λ_Z, λ_Z_hat, λ_E, δ, μ_V, μ_V_prime, \n",
    "          μ_u, μ_r, μ_s, μ_P, μ_delta, μ_g, μ_Z, K_N, K_I, K_h, K_P, I_0, ω]"
   ]
  },
  {
   "cell_type": "code",
   "execution_count": null,
   "id": "eae95728-237d-4589-884b-d0093b22739c",
   "metadata": {},
   "outputs": [],
   "source": [
    "# Nicely Print Parameterization\n",
    "print_paramterization(param)"
   ]
  },
  {
   "cell_type": "markdown",
   "id": "ec4758ff-9ba8-4176-8c58-1c5757ba7a99",
   "metadata": {
    "jp-MarkdownHeadingCollapsed": true,
    "tags": []
   },
   "source": [
    "## Running and Sorting Simulations"
   ]
  },
  {
   "cell_type": "code",
   "execution_count": null,
   "id": "9f2100b6-88a2-4ea9-b9a3-40c380f7820c",
   "metadata": {},
   "outputs": [],
   "source": [
    "\"\"\"\n",
    "This cell generates the list of possible initial condition configurations\n",
    "based on the possible initial ranges generated above. \n",
    "\n",
    "The code also defines certain criteria for the numerical integration scheme.\n",
    "\n",
    "Individual tolerances are perscribed to each state based on knowledge of\n",
    "their probable values.\n",
    "\"\"\"\n",
    "sols = []\n",
    "t_span = 350\n",
    "\n",
    "# Remaining state variables usually initiated at the same level (non-random)\n",
    "Nn_0 = 0.\n",
    "Pi_0 = 1e-7\n",
    "Vi_0 = 1e-7\n",
    "\n",
    "count = 0 # count how many solutions meet qualifications\n",
    "\n",
    "NT_cap = 20 # the maximum total nutrients allowed within the system, \n",
    "            # defined by the sum of the initial values of all state variables \n",
    "\n",
    "max_step   = .1\n",
    "method     = 'LSODA'\n",
    "tolerances = [1e-8, 1e-8, 1e-12, 1e-8, 1e-8, 1e-10, 1e-10]\n",
    "    \n",
    "#Same order of combinations in a nested for loop\n",
    "combos = list(product(N_r_range, P_U_range, Z_range, V_E_ratio))"
   ]
  },
  {
   "cell_type": "code",
   "execution_count": null,
   "id": "31a784fb-1fd6-4516-b985-da681e4603e6",
   "metadata": {},
   "outputs": [],
   "source": [
    "%%time\n",
    "\n",
    "\"\"\"\n",
    "Numerically integrating equations for each initial condition configuration. \n",
    "\"\"\"\n",
    "\n",
    "for Nr_0, Pu_0, Z_0, r in combos:\n",
    "                \n",
    "    #Initial level of Ve is computed based on the ratio of hosts to viruses\n",
    "    Ve_0 = est_viral_abund(r, Pu_0, alpha, beta, S_ind, V_ind)\n",
    "\n",
    "    z0 = [Nn_0, Nr_0, Pu_0, Pi_0, Z_0, Vi_0, Ve_0]\n",
    "    \n",
    "    if sum(z0) > NT_cap: #if the sum of the initial conditions are\n",
    "        continue         #greater than the maximum allowable totalN,\n",
    "                         #then move to next combination\n",
    "    count += 1\n",
    "    solution = solve_ivp(model, [0, t_span], z0, args=param, max_step=max_step, \n",
    "                         method=method, atol=tolerances)     \n",
    "    \n",
    "    #returns list of initial conditions + solution object\n",
    "    sols.append((z0, solution))\n",
    "                \n",
    "count"
   ]
  },
  {
   "cell_type": "code",
   "execution_count": null,
   "id": "9aa0a4a4-67b5-4523-aa11-4571508056f3",
   "metadata": {},
   "outputs": [],
   "source": [
    "def sort_sols_by_NT(sols):\n",
    "    \"\"\"\n",
    "    Function which sorts solutions based on their level of total N.\n",
    "    \"\"\"\n",
    "    # create a new list of tuples where the first element is the sum \n",
    "    #of each tuple and the second element is the original tuple\n",
    "    sum_tuples = [(sum(z0), z0, sol) for z0, sol in sols]\n",
    "    \n",
    "    # sort the new list based on the first element (the sum)\n",
    "    sorted_sum_tuples = sorted(sum_tuples, key=itemgetter(0))\n",
    "    \n",
    "    # extract and return only the original tuples from the sorted list\n",
    "    return [(z0, sol) for Tn, z0, sol in sorted_sum_tuples]\n",
    "\n",
    "sols = sort_sols_by_NT(sols)"
   ]
  },
  {
   "cell_type": "markdown",
   "id": "6e98187e-e44c-4ee3-87b7-e846a27dcd98",
   "metadata": {
    "jp-MarkdownHeadingCollapsed": true,
    "tags": []
   },
   "source": [
    "## Visualization of Results"
   ]
  },
  {
   "cell_type": "code",
   "execution_count": null,
   "id": "4fb1e074-5941-4b09-bd76-31e5359364b2",
   "metadata": {
    "tags": []
   },
   "outputs": [],
   "source": [
    "%matplotlib tk\n",
    "\n",
    "\"\"\"\n",
    "Animation of sorted solutions.\n",
    "\"\"\"\n",
    "\n",
    "time = [(z0, solution.t) for z0, solution in sols]\n",
    "\n",
    "Nn = [solution.y[0] for z0, solution in sols]\n",
    "Nr = [solution.y[1] for z0, solution in sols]\n",
    "PU = [solution.y[2] for z0, solution in sols]\n",
    "PI = [solution.y[3] for z0, solution in sols]\n",
    "Z  = [solution.y[4] for z0, solution in sols]        \n",
    "VI = [solution.y[5] for z0, solution in sols]\n",
    "VE = [solution.y[6] for z0, solution in sols]\n",
    "\n",
    "states = [Nn, Nr, PU, PI, Z, VI, VE]\n",
    "\n",
    "fig, ax = plt.subplots(figsize=(15, 5), constrained_layout=True)\n",
    "\n",
    "ax.set_xlim(0, t_span)\n",
    "ax.set_ylim(0, 10)\n",
    "\n",
    "def animate(i):\n",
    "    ax.clear()\n",
    "     \n",
    "    ax.plot(time[i][1], Nn[i], color=\"darkviolet\", label = \"N_n\")\n",
    "    ax.plot(time[i][1], Nr[i], color=\"blue\"      , label = \"N_r\")\n",
    "    ax.plot(time[i][1], PU[i], color=\"aquamarine\", label = \"P_U\")\n",
    "    ax.plot(time[i][1], PI[i], color=\"limegreen\" , label = \"P_I\")\n",
    "    ax.plot(time[i][1], Z [i], color=\"darkgreen\" , label = \"Z \")\n",
    "    ax.plot(time[i][1], VI[i], color=\"red\"       , label = \"V_I\")\n",
    "    ax.plot(time[i][1], VE[i], color=\"darkred\"   , label = \"V_E\")\n",
    "\n",
    "    # Can't truncate this line without it messing up the output so....\n",
    "    ax.set_title(f'Total N: {sum(time[i][0]):.4}, for Nr_0 = {time[i][0][1]:.4}, Pu_0 = {time[i][0][2]:.4}, Pi_0 = {time[i][0][3]:.4}, Z_0 = {time[i][0][4]:.4}, \\Vi_0 = {time[i][0][5]:.4}, Ve_0 = {time[i][0][6]:.4}')\n",
    "    ax.set_xlabel('Time (Day)')\n",
    "    ax.set_ylabel(r'Nutrients ($mmol/m^3$)')\n",
    "    ax.set_yscale('log')\n",
    "    ax.set_ylim(1e-12, 1e2)    \n",
    "\n",
    "    ax.grid(alpha=.3)\n",
    "    ax.legend(loc=(1.01, 0), framealpha=1)\n",
    "        \n",
    "ani = matplotlib.animation.FuncAnimation(fig, animate, frames=len(sols))\n",
    "plt.show()"
   ]
  },
  {
   "cell_type": "markdown",
   "id": "ae3a61d5-700b-4b39-abdb-780c361e0a7b",
   "metadata": {
    "tags": []
   },
   "source": [
    "### File storage"
   ]
  },
  {
   "cell_type": "code",
   "execution_count": null,
   "id": "de9b184a-f9f7-4070-acd4-dff2183ccdf0",
   "metadata": {
    "tags": []
   },
   "outputs": [],
   "source": [
    "%%time\n",
    "\n",
    "\"\"\"\n",
    "File storage directly to given directory, exporting as mp4.\n",
    "\"\"\"\n",
    "\n",
    "f = \"/Users/jholmes/Desktop/NCAR/Simulation Annimations for Word Docs/Dynamic Initial Configuration/NPZ.mp4\"\n",
    "writermp4 = matplotlib.animation.FFMpegWriter(fps=60)\n",
    "ani.save(f, writer=writermp4)"
   ]
  }
 ],
 "metadata": {
  "kernelspec": {
   "display_name": "Python 3 (ipykernel)",
   "language": "python",
   "name": "python3"
  },
  "language_info": {
   "codemirror_mode": {
    "name": "ipython",
    "version": 3
   },
   "file_extension": ".py",
   "mimetype": "text/x-python",
   "name": "python",
   "nbconvert_exporter": "python",
   "pygments_lexer": "ipython3",
   "version": "3.10.10"
  },
  "toc-autonumbering": false,
  "toc-showcode": false,
  "toc-showmarkdowntxt": false
 },
 "nbformat": 4,
 "nbformat_minor": 5
}
