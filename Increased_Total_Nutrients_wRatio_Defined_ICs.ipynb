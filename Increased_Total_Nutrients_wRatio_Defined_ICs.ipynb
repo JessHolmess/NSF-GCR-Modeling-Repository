{
 "cells": [
  {
   "cell_type": "code",
   "execution_count": 11,
   "id": "0d7a06d9-6c15-4779-98e6-08566f07cf80",
   "metadata": {
    "tags": []
   },
   "outputs": [],
   "source": [
    "%run Function_Master.ipynb \n",
    "%run Parameterization.ipynb"
   ]
  },
  {
   "cell_type": "markdown",
   "id": "454e2995-e7da-4633-9b84-a04c08359686",
   "metadata": {
    "tags": []
   },
   "source": [
    "## Defining Parameterization and Initial Conditions"
   ]
  },
  {
   "cell_type": "code",
   "execution_count": 12,
   "id": "eae95728-237d-4589-884b-d0093b22739c",
   "metadata": {},
   "outputs": [
    {
     "name": "stdout",
     "output_type": "stream",
     "text": [
      "╒════════════════════════════════════════╤═══════════════╤═════════════════╤═══════════════╤══════════════════════╕\n",
      "│ V_max = 1.4                            │ λ_P = 0.05    │ μ_V = 0.5       │ μ_P = 0.4     │ K_I = 1.0            │\n",
      "├────────────────────────────────────────┼───────────────┼─────────────────┼───────────────┼──────────────────────┤\n",
      "│ γ_Z = 0.4                              │ λ_Z = 0.05    │ μ_V_prime = 1.0 │ μ_delta = 0.4 │ K_h = 1.0            │\n",
      "├────────────────────────────────────────┼───────────────┼─────────────────┼───────────────┼──────────────────────┤\n",
      "│ φ = 110236.2205                        │ λ_Z_hat = 0.1 │ μ_u = 0.0       │ μ_g = 0.4     │ K_P = 2.8            │\n",
      "├────────────────────────────────────────┼───────────────┼─────────────────┼───────────────┼──────────────────────┤\n",
      "│ g = 1.4                                │ λ_E = 0.5     │ μ_r = 0.5       │ μ_Z = 0.4     │ I_0 = e - 1 = 1.7183 │\n",
      "├────────────────────────────────────────┼───────────────┼─────────────────┼───────────────┼──────────────────────┤\n",
      "│ ν_x = V_ind / (V_ind + S_ind) = 0.0028 │ δ = 0.45      │ μ_s = 1.0       │ K_N = 0.1     │ ω = 0.0              │\n",
      "╘════════════════════════════════════════╧═══════════════╧═════════════════╧═══════════════╧══════════════════════╛\n"
     ]
    }
   ],
   "source": [
    "print_paramterization(param)"
   ]
  },
  {
   "cell_type": "markdown",
   "id": "ec4758ff-9ba8-4176-8c58-1c5757ba7a99",
   "metadata": {
    "tags": []
   },
   "source": [
    "## Running and Sorting Simulations"
   ]
  },
  {
   "cell_type": "code",
   "execution_count": 13,
   "id": "9f2100b6-88a2-4ea9-b9a3-40c380f7820c",
   "metadata": {},
   "outputs": [],
   "source": [
    "\"\"\"\n",
    "Defines certain criteria for the numerical integration scheme.\n",
    "\n",
    "Individual tolerances are perscribed to each state based on knowledge of\n",
    "their probable values.\n",
    "\"\"\"\n",
    "t_span = 500\n",
    "\n",
    "# Total N span\n",
    "points = 2000\n",
    "N_t = np.logspace(-4, 1, points) * 2\n",
    "\n",
    "max_step   = .1\n",
    "method     = 'LSODA'\n",
    "tolerances = [1e-8, 1e-8, 1e-12, 1e-8, 1e-8, 1e-10, 1e-10]"
   ]
  },
  {
   "cell_type": "code",
   "execution_count": 14,
   "id": "31a784fb-1fd6-4516-b985-da681e4603e6",
   "metadata": {
    "tags": []
   },
   "outputs": [
    {
     "name": "stdout",
     "output_type": "stream",
     "text": [
      "CPU times: user 1min 8s, sys: 1.44 s, total: 1min 10s\n",
      "Wall time: 1min 10s\n"
     ]
    },
    {
     "data": {
      "text/plain": [
       "2000"
      ]
     },
     "execution_count": 14,
     "metadata": {},
     "output_type": "execute_result"
    }
   ],
   "source": [
    "%%time\n",
    "\n",
    "\"\"\"\n",
    "This cell defines the level for which each state shall be initialized based\n",
    "on a reasonable ratio of total nutrients as nutrients increase in the system.\n",
    "\n",
    "Numerically integrating equations for each initial condition configuration. \n",
    "\"\"\"\n",
    "sols = []\n",
    "\n",
    "Nn_0 = 0.\n",
    "Pi_0 = 0.\n",
    "Vi_0 = 0.\n",
    "\n",
    "for Nt in N_t:\n",
    "    \n",
    "    # Define Phytoplankton and Zooplankton as certain percentages\n",
    "    Pu_0 = .1 * Nt  \n",
    "    Z_0  = .2 * Nt \n",
    "    \n",
    "    #Initial level of Ve is computed based on the ratio of hosts to viruses\n",
    "    r = 1/10\n",
    "    Ve_0 = est_viral_abund(r, Pu_0, alpha, beta, S_ind, V_ind)\n",
    "    \n",
    "    # Define nutrient level as the remainder\n",
    "    Nr_0 = Nt - (Pu_0 + Z_0 + Ve_0)\n",
    "    \n",
    "    # Define initial condition array\n",
    "    z0 = [Nn_0, Nr_0, Pu_0, Pi_0, Z_0, Vi_0, Ve_0]\n",
    "    \n",
    "    solution = solve_ivp(model, [0, t_span], z0, args=param,\n",
    "                         max_step=max_step, method=method, atol=tolerances)     \n",
    "    \n",
    "    #returns list of initial conditions + solution object\n",
    "    sols.append((z0, solution))\n",
    "\n",
    "len(sols)"
   ]
  },
  {
   "cell_type": "code",
   "execution_count": 15,
   "id": "a492ad37-3d66-4d3a-8e83-156b167309d6",
   "metadata": {},
   "outputs": [
    {
     "name": "stdout",
     "output_type": "stream",
     "text": [
      "Stored 'sols' (list)\n"
     ]
    }
   ],
   "source": [
    "%store sols "
   ]
  },
  {
   "cell_type": "markdown",
   "id": "6e98187e-e44c-4ee3-87b7-e846a27dcd98",
   "metadata": {
    "tags": []
   },
   "source": [
    "## Visualization of Results"
   ]
  },
  {
   "cell_type": "code",
   "execution_count": 17,
   "id": "e36b9d7f-4100-48da-880b-03181d342b69",
   "metadata": {},
   "outputs": [],
   "source": [
    "%store -r sols"
   ]
  },
  {
   "cell_type": "code",
   "execution_count": 18,
   "id": "9f88981c-96a2-4dda-8043-fd274710963e",
   "metadata": {
    "tags": []
   },
   "outputs": [],
   "source": [
    "#Parameters for printing in plot\n",
    "\n",
    "param_labels_fp = ['V_max', 'γ_Z', 'φ', 'g', 'ν_x', \n",
    "               'λ_P', 'λ_Z', 'λ_Z_hat', 'λ_E', 'δ', 'μ_V', 'μ_V_prime', 'μ_u', 'μ_r', 'μ_s', \n",
    "               'μ_P', 'μ_delta', 'μ_g', 'μ_Z', 'K_N', 'K_I', 'K_h', 'K_P', 'I_0 = e - 1', 'ω']\n",
    "\n",
    "param_fp = [f'{param_labels_fp[i]} = {param[i]:.4}' for i in range(len(param))]\n",
    "param_fp = np.reshape(param_fp, (5,5)).transpose()"
   ]
  },
  {
   "cell_type": "code",
   "execution_count": 19,
   "id": "4fb1e074-5941-4b09-bd76-31e5359364b2",
   "metadata": {
    "tags": []
   },
   "outputs": [],
   "source": [
    "%matplotlib tk\n",
    "\n",
    "\"\"\" Animation of sorted solutions. \"\"\"\n",
    "\n",
    "time = [(z0, solution.t) for z0, solution in sols]\n",
    "\n",
    "Nn = [solution.y[0] for z0, solution in sols]\n",
    "Nr = [solution.y[1] for z0, solution in sols]\n",
    "PU = [solution.y[2] for z0, solution in sols]\n",
    "PI = [solution.y[3] for z0, solution in sols]\n",
    "Z  = [solution.y[4] for z0, solution in sols]        \n",
    "VI = [solution.y[5] for z0, solution in sols]\n",
    "VE = [solution.y[6] for z0, solution in sols]\n",
    "\n",
    "states = [Nn, Nr, PU, PI, Z, VI, VE]\n",
    "\n",
    "fig = plt.figure(1, figsize=(12, 15))\n",
    "ax = fig.add_subplot(311)\n",
    "ax2 = fig.add_subplot(312)\n",
    "ax3 = fig.add_subplot(313)\n",
    "\n",
    "def animate(i):\n",
    "    ax.clear()\n",
    "    ax2.clear()\n",
    "    ax3.clear()\n",
    "    \n",
    "    for a in [ax, ax2]:\n",
    "        a.plot(time[i][1], Nn[i], color=\"darkviolet\", label = \"N_n\")\n",
    "        a.plot(time[i][1], Nr[i], color=\"blue\"      , label = \"N_r\")\n",
    "        a.plot(time[i][1], PU[i], color=\"aquamarine\", label = \"P_U\")\n",
    "        a.plot(time[i][1], PI[i], color=\"limegreen\" , label = \"P_I\")\n",
    "        a.plot(time[i][1], Z[i], color=\"darkgreen\" , label = \"Z \")\n",
    "        a.plot(time[i][1], VI[i], color=\"red\"       , label = \"V_I\")\n",
    "        a.plot(time[i][1], VE[i], color=\"darkred\"   , label = \"V_E\")\n",
    "    \n",
    "        a.set(ylabel = r'Nutrients ($mmol/m^3$)')\n",
    "        a.grid(which='both', alpha=.3)\n",
    "        a.minorticks_on()\n",
    "        a.legend(loc=(.98, 0.05), framealpha=1)\n",
    "        \n",
    "    title = (f'Total N: {sum(time[i][0]):.8}, '\n",
    "             f'for Nr_0 = {time[i][0][1]:.4}, '\n",
    "             f'Pu_0 = {time[i][0][2]:.4}, '\n",
    "             f'Pi_0 = {time[i][0][3]:.4}, '\n",
    "             f'Z_0 = {time[i][0][4]:.4}, '\n",
    "             f'Vi_0 = {time[i][0][5]:.4}, '\n",
    "             f'Ve_0 = {time[i][0][6]:.4}')\n",
    "\n",
    "    ax.set_title(title, pad=15)\n",
    "\n",
    "    ax2.set_xlabel('Time (Day)')\n",
    "    ax2.set_yscale('log')\n",
    "    ax2.set_ylim(1e-12, 3e1)\n",
    "    \n",
    "    ax3.text(0, -1.49, f\"Number of simulations: {len(sols)}\", weight='bold', transform=ax.transAxes)\n",
    "    \n",
    "    ax3.text(0,-1.58, 'Functional Calls:', weight='bold', transform=ax.transAxes)   \n",
    "    ax3.text(0,-1.65, f\"Integration Method: {method},\", transform=ax.transAxes)\n",
    "    ax3.text(.2, -1.65, f\"Max time step: {max_step},\", transform=ax.transAxes)\n",
    "    ax3.text(.34, -1.65, f\"Absolute state tolerances: {tolerances}\", transform=ax.transAxes)\n",
    "\n",
    "    ax3.text(0, -1.75, f\"Final state values:\", weight='bold', transform=ax.transAxes)\n",
    "    \n",
    "    ax3.text(0, -1.82, f\"N_n:  {Nn[i][-1]},\", transform=ax.transAxes)\n",
    "    ax3.text(.25, -1.82, f\"N_r:   {Nr[i][-1]},\", transform=ax.transAxes)\n",
    "    ax3.text(0, -1.9, f\"P_U:  {PU[i][-1]},\", transform=ax.transAxes)\n",
    "    ax3.text(.25, -1.9, f\"P_I:   {PI[i][-1]},\", transform=ax.transAxes)\n",
    "    ax3.text(0, -1.98, f\"Z:     {Z[i][-1]},\", transform=ax.transAxes)\n",
    "    ax3.text(0, -2.06, f\"V_I:   {VI[i][-1]},\", transform=ax.transAxes)\n",
    "    ax3.text(.25, -2.06, f\"V_E:  {VE[i][-1]}\", transform=ax.transAxes)\n",
    "    \n",
    "    ax3.text(0, -2.16, \"Parameterization: \", weight='bold', transform=ax.transAxes)\n",
    "\n",
    "    table = ax3.table(cellText=param_fp, bbox=[0, -.2, 1, .5], cellLoc='left')\n",
    "    table.auto_set_font_size(False)\n",
    "    table.set_fontsize(9)\n",
    "    table.scale(.7, 2)\n",
    "    \n",
    "    ax3.get_xaxis().set_visible(False)\n",
    "    ax3.get_yaxis().set_visible(False)\n",
    "    ax3.spines['top'].set_visible(False)\n",
    "    ax3.spines['right'].set_visible(False)\n",
    "    ax3.spines['bottom'].set_visible(False)\n",
    "    ax3.spines['left'].set_visible(False)\n",
    "\n",
    "fig.tight_layout(pad=5)\n",
    "ani = matplotlib.animation.FuncAnimation(fig, animate, frames=len(sols))\n",
    "plt.show()"
   ]
  },
  {
   "cell_type": "markdown",
   "id": "ae3a61d5-700b-4b39-abdb-780c361e0a7b",
   "metadata": {
    "tags": []
   },
   "source": [
    "## File storage"
   ]
  },
  {
   "cell_type": "code",
   "execution_count": 2,
   "id": "de9b184a-f9f7-4070-acd4-dff2183ccdf0",
   "metadata": {
    "tags": []
   },
   "outputs": [
    {
     "name": "stdout",
     "output_type": "stream",
     "text": [
      "CPU times: user 2 µs, sys: 0 ns, total: 2 µs\n",
      "Wall time: 5.01 µs\n"
     ]
    }
   ],
   "source": [
    "%%time\n",
    "\n",
    "\"\"\" File storage directly to specified directory; exporting as mp4. \"\"\";\n",
    "\n",
    "# SET FILE NAME\n",
    "# f = \"/Users/jholmes/Desktop/NCAR/Simulation Annimations/Fixed Initial Condition Ratio/Base_Parameterization_variying_Nt.mp4\"\n",
    "# writermp4 = matplotlib.animation.FFMpegWriter(fps=60)\n",
    "# ani.save(f, writer=writermp4)"
   ]
  },
  {
   "cell_type": "code",
   "execution_count": null,
   "id": "80901133-fd9f-494e-a114-f55a9867005f",
   "metadata": {},
   "outputs": [],
   "source": []
  }
 ],
 "metadata": {
  "kernelspec": {
   "display_name": "Python 3 (ipykernel)",
   "language": "python",
   "name": "python3"
  },
  "language_info": {
   "codemirror_mode": {
    "name": "ipython",
    "version": 3
   },
   "file_extension": ".py",
   "mimetype": "text/x-python",
   "name": "python",
   "nbconvert_exporter": "python",
   "pygments_lexer": "ipython3",
   "version": "3.10.10"
  },
  "toc-autonumbering": false,
  "toc-showcode": false,
  "toc-showmarkdowntxt": false,
  "toc-showtags": false
 },
 "nbformat": 4,
 "nbformat_minor": 5
}
