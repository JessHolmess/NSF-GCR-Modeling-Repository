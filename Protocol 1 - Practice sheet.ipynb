{
 "cells": [
  {
   "cell_type": "code",
   "execution_count": 20,
   "id": "312dfa91",
   "metadata": {
    "code_folding": []
   },
   "outputs": [
    {
     "data": {
      "text/html": [
       "<style>.container { width:100% !important; }</style>"
      ],
      "text/plain": [
       "<IPython.core.display.HTML object>"
      ]
     },
     "metadata": {},
     "output_type": "display_data"
    }
   ],
   "source": [
    "#Dependancies\n",
    "import numpy as np\n",
    "import math\n",
    "import pandas as pd\n",
    "from scipy.integrate import solve_ivp\n",
    "from scipy.interpolate import CubicSpline\n",
    "from scipy.optimize import fsolve, least_squares, minimize\n",
    "from scipy.stats import qmc \n",
    "from scipy.linalg import norm\n",
    "import random\n",
    "import matplotlib.animation\n",
    "from matplotlib.collections import LineCollection\n",
    "from matplotlib.colors import ListedColormap, BoundaryNorm\n",
    "from scipy.signal import argrelmin, argrelmax\n",
    "import matplotlib.pyplot as plt\n",
    "from numba import jit\n",
    "from tabulate import tabulate\n",
    "\n",
    "from IPython.display import display, HTML\n",
    "display(HTML(\"<style>.container { width:100% !important; }</style>\"))"
   ]
  },
  {
   "cell_type": "code",
   "execution_count": 12,
   "id": "43c042b0",
   "metadata": {
    "code_folding": []
   },
   "outputs": [],
   "source": [
    "# Convergence scheme\n",
    "\n",
    "def magnitude (value):\n",
    "    \"\"\"Returns the magnitude (10 ** m) of a given value\"\"\"\n",
    "    if (value == 0): return 0\n",
    "    return int(math.floor(math.log10(abs(value))))\n",
    "\n",
    "def ss_or_osc(sol):\n",
    "        \n",
    "    \"\"\"\n",
    "    state_sol should be a list representing a solution for a particular \n",
    "    state variable associated with a particular solution set\n",
    "    \n",
    "    Convergence Criteria:\n",
    "\n",
    "    - For state solution state_sol, set reference value to the last time iterate of state_solution.\n",
    "    - Work backwards, comparing each time iterate to the reference value: want to find \n",
    "      the first instance of when the state_solution has strayed too far from the reference,\n",
    "      as determined by a specified threshold.\n",
    "\n",
    "    - That first instance represents the time of convergence.\n",
    "    - Example: l = 5 (solution with 5 time steps)\n",
    "               ref = sol[-1] = sol[4]\n",
    "               convergence at i = 3 yields sol[-4] = sol[2] = sol(5 - 3)\n",
    "    \n",
    "    \"\"\"\n",
    "    chunk = int(len(sol.t) * .75) #Last 25% of time span\n",
    "    ss = []\n",
    "    conv_time = []\n",
    "    \n",
    "    for k in range(7):\n",
    "        \n",
    "        index = 0\n",
    "        state_sol = sol.y[k]\n",
    "                \n",
    "        l = len(state_sol) #Amount of time steps in a solution\n",
    "\n",
    "        ref = state_sol[-1] #Reference value for which we compare the previous values to\n",
    "#         print(k)\n",
    "#         print(f\"ref:{ref}\")\n",
    "        \n",
    "        ss.append(ref)\n",
    "        \n",
    "        mag = magnitude(ref * .01) # Define threshold at 1% of ref\n",
    "#         print(f\"mag:{mag}\")\n",
    "        \n",
    "        rel_tol = max(10 ** mag, 1e-10) # addresses exponential decay terms\n",
    "#         print(f\"rel_tol:{rel_tol}\")\n",
    "#         print()\n",
    "        \n",
    "        #Check if oscillations occur\n",
    "        y_end = state_sol[chunk: ] #look at tail end of specific state\n",
    "\n",
    "        l_min = argrelmin(y_end)[0]  #Extracting local minimum \n",
    "        l_max = argrelmax(y_end)[0]  #and maximum\n",
    "\n",
    "        if (len(l_min) != 0) and (len(l_max) != 0): \n",
    "            return 'osc' # Return identifier, exit loop\n",
    "\n",
    "        # If no oscillations present\n",
    "        # Work backwards to find time of convergence\n",
    "        for i in range(2, l): # Work backwards comparing each time step to the ref\n",
    "\n",
    "            if not math.isclose(state_sol[-i], ref, rel_tol=rel_tol): \n",
    "                index = l - i + 1 #(plus 1 for previous time step, ie. last step that passed the threshold)\n",
    "                break\n",
    "        \n",
    "        conv_time.append(index)\n",
    "        \n",
    "    return ss, conv_time\n",
    "            "
   ]
  },
  {
   "cell_type": "code",
   "execution_count": 1,
   "id": "30231ad3",
   "metadata": {},
   "outputs": [],
   "source": [
    "%store -r ss_sols\n",
    "%store -r osc_sols"
   ]
  },
  {
   "cell_type": "code",
   "execution_count": 4,
   "id": "3273c5f2",
   "metadata": {},
   "outputs": [
    {
     "data": {
      "text/plain": [
       "4758"
      ]
     },
     "execution_count": 4,
     "metadata": {},
     "output_type": "execute_result"
    }
   ],
   "source": [
    "len(ss_sols) # [Initial condition, numerical solution, steady state solution values, time index of convergence]"
   ]
  },
  {
   "cell_type": "code",
   "execution_count": 14,
   "id": "575cc382",
   "metadata": {},
   "outputs": [
    {
     "data": {
      "text/plain": [
       "([0, 2e-05, 2e-05, 1e-07, 2e-05, 1e-07, 2.0176073164229287e-10],\n",
       "   message: The solver successfully reached the end of the integration interval.\n",
       "   success: True\n",
       "    status: 0\n",
       "         t: [ 0.000e+00  1.000e-01 ...  6.999e+02  7.000e+02]\n",
       "         y: [[ 0.000e+00  0.000e+00 ...  0.000e+00  0.000e+00]\n",
       "             [ 2.000e-05  2.021e-05 ...  6.020e-05  6.020e-05]\n",
       "             ...\n",
       "             [ 1.000e-07  9.984e-08 ...  8.252e-13  8.252e-13]\n",
       "             [ 2.018e-10  3.486e-10 ...  7.302e-23  7.266e-23]]\n",
       "       sol: None\n",
       "  t_events: None\n",
       "  y_events: None\n",
       "      nfev: 9493\n",
       "      njev: 353\n",
       "       nlu: 353,\n",
       " [0.0,\n",
       "  6.0200198637293496e-05,\n",
       "  1.27781734111973e-20,\n",
       "  6.839466734275746e-138,\n",
       "  1.3618013987673533e-20,\n",
       "  8.252222097880992e-13,\n",
       "  7.265616733558303e-23],\n",
       " [0, 3142, 7000, 7000, 7000, 5550, 7000])"
      ]
     },
     "execution_count": 14,
     "metadata": {},
     "output_type": "execute_result"
    }
   ],
   "source": [
    "ss_sols[1]"
   ]
  },
  {
   "cell_type": "code",
   "execution_count": 5,
   "id": "14ea4aca",
   "metadata": {},
   "outputs": [
    {
     "data": {
      "text/plain": [
       "362"
      ]
     },
     "execution_count": 5,
     "metadata": {},
     "output_type": "execute_result"
    }
   ],
   "source": [
    "len(osc_sols) # [Initial condition, numerical solution]"
   ]
  },
  {
   "cell_type": "markdown",
   "id": "4c2fbdd6",
   "metadata": {},
   "source": [
    " "
   ]
  },
  {
   "cell_type": "markdown",
   "id": "4e26f417",
   "metadata": {},
   "source": [
    " "
   ]
  },
  {
   "cell_type": "markdown",
   "id": "0a5218b9",
   "metadata": {},
   "source": [
    "**Individual state variable data**"
   ]
  },
  {
   "cell_type": "code",
   "execution_count": 15,
   "id": "d985024c",
   "metadata": {},
   "outputs": [],
   "source": [
    "# creates a data set where each solution's initial conditions are \n",
    "# paired with their respective steady state / long-time tendancy solution\n",
    "\n",
    "labels = \"N_n\", \"N_r\", \"P_U\", \"P_I\", \"Z\", \"V_I\", \"V_E\"\n",
    "\n",
    "data = []\n",
    "\n",
    "for i, (z0, sol, ss, conv_time) in enumerate(ss_sols):\n",
    "    \n",
    "     for k, state in enumerate(labels):\n",
    "\n",
    "        data.append((i, state, z0[k], ss[k], sum(z0), sol.t[conv_time[k]]))"
   ]
  },
  {
   "cell_type": "code",
   "execution_count": 16,
   "id": "4161a64b",
   "metadata": {},
   "outputs": [],
   "source": [
    "df = pd.DataFrame(data, columns = ['Solution #', 'State Variable', 'Initial Condition', 'Steady State', 'Total N', \"Convergence Time\"])"
   ]
  },
  {
   "cell_type": "code",
   "execution_count": 17,
   "id": "889d324d",
   "metadata": {},
   "outputs": [
    {
     "data": {
      "text/html": [
       "<div>\n",
       "<style scoped>\n",
       "    .dataframe tbody tr th:only-of-type {\n",
       "        vertical-align: middle;\n",
       "    }\n",
       "\n",
       "    .dataframe tbody tr th {\n",
       "        vertical-align: top;\n",
       "    }\n",
       "\n",
       "    .dataframe thead th {\n",
       "        text-align: right;\n",
       "    }\n",
       "</style>\n",
       "<table border=\"1\" class=\"dataframe\">\n",
       "  <thead>\n",
       "    <tr style=\"text-align: right;\">\n",
       "      <th></th>\n",
       "      <th>Solution #</th>\n",
       "      <th>State Variable</th>\n",
       "      <th>Initial Condition</th>\n",
       "      <th>Steady State</th>\n",
       "      <th>Total N</th>\n",
       "      <th>Convergence Time</th>\n",
       "    </tr>\n",
       "  </thead>\n",
       "  <tbody>\n",
       "    <tr>\n",
       "      <th>0</th>\n",
       "      <td>0</td>\n",
       "      <td>N_n</td>\n",
       "      <td>0.000000e+00</td>\n",
       "      <td>0.000000e+00</td>\n",
       "      <td>0.00006</td>\n",
       "      <td>0.0</td>\n",
       "    </tr>\n",
       "    <tr>\n",
       "      <th>1</th>\n",
       "      <td>0</td>\n",
       "      <td>N_r</td>\n",
       "      <td>2.000000e-05</td>\n",
       "      <td>6.020012e-05</td>\n",
       "      <td>0.00006</td>\n",
       "      <td>314.2</td>\n",
       "    </tr>\n",
       "    <tr>\n",
       "      <th>2</th>\n",
       "      <td>0</td>\n",
       "      <td>P_U</td>\n",
       "      <td>2.000000e-05</td>\n",
       "      <td>1.278071e-20</td>\n",
       "      <td>0.00006</td>\n",
       "      <td>700.0</td>\n",
       "    </tr>\n",
       "    <tr>\n",
       "      <th>3</th>\n",
       "      <td>0</td>\n",
       "      <td>P_I</td>\n",
       "      <td>1.000000e-07</td>\n",
       "      <td>7.109200e-138</td>\n",
       "      <td>0.00006</td>\n",
       "      <td>700.0</td>\n",
       "    </tr>\n",
       "    <tr>\n",
       "      <th>4</th>\n",
       "      <td>0</td>\n",
       "      <td>Z</td>\n",
       "      <td>2.000000e-05</td>\n",
       "      <td>1.361801e-20</td>\n",
       "      <td>0.00006</td>\n",
       "      <td>700.0</td>\n",
       "    </tr>\n",
       "    <tr>\n",
       "      <th>5</th>\n",
       "      <td>0</td>\n",
       "      <td>V_I</td>\n",
       "      <td>1.000000e-07</td>\n",
       "      <td>8.203956e-13</td>\n",
       "      <td>0.00006</td>\n",
       "      <td>555.1</td>\n",
       "    </tr>\n",
       "    <tr>\n",
       "      <th>6</th>\n",
       "      <td>0</td>\n",
       "      <td>V_E</td>\n",
       "      <td>1.209524e-10</td>\n",
       "      <td>7.299043e-23</td>\n",
       "      <td>0.00006</td>\n",
       "      <td>700.0</td>\n",
       "    </tr>\n",
       "    <tr>\n",
       "      <th>7</th>\n",
       "      <td>1</td>\n",
       "      <td>N_n</td>\n",
       "      <td>0.000000e+00</td>\n",
       "      <td>0.000000e+00</td>\n",
       "      <td>0.00006</td>\n",
       "      <td>0.0</td>\n",
       "    </tr>\n",
       "    <tr>\n",
       "      <th>8</th>\n",
       "      <td>1</td>\n",
       "      <td>N_r</td>\n",
       "      <td>2.000000e-05</td>\n",
       "      <td>6.020020e-05</td>\n",
       "      <td>0.00006</td>\n",
       "      <td>314.2</td>\n",
       "    </tr>\n",
       "    <tr>\n",
       "      <th>9</th>\n",
       "      <td>1</td>\n",
       "      <td>P_U</td>\n",
       "      <td>2.000000e-05</td>\n",
       "      <td>1.277817e-20</td>\n",
       "      <td>0.00006</td>\n",
       "      <td>700.0</td>\n",
       "    </tr>\n",
       "    <tr>\n",
       "      <th>10</th>\n",
       "      <td>1</td>\n",
       "      <td>P_I</td>\n",
       "      <td>1.000000e-07</td>\n",
       "      <td>6.839467e-138</td>\n",
       "      <td>0.00006</td>\n",
       "      <td>700.0</td>\n",
       "    </tr>\n",
       "    <tr>\n",
       "      <th>11</th>\n",
       "      <td>1</td>\n",
       "      <td>Z</td>\n",
       "      <td>2.000000e-05</td>\n",
       "      <td>1.361801e-20</td>\n",
       "      <td>0.00006</td>\n",
       "      <td>700.0</td>\n",
       "    </tr>\n",
       "    <tr>\n",
       "      <th>12</th>\n",
       "      <td>1</td>\n",
       "      <td>V_I</td>\n",
       "      <td>1.000000e-07</td>\n",
       "      <td>8.252222e-13</td>\n",
       "      <td>0.00006</td>\n",
       "      <td>555.0</td>\n",
       "    </tr>\n",
       "    <tr>\n",
       "      <th>13</th>\n",
       "      <td>1</td>\n",
       "      <td>V_E</td>\n",
       "      <td>2.017607e-10</td>\n",
       "      <td>7.265617e-23</td>\n",
       "      <td>0.00006</td>\n",
       "      <td>700.0</td>\n",
       "    </tr>\n",
       "    <tr>\n",
       "      <th>14</th>\n",
       "      <td>2</td>\n",
       "      <td>N_n</td>\n",
       "      <td>0.000000e+00</td>\n",
       "      <td>0.000000e+00</td>\n",
       "      <td>0.00006</td>\n",
       "      <td>0.0</td>\n",
       "    </tr>\n",
       "  </tbody>\n",
       "</table>\n",
       "</div>"
      ],
      "text/plain": [
       "    Solution # State Variable  Initial Condition   Steady State  Total N  \\\n",
       "0            0            N_n       0.000000e+00   0.000000e+00  0.00006   \n",
       "1            0            N_r       2.000000e-05   6.020012e-05  0.00006   \n",
       "2            0            P_U       2.000000e-05   1.278071e-20  0.00006   \n",
       "3            0            P_I       1.000000e-07  7.109200e-138  0.00006   \n",
       "4            0              Z       2.000000e-05   1.361801e-20  0.00006   \n",
       "5            0            V_I       1.000000e-07   8.203956e-13  0.00006   \n",
       "6            0            V_E       1.209524e-10   7.299043e-23  0.00006   \n",
       "7            1            N_n       0.000000e+00   0.000000e+00  0.00006   \n",
       "8            1            N_r       2.000000e-05   6.020020e-05  0.00006   \n",
       "9            1            P_U       2.000000e-05   1.277817e-20  0.00006   \n",
       "10           1            P_I       1.000000e-07  6.839467e-138  0.00006   \n",
       "11           1              Z       2.000000e-05   1.361801e-20  0.00006   \n",
       "12           1            V_I       1.000000e-07   8.252222e-13  0.00006   \n",
       "13           1            V_E       2.017607e-10   7.265617e-23  0.00006   \n",
       "14           2            N_n       0.000000e+00   0.000000e+00  0.00006   \n",
       "\n",
       "    Convergence Time  \n",
       "0                0.0  \n",
       "1              314.2  \n",
       "2              700.0  \n",
       "3              700.0  \n",
       "4              700.0  \n",
       "5              555.1  \n",
       "6              700.0  \n",
       "7                0.0  \n",
       "8              314.2  \n",
       "9              700.0  \n",
       "10             700.0  \n",
       "11             700.0  \n",
       "12             555.0  \n",
       "13             700.0  \n",
       "14               0.0  "
      ]
     },
     "execution_count": 17,
     "metadata": {},
     "output_type": "execute_result"
    }
   ],
   "source": [
    "df[:15] "
   ]
  },
  {
   "cell_type": "code",
   "execution_count": 18,
   "id": "943e6e95",
   "metadata": {},
   "outputs": [],
   "source": [
    "# Separating data by state variable\n",
    "Nn_df = df[df[\"State Variable\"] == 'N_n'].drop(columns=['State Variable'])\n",
    "Nr_df = df[df[\"State Variable\"] == 'N_r'].drop(columns=['State Variable'])\n",
    "Pu_df = df[df[\"State Variable\"] == 'P_U'].drop(columns=['State Variable'])\n",
    "Pi_df = df[df[\"State Variable\"] == 'P_I'].drop(columns=['State Variable'])\n",
    "Z_df  = df[df[\"State Variable\"] == 'Z'  ].drop(columns=['State Variable'])\n",
    "Vi_df = df[df[\"State Variable\"] == 'V_I'].drop(columns=['State Variable'])\n",
    "Ve_df = df[df[\"State Variable\"] == 'V_E'].drop(columns=['State Variable'])\n",
    "\n",
    "\n",
    "state_lists = (Nn_df, Nr_df, Pu_df, Pi_df, Z_df , Vi_df, Ve_df)"
   ]
  },
  {
   "cell_type": "code",
   "execution_count": 19,
   "id": "656fee91",
   "metadata": {},
   "outputs": [
    {
     "data": {
      "text/html": [
       "<div>\n",
       "<style scoped>\n",
       "    .dataframe tbody tr th:only-of-type {\n",
       "        vertical-align: middle;\n",
       "    }\n",
       "\n",
       "    .dataframe tbody tr th {\n",
       "        vertical-align: top;\n",
       "    }\n",
       "\n",
       "    .dataframe thead th {\n",
       "        text-align: right;\n",
       "    }\n",
       "</style>\n",
       "<table border=\"1\" class=\"dataframe\">\n",
       "  <thead>\n",
       "    <tr style=\"text-align: right;\">\n",
       "      <th></th>\n",
       "      <th>Solution #</th>\n",
       "      <th>Initial Condition</th>\n",
       "      <th>Steady State</th>\n",
       "      <th>Total N</th>\n",
       "      <th>Convergence Time</th>\n",
       "    </tr>\n",
       "  </thead>\n",
       "  <tbody>\n",
       "    <tr>\n",
       "      <th>1</th>\n",
       "      <td>0</td>\n",
       "      <td>0.00002</td>\n",
       "      <td>0.00006</td>\n",
       "      <td>0.00006</td>\n",
       "      <td>314.2</td>\n",
       "    </tr>\n",
       "    <tr>\n",
       "      <th>8</th>\n",
       "      <td>1</td>\n",
       "      <td>0.00002</td>\n",
       "      <td>0.00006</td>\n",
       "      <td>0.00006</td>\n",
       "      <td>314.2</td>\n",
       "    </tr>\n",
       "    <tr>\n",
       "      <th>15</th>\n",
       "      <td>2</td>\n",
       "      <td>0.00002</td>\n",
       "      <td>0.00006</td>\n",
       "      <td>0.00006</td>\n",
       "      <td>314.2</td>\n",
       "    </tr>\n",
       "    <tr>\n",
       "      <th>22</th>\n",
       "      <td>3</td>\n",
       "      <td>0.00002</td>\n",
       "      <td>0.00006</td>\n",
       "      <td>0.00006</td>\n",
       "      <td>314.2</td>\n",
       "    </tr>\n",
       "    <tr>\n",
       "      <th>29</th>\n",
       "      <td>4</td>\n",
       "      <td>0.00002</td>\n",
       "      <td>0.00006</td>\n",
       "      <td>0.00006</td>\n",
       "      <td>314.2</td>\n",
       "    </tr>\n",
       "  </tbody>\n",
       "</table>\n",
       "</div>"
      ],
      "text/plain": [
       "    Solution #  Initial Condition  Steady State  Total N  Convergence Time\n",
       "1            0            0.00002       0.00006  0.00006             314.2\n",
       "8            1            0.00002       0.00006  0.00006             314.2\n",
       "15           2            0.00002       0.00006  0.00006             314.2\n",
       "22           3            0.00002       0.00006  0.00006             314.2\n",
       "29           4            0.00002       0.00006  0.00006             314.2"
      ]
     },
     "execution_count": 19,
     "metadata": {},
     "output_type": "execute_result"
    }
   ],
   "source": [
    "Nr_df.head()"
   ]
  },
  {
   "cell_type": "code",
   "execution_count": 11,
   "id": "07428ca8",
   "metadata": {},
   "outputs": [],
   "source": [
    "#Filtering individual state data sets; want solutions that converge in the last 20 days\n",
    "\n",
    "Nn_df_filtered = Nn_df[Nn_df['Convergence Time'] > 680]\n",
    "Nr_df_filtered = Nr_df[Nr_df['Convergence Time'] > 680]\n",
    "Pu_df_filtered = Pu_df[Pu_df['Convergence Time'] > 680]\n",
    "Pi_df_filtered = Pi_df[Pi_df['Convergence Time'] > 680]\n",
    "Z_df_filtered  = Z_df [Z_df ['Convergence Time'] > 680]\n",
    "Vi_df_filtered = Vi_df[Vi_df['Convergence Time'] > 680]\n",
    "Ve_df_filtered = Ve_df[Ve_df['Convergence Time'] > 680]\n",
    "\n",
    "\n",
    "filtered_state_lists = (Nn_df_filtered, \n",
    "                        Nr_df_filtered, \n",
    "                        Pu_df_filtered, \n",
    "                        Pi_df_filtered, \n",
    "                        Z_df_filtered , \n",
    "                        Vi_df_filtered, \n",
    "                        Ve_df_filtered)\n"
   ]
  },
  {
   "cell_type": "code",
   "execution_count": 27,
   "id": "52836452",
   "metadata": {},
   "outputs": [
    {
     "name": "stdout",
     "output_type": "stream",
     "text": [
      "Len: 98\n"
     ]
    },
    {
     "data": {
      "text/html": [
       "<div>\n",
       "<style scoped>\n",
       "    .dataframe tbody tr th:only-of-type {\n",
       "        vertical-align: middle;\n",
       "    }\n",
       "\n",
       "    .dataframe tbody tr th {\n",
       "        vertical-align: top;\n",
       "    }\n",
       "\n",
       "    .dataframe thead th {\n",
       "        text-align: right;\n",
       "    }\n",
       "</style>\n",
       "<table border=\"1\" class=\"dataframe\">\n",
       "  <thead>\n",
       "    <tr style=\"text-align: right;\">\n",
       "      <th></th>\n",
       "      <th>Solution #</th>\n",
       "      <th>Initial Condition</th>\n",
       "      <th>Steady State</th>\n",
       "      <th>Total N</th>\n",
       "      <th>Convergence Time</th>\n",
       "    </tr>\n",
       "  </thead>\n",
       "  <tbody>\n",
       "    <tr>\n",
       "      <th>13763</th>\n",
       "      <td>1966</td>\n",
       "      <td>0.002</td>\n",
       "      <td>0.00378</td>\n",
       "      <td>0.004093</td>\n",
       "      <td>699.9</td>\n",
       "    </tr>\n",
       "  </tbody>\n",
       "</table>\n",
       "</div>"
      ],
      "text/plain": [
       "       Solution #  Initial Condition  Steady State   Total N  Convergence Time\n",
       "13763        1966              0.002       0.00378  0.004093             699.9"
      ]
     },
     "execution_count": 27,
     "metadata": {},
     "output_type": "execute_result"
    }
   ],
   "source": [
    "print(f'Len: {len(Nr_df_filtered)}')\n",
    "\n",
    "Nr_df_filtered.describe()\n",
    "Nr_df_filtered[Nr_df_filtered['Solution #'] == 1966]"
   ]
  },
  {
   "cell_type": "code",
   "execution_count": 25,
   "id": "619bcce0",
   "metadata": {
    "scrolled": false
   },
   "outputs": [
    {
     "name": "stdout",
     "output_type": "stream",
     "text": [
      "Solution Number: 1966\n",
      "Solution Number: 1967\n",
      "Solution Number: 1968\n",
      "Solution Number: 1969\n",
      "Solution Number: 2040\n"
     ]
    },
    {
     "data": {
      "image/png": "[encoded data removed]",
      "text/plain": [
       "<Figure size 1000x400 with 1 Axes>"
      ]
     },
     "metadata": {},
     "output_type": "display_data"
    }
   ],
   "source": [
    "#Plot long term convergent solutions by state variable\n",
    "plt.figure(figsize=(10, 4))\n",
    "\n",
    "#Plotting all Nr solutions that converge after 680 days\n",
    "\n",
    "for k in Nr_df_filtered['Solution #'][50:55]:\n",
    "    \n",
    "    print(f'Solution Number: {k}')\n",
    "    \n",
    "    sol = ss_sols[k][1]\n",
    "    plt.plot(sol.t, sol.y[1])\n",
    "\n",
    "plt.title(\"Long Convergence Solutions for Nr\")\n",
    "plt.xlabel('Time (Days)')\n",
    "plt.ylabel('mmol N / m^3')\n",
    "plt.grid(alpha=.3)\n",
    "plt.show()"
   ]
  },
  {
   "cell_type": "code",
   "execution_count": null,
   "id": "581c95b6",
   "metadata": {},
   "outputs": [],
   "source": []
  },
  {
   "cell_type": "markdown",
   "id": "cc0c2bb8",
   "metadata": {},
   "source": [
    "***Invesigation into patterns of convergence...***"
   ]
  },
  {
   "cell_type": "code",
   "execution_count": null,
   "id": "37930cf5",
   "metadata": {},
   "outputs": [],
   "source": [
    "# Convergence histograms illustrating distribution of convergence times \n",
    "%matplotlib inline\n",
    "\n",
    "fig, axs = plt.subplots(2, 3, figsize=(15, 8), constrained_layout = True)\n",
    "\n",
    "count = 1 # starts at 1 to skip N_n\n",
    "for row in range(2):\n",
    "    for col in range(3):\n",
    "        \n",
    "        axs[row][col].hist(state_lists[count]['Convergence Time'], color='black', bins=35)\n",
    "        axs[row][col].set_title(labels[count] + ' Convergence Time')\n",
    "        axs[row][col].grid(alpha=.3)\n",
    "        \n",
    "        #axs[row][col].set_yscale('log')\n",
    "        axs[row][col].set_xlim(-15, 515)\n",
    "        axs[row][col].set_xlabel('Time (days)')\n",
    "        count += 1"
   ]
  },
  {
   "cell_type": "code",
   "execution_count": null,
   "id": "bc8086a8",
   "metadata": {},
   "outputs": [],
   "source": [
    "#What are all the solutions hat converge at the end time span?\n",
    "ss_or_osc(filtered[0][1])\n"
   ]
  },
  {
   "cell_type": "code",
   "execution_count": null,
   "id": "df2f5188",
   "metadata": {
    "code_folding": []
   },
   "outputs": [],
   "source": [
    "#What are all the solutions that converge at the end time span?\n",
    "\n",
    "fig, axs = plt.subplots(2, 3, figsize=(25, 10))\n",
    "fig.subplots_adjust(bottom=0.3, wspace=0.5)\n",
    "\n",
    "\n",
    "filtered = [ss_sols[i] for i in filtered_500['Solution #'][3000:3025]]\n",
    "\n",
    "for i, (z0, solution, ss, conv_time) in enumerate(filtered):\n",
    "\n",
    "    axs[0][0].plot(solution.t, solution.y[1])\n",
    "    axs[0][0].scatter(solution.t[conv_time], solution.y[1][conv_time], color='red')\n",
    "    axs[0][0].set_ylabel(r'N_r mmol N / $m^3$', fontsize=12)\n",
    "    \n",
    "    axs[0][1].plot(solution.t, solution.y[2])\n",
    "    axs[0][1].scatter(solution.t[conv_time], solution.y[2][conv_time], color='red')\n",
    "    axs[0][1].set_ylabel(r'P_U mmol N / $m^3$', fontsize=12)\n",
    "    \n",
    "    axs[0][2].plot(solution.t, solution.y[3])\n",
    "    axs[0][2].scatter(solution.t[conv_time], solution.y[3][conv_time], color='red')\n",
    "    axs[0][2].set_ylabel(r'P_I mmol N / $m^3$', fontsize=12)\n",
    "    \n",
    "    axs[1][0].plot(solution.t, solution.y[4])\n",
    "    axs[1][0].scatter(solution.t[conv_time], solution.y[4][conv_time], color='red')\n",
    "    axs[1][0].set_ylabel(r'Z mmol N / $m^3$', fontsize=12)\n",
    "    \n",
    "    axs[1][1].plot(solution.t, solution.y[5], label = f\"N_T = {sum(z0):<10.3} z0 = {z0}\")\n",
    "    axs[1][1].scatter(solution.t[conv_time], solution.y[5][conv_time], color='red')\n",
    "    axs[1][1].set_ylabel(r'V_I mmol N / $m^3$', fontsize=12)\n",
    "    \n",
    "    axs[1][2].plot(solution.t, solution.y[6])\n",
    "    axs[1][2].scatter(solution.t[conv_time], solution.y[6][conv_time], color='red')\n",
    "    axs[1][2].set_ylabel(r'V_E mmol N / $m^3$', fontsize=12)\n",
    "    \n",
    "    \n",
    "for ax in axs:\n",
    "    for subax in ax:\n",
    "        subax.grid(alpha=.3)\n",
    "        subax.set_xlabel('Time (days)', fontsize=12)\n",
    "        subax.set_xlim(-10, 510)\n",
    "        subax.set_yscale('log')\n",
    "#        subax.set_ylim(1e-4, 1e-3)\n",
    "        \n",
    "plt.tight_layout()\n",
    "#axs[0][1].set_ylim(1e-10, 1e2)\n",
    "#axs[1][1].legend(loc='upper center', bbox_to_anchor=(0.5, -0.3))\n",
    "\n",
    "\n"
   ]
  },
  {
   "cell_type": "code",
   "execution_count": null,
   "id": "c1dd5a11",
   "metadata": {},
   "outputs": [],
   "source": [
    "#oscillatory SOLUTIONS WITH periods longer than last ten percent are missed\n",
    "\n",
    "state = 2\n",
    "plt.plot(filtered[0][1].t, filtered[0][1].y[state])\n",
    "plt.plot(filtered[0][1].t[filtered[0][3][state]], filtered[0][1].y[state][filtered[0][3][state]], 'o', color='red')\n",
    "plt.yscale('log')\n",
    "plt.grid(alpha=.3)\n",
    "\n"
   ]
  },
  {
   "cell_type": "code",
   "execution_count": null,
   "id": "5aa962e1",
   "metadata": {},
   "outputs": [],
   "source": [
    "ss_or_osc(filtered[0][1])"
   ]
  },
  {
   "cell_type": "code",
   "execution_count": null,
   "id": "2602ee67",
   "metadata": {},
   "outputs": [],
   "source": []
  }
 ],
 "metadata": {
  "kernelspec": {
   "display_name": "Python 3 (ipykernel)",
   "language": "python",
   "name": "python3"
  },
  "language_info": {
   "codemirror_mode": {
    "name": "ipython",
    "version": 3
   },
   "file_extension": ".py",
   "mimetype": "text/x-python",
   "name": "python",
   "nbconvert_exporter": "python",
   "pygments_lexer": "ipython3",
   "version": "3.10.10"
  }
 },
 "nbformat": 4,
 "nbformat_minor": 5
}
